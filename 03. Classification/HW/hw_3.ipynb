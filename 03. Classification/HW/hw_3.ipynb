{
 "cells": [
  {
   "cell_type": "markdown",
   "id": "a3700545",
   "metadata": {},
   "source": [
    "## Solution for HW - 3: Classification"
   ]
  },
  {
   "cell_type": "code",
   "execution_count": 31,
   "id": "5fe23538",
   "metadata": {},
   "outputs": [],
   "source": [
    "import numpy as np \n",
    "import pandas as pd \n",
    "import matplotlib.pyplot as plt \n",
    "import seaborn as sns\n",
    "\n",
    "from sklearn import linear_model\n",
    "from sklearn import metrics\n",
    "from sklearn.model_selection import train_test_split\n",
    "from sklearn.metrics import mutual_info_score"
   ]
  },
  {
   "cell_type": "code",
   "execution_count": 3,
   "id": "40b08177",
   "metadata": {},
   "outputs": [
    {
     "data": {
      "application/vnd.microsoft.datawrangler.viewer.v0+json": {
       "columns": [
        {
         "name": "index",
         "rawType": "int64",
         "type": "integer"
        },
        {
         "name": "lead_source",
         "rawType": "object",
         "type": "string"
        },
        {
         "name": "industry",
         "rawType": "object",
         "type": "unknown"
        },
        {
         "name": "number_of_courses_viewed",
         "rawType": "int64",
         "type": "integer"
        },
        {
         "name": "annual_income",
         "rawType": "float64",
         "type": "float"
        },
        {
         "name": "employment_status",
         "rawType": "object",
         "type": "string"
        },
        {
         "name": "location",
         "rawType": "object",
         "type": "string"
        },
        {
         "name": "interaction_count",
         "rawType": "int64",
         "type": "integer"
        },
        {
         "name": "lead_score",
         "rawType": "float64",
         "type": "float"
        },
        {
         "name": "converted",
         "rawType": "int64",
         "type": "integer"
        }
       ],
       "ref": "350a8de1-3677-4843-8b3b-cb1eb1082bfe",
       "rows": [
        [
         "0",
         "paid_ads",
         null,
         "1",
         "79450.0",
         "unemployed",
         "south_america",
         "4",
         "0.94",
         "1"
        ],
        [
         "1",
         "social_media",
         "retail",
         "1",
         "46992.0",
         "employed",
         "south_america",
         "1",
         "0.8",
         "0"
        ],
        [
         "2",
         "events",
         "healthcare",
         "5",
         "78796.0",
         "unemployed",
         "australia",
         "3",
         "0.69",
         "1"
        ]
       ],
       "shape": {
        "columns": 9,
        "rows": 3
       }
      },
      "text/html": [
       "<div>\n",
       "<style scoped>\n",
       "    .dataframe tbody tr th:only-of-type {\n",
       "        vertical-align: middle;\n",
       "    }\n",
       "\n",
       "    .dataframe tbody tr th {\n",
       "        vertical-align: top;\n",
       "    }\n",
       "\n",
       "    .dataframe thead th {\n",
       "        text-align: right;\n",
       "    }\n",
       "</style>\n",
       "<table border=\"1\" class=\"dataframe\">\n",
       "  <thead>\n",
       "    <tr style=\"text-align: right;\">\n",
       "      <th></th>\n",
       "      <th>lead_source</th>\n",
       "      <th>industry</th>\n",
       "      <th>number_of_courses_viewed</th>\n",
       "      <th>annual_income</th>\n",
       "      <th>employment_status</th>\n",
       "      <th>location</th>\n",
       "      <th>interaction_count</th>\n",
       "      <th>lead_score</th>\n",
       "      <th>converted</th>\n",
       "    </tr>\n",
       "  </thead>\n",
       "  <tbody>\n",
       "    <tr>\n",
       "      <th>0</th>\n",
       "      <td>paid_ads</td>\n",
       "      <td>NaN</td>\n",
       "      <td>1</td>\n",
       "      <td>79450.0</td>\n",
       "      <td>unemployed</td>\n",
       "      <td>south_america</td>\n",
       "      <td>4</td>\n",
       "      <td>0.94</td>\n",
       "      <td>1</td>\n",
       "    </tr>\n",
       "    <tr>\n",
       "      <th>1</th>\n",
       "      <td>social_media</td>\n",
       "      <td>retail</td>\n",
       "      <td>1</td>\n",
       "      <td>46992.0</td>\n",
       "      <td>employed</td>\n",
       "      <td>south_america</td>\n",
       "      <td>1</td>\n",
       "      <td>0.80</td>\n",
       "      <td>0</td>\n",
       "    </tr>\n",
       "    <tr>\n",
       "      <th>2</th>\n",
       "      <td>events</td>\n",
       "      <td>healthcare</td>\n",
       "      <td>5</td>\n",
       "      <td>78796.0</td>\n",
       "      <td>unemployed</td>\n",
       "      <td>australia</td>\n",
       "      <td>3</td>\n",
       "      <td>0.69</td>\n",
       "      <td>1</td>\n",
       "    </tr>\n",
       "  </tbody>\n",
       "</table>\n",
       "</div>"
      ],
      "text/plain": [
       "    lead_source    industry  number_of_courses_viewed  annual_income  \\\n",
       "0      paid_ads         NaN                         1        79450.0   \n",
       "1  social_media      retail                         1        46992.0   \n",
       "2        events  healthcare                         5        78796.0   \n",
       "\n",
       "  employment_status       location  interaction_count  lead_score  converted  \n",
       "0        unemployed  south_america                  4        0.94          1  \n",
       "1          employed  south_america                  1        0.80          0  \n",
       "2        unemployed      australia                  3        0.69          1  "
      ]
     },
     "execution_count": 3,
     "metadata": {},
     "output_type": "execute_result"
    }
   ],
   "source": [
    "df = pd.read_csv('data/course_lead_scoring.csv')\n",
    "df.head(3)"
   ]
  },
  {
   "cell_type": "code",
   "execution_count": 7,
   "id": "2f95e356",
   "metadata": {},
   "outputs": [
    {
     "data": {
      "application/vnd.microsoft.datawrangler.viewer.v0+json": {
       "columns": [
        {
         "name": "index",
         "rawType": "object",
         "type": "string"
        },
        {
         "name": "0",
         "rawType": "object",
         "type": "unknown"
        },
        {
         "name": "1",
         "rawType": "object",
         "type": "unknown"
        },
        {
         "name": "2",
         "rawType": "object",
         "type": "unknown"
        }
       ],
       "ref": "ccbc44d2-17cf-429d-bd59-81702821e65d",
       "rows": [
        [
         "lead_source",
         "paid_ads",
         "social_media",
         "events"
        ],
        [
         "industry",
         null,
         "retail",
         "healthcare"
        ],
        [
         "number_of_courses_viewed",
         "1",
         "1",
         "5"
        ],
        [
         "annual_income",
         "79450.0",
         "46992.0",
         "78796.0"
        ],
        [
         "employment_status",
         "unemployed",
         "employed",
         "unemployed"
        ],
        [
         "location",
         "south_america",
         "south_america",
         "australia"
        ],
        [
         "interaction_count",
         "4",
         "1",
         "3"
        ],
        [
         "lead_score",
         "0.94",
         "0.8",
         "0.69"
        ],
        [
         "converted",
         "1",
         "0",
         "1"
        ]
       ],
       "shape": {
        "columns": 3,
        "rows": 9
       }
      },
      "text/html": [
       "<div>\n",
       "<style scoped>\n",
       "    .dataframe tbody tr th:only-of-type {\n",
       "        vertical-align: middle;\n",
       "    }\n",
       "\n",
       "    .dataframe tbody tr th {\n",
       "        vertical-align: top;\n",
       "    }\n",
       "\n",
       "    .dataframe thead th {\n",
       "        text-align: right;\n",
       "    }\n",
       "</style>\n",
       "<table border=\"1\" class=\"dataframe\">\n",
       "  <thead>\n",
       "    <tr style=\"text-align: right;\">\n",
       "      <th></th>\n",
       "      <th>0</th>\n",
       "      <th>1</th>\n",
       "      <th>2</th>\n",
       "    </tr>\n",
       "  </thead>\n",
       "  <tbody>\n",
       "    <tr>\n",
       "      <th>lead_source</th>\n",
       "      <td>paid_ads</td>\n",
       "      <td>social_media</td>\n",
       "      <td>events</td>\n",
       "    </tr>\n",
       "    <tr>\n",
       "      <th>industry</th>\n",
       "      <td>NaN</td>\n",
       "      <td>retail</td>\n",
       "      <td>healthcare</td>\n",
       "    </tr>\n",
       "    <tr>\n",
       "      <th>number_of_courses_viewed</th>\n",
       "      <td>1</td>\n",
       "      <td>1</td>\n",
       "      <td>5</td>\n",
       "    </tr>\n",
       "    <tr>\n",
       "      <th>annual_income</th>\n",
       "      <td>79450.0</td>\n",
       "      <td>46992.0</td>\n",
       "      <td>78796.0</td>\n",
       "    </tr>\n",
       "    <tr>\n",
       "      <th>employment_status</th>\n",
       "      <td>unemployed</td>\n",
       "      <td>employed</td>\n",
       "      <td>unemployed</td>\n",
       "    </tr>\n",
       "    <tr>\n",
       "      <th>location</th>\n",
       "      <td>south_america</td>\n",
       "      <td>south_america</td>\n",
       "      <td>australia</td>\n",
       "    </tr>\n",
       "    <tr>\n",
       "      <th>interaction_count</th>\n",
       "      <td>4</td>\n",
       "      <td>1</td>\n",
       "      <td>3</td>\n",
       "    </tr>\n",
       "    <tr>\n",
       "      <th>lead_score</th>\n",
       "      <td>0.94</td>\n",
       "      <td>0.8</td>\n",
       "      <td>0.69</td>\n",
       "    </tr>\n",
       "    <tr>\n",
       "      <th>converted</th>\n",
       "      <td>1</td>\n",
       "      <td>0</td>\n",
       "      <td>1</td>\n",
       "    </tr>\n",
       "  </tbody>\n",
       "</table>\n",
       "</div>"
      ],
      "text/plain": [
       "                                      0              1           2\n",
       "lead_source                    paid_ads   social_media      events\n",
       "industry                            NaN         retail  healthcare\n",
       "number_of_courses_viewed              1              1           5\n",
       "annual_income                   79450.0        46992.0     78796.0\n",
       "employment_status            unemployed       employed  unemployed\n",
       "location                  south_america  south_america   australia\n",
       "interaction_count                     4              1           3\n",
       "lead_score                         0.94            0.8        0.69\n",
       "converted                             1              0           1"
      ]
     },
     "execution_count": 7,
     "metadata": {},
     "output_type": "execute_result"
    }
   ],
   "source": [
    "df.head(3).T"
   ]
  },
  {
   "cell_type": "markdown",
   "id": "82834958",
   "metadata": {},
   "source": [
    "### 🧹 Data Preparation\n",
    "\n",
    "Check if the missing values are presented in the features.  \n",
    "\n",
    "If there are missing values:  \n",
    "- For **categorical features**, replace them with `'NA'`  \n",
    "- For **numerical features**, replace them with `0.0`"
   ]
  },
  {
   "cell_type": "code",
   "execution_count": 6,
   "id": "b4508ed0",
   "metadata": {},
   "outputs": [
    {
     "data": {
      "application/vnd.microsoft.datawrangler.viewer.v0+json": {
       "columns": [
        {
         "name": "index",
         "rawType": "object",
         "type": "string"
        },
        {
         "name": "0",
         "rawType": "int64",
         "type": "integer"
        }
       ],
       "ref": "567df3b5-ba93-4756-9054-59e48e41e6af",
       "rows": [
        [
         "annual_income",
         "181"
        ],
        [
         "industry",
         "134"
        ],
        [
         "lead_source",
         "128"
        ],
        [
         "employment_status",
         "100"
        ],
        [
         "location",
         "63"
        ],
        [
         "number_of_courses_viewed",
         "0"
        ],
        [
         "interaction_count",
         "0"
        ],
        [
         "lead_score",
         "0"
        ],
        [
         "converted",
         "0"
        ]
       ],
       "shape": {
        "columns": 1,
        "rows": 9
       }
      },
      "text/plain": [
       "annual_income               181\n",
       "industry                    134\n",
       "lead_source                 128\n",
       "employment_status           100\n",
       "location                     63\n",
       "number_of_courses_viewed      0\n",
       "interaction_count             0\n",
       "lead_score                    0\n",
       "converted                     0\n",
       "dtype: int64"
      ]
     },
     "execution_count": 6,
     "metadata": {},
     "output_type": "execute_result"
    }
   ],
   "source": [
    "df.isnull().sum().sort_values(ascending=False)"
   ]
  },
  {
   "cell_type": "code",
   "execution_count": 8,
   "id": "9bfb6400",
   "metadata": {},
   "outputs": [
    {
     "data": {
      "application/vnd.microsoft.datawrangler.viewer.v0+json": {
       "columns": [
        {
         "name": "index",
         "rawType": "object",
         "type": "string"
        },
        {
         "name": "0",
         "rawType": "object",
         "type": "unknown"
        }
       ],
       "ref": "f352b24a-7c5e-446c-9e78-2236227208d9",
       "rows": [
        [
         "lead_source",
         "object"
        ],
        [
         "industry",
         "object"
        ],
        [
         "number_of_courses_viewed",
         "int64"
        ],
        [
         "annual_income",
         "float64"
        ],
        [
         "employment_status",
         "object"
        ],
        [
         "location",
         "object"
        ],
        [
         "interaction_count",
         "int64"
        ],
        [
         "lead_score",
         "float64"
        ],
        [
         "converted",
         "int64"
        ]
       ],
       "shape": {
        "columns": 1,
        "rows": 9
       }
      },
      "text/plain": [
       "lead_source                  object\n",
       "industry                     object\n",
       "number_of_courses_viewed      int64\n",
       "annual_income               float64\n",
       "employment_status            object\n",
       "location                     object\n",
       "interaction_count             int64\n",
       "lead_score                  float64\n",
       "converted                     int64\n",
       "dtype: object"
      ]
     },
     "execution_count": 8,
     "metadata": {},
     "output_type": "execute_result"
    }
   ],
   "source": [
    "df.dtypes"
   ]
  },
  {
   "cell_type": "code",
   "execution_count": 15,
   "id": "8df4c433",
   "metadata": {},
   "outputs": [
    {
     "data": {
      "text/plain": [
       "['lead_source', 'industry', 'employment_status', 'location']"
      ]
     },
     "metadata": {},
     "output_type": "display_data"
    },
    {
     "data": {
      "text/plain": [
       "['number_of_courses_viewed',\n",
       " 'annual_income',\n",
       " 'interaction_count',\n",
       " 'lead_score',\n",
       " 'converted']"
      ]
     },
     "metadata": {},
     "output_type": "display_data"
    }
   ],
   "source": [
    "categorical_col = list(df.dtypes[df.dtypes == 'object'].index)\n",
    "display(categorical_col)\n",
    "\n",
    "numeric_col = list(df.dtypes[(df.dtypes == 'int64') | (df.dtypes == 'float64')].index)\n",
    "display(numeric_col)"
   ]
  },
  {
   "cell_type": "code",
   "execution_count": 17,
   "id": "6f6a0c6f",
   "metadata": {},
   "outputs": [],
   "source": [
    "df[categorical_col] = df[categorical_col].fillna('NA')\n",
    "df[numeric_col] = df[numeric_col].fillna(0)"
   ]
  },
  {
   "cell_type": "code",
   "execution_count": null,
   "id": "54b1311e",
   "metadata": {},
   "outputs": [
    {
     "data": {
      "application/vnd.microsoft.datawrangler.viewer.v0+json": {
       "columns": [
        {
         "name": "index",
         "rawType": "object",
         "type": "string"
        },
        {
         "name": "0",
         "rawType": "int64",
         "type": "integer"
        }
       ],
       "ref": "952426e7-bc4d-4378-8e9b-119e53749ff9",
       "rows": [
        [
         "lead_source",
         "0"
        ],
        [
         "industry",
         "0"
        ],
        [
         "number_of_courses_viewed",
         "0"
        ],
        [
         "annual_income",
         "0"
        ],
        [
         "employment_status",
         "0"
        ],
        [
         "location",
         "0"
        ],
        [
         "interaction_count",
         "0"
        ],
        [
         "lead_score",
         "0"
        ],
        [
         "converted",
         "0"
        ]
       ],
       "shape": {
        "columns": 1,
        "rows": 9
       }
      },
      "text/plain": [
       "lead_source                 0\n",
       "industry                    0\n",
       "number_of_courses_viewed    0\n",
       "annual_income               0\n",
       "employment_status           0\n",
       "location                    0\n",
       "interaction_count           0\n",
       "lead_score                  0\n",
       "converted                   0\n",
       "dtype: int64"
      ]
     },
     "execution_count": 18,
     "metadata": {},
     "output_type": "execute_result"
    }
   ],
   "source": [
    "# Check if we have any missing number - No\n",
    "df.isnull().sum().sort_values(ascending=False)"
   ]
  },
  {
   "cell_type": "markdown",
   "id": "0a8933e6",
   "metadata": {},
   "source": [
    " - 1.  What is the most frequent observation (mode) for the column industry?"
   ]
  },
  {
   "cell_type": "code",
   "execution_count": 19,
   "id": "59da377c",
   "metadata": {},
   "outputs": [
    {
     "data": {
      "application/vnd.microsoft.datawrangler.viewer.v0+json": {
       "columns": [
        {
         "name": "index",
         "rawType": "int64",
         "type": "integer"
        },
        {
         "name": "industry",
         "rawType": "object",
         "type": "string"
        }
       ],
       "ref": "0bba7873-5593-47ae-ac46-072f05ea5b99",
       "rows": [
        [
         "0",
         "retail"
        ]
       ],
       "shape": {
        "columns": 1,
        "rows": 1
       }
      },
      "text/plain": [
       "0    retail\n",
       "Name: industry, dtype: object"
      ]
     },
     "execution_count": 19,
     "metadata": {},
     "output_type": "execute_result"
    }
   ],
   "source": [
    "df.industry.mode()"
   ]
  },
  {
   "cell_type": "markdown",
   "id": "3b357b9a",
   "metadata": {},
   "source": [
    "- 2. Create the **correlation matrix** for the numerical features of your dataset.  \n",
    "In a correlation matrix, you compute the **correlation coefficient** between every pair of numerical features.\n",
    "\n",
    "Now, identify **which two features** among the following have the **highest correlation**:\n",
    "\n",
    "- `interaction_count` and `lead_score`  \n",
    "- `number_of_courses_viewed` and `lead_score`  \n",
    "- `number_of_courses_viewed` and `interaction_count`  \n",
    "- `annual_income` and `interaction_count`  "
   ]
  },
  {
   "cell_type": "code",
   "execution_count": 26,
   "id": "70a50172",
   "metadata": {},
   "outputs": [
    {
     "name": "stdout",
     "output_type": "stream",
     "text": [
      "The pair with the highest correlation is ('annual_income', 'interaction_count') with correlation = 0.027\n"
     ]
    }
   ],
   "source": [
    "# Correlation matrix\n",
    "corr = df.corr(numeric_only=True).round(3)\n",
    "\n",
    "# Define the pairs to compare\n",
    "pairs = {\n",
    "    ('interaction_count', 'lead_score'): corr.loc['interaction_count', 'lead_score'],\n",
    "    ('number_of_courses_viewed', 'lead_score'): corr.loc['number_of_courses_viewed', 'lead_score'],\n",
    "    ('number_of_courses_viewed', 'interaction_count'): corr.loc['number_of_courses_viewed', 'interaction_count'],\n",
    "    ('annual_income', 'interaction_count'): corr.loc['annual_income', 'interaction_count']\n",
    "}\n",
    "\n",
    "# Find the pair with the highest correlation - pairs.get is a function that retrieves the value for a given key\n",
    "max_pair = max(pairs, key=pairs.get) # Find the key in the dictionary whose value (correlation coefficient) is the largest\n",
    "max_value = pairs[max_pair]\n",
    "\n",
    "print(f\"The pair with the highest correlation is {max_pair} with correlation = {max_value:.3f}\")"
   ]
  },
  {
   "cell_type": "markdown",
   "id": "5bf6f718",
   "metadata": {},
   "source": [
    "Split your dataset into **train**, **validation**, and **test** sets with the following proportions:\n",
    "\n",
    "- **Training set:** 60%  \n",
    "- **Validation set:** 20%  \n",
    "- **Test set:** 20%  \n",
    "\n",
    "Use **Scikit-Learn’s** `train_test_split` function and set the random seed to `42` for reproducibility.  \n",
    "\n",
    "Make sure that the **target variable** (the one you’re trying to predict) is **not included** in your feature dataframe."
   ]
  },
  {
   "cell_type": "code",
   "execution_count": 30,
   "id": "81acd458",
   "metadata": {},
   "outputs": [],
   "source": [
    "df_full_train, df_test = train_test_split(df,\n",
    "                        test_size=0.2,\n",
    "                        random_state=1\n",
    "                        )\n",
    "df_train, df_val = train_test_split(df_full_train,\n",
    "                        test_size=0.25,\n",
    "                        random_state=1)"
   ]
  },
  {
   "cell_type": "code",
   "execution_count": 32,
   "id": "0631f602",
   "metadata": {},
   "outputs": [
    {
     "data": {
      "text/plain": [
       "(876, 293, 293)"
      ]
     },
     "execution_count": 32,
     "metadata": {},
     "output_type": "execute_result"
    }
   ],
   "source": [
    "len(df_train), len(df_val), len(df_test)"
   ]
  },
  {
   "cell_type": "code",
   "execution_count": 33,
   "id": "8b635abf",
   "metadata": {},
   "outputs": [],
   "source": [
    "df_train = df_train.reset_index(drop=True)\n",
    "df_val = df_val.reset_index(drop=True)\n",
    "df_test = df_test.reset_index(drop=True)"
   ]
  },
  {
   "cell_type": "code",
   "execution_count": 35,
   "id": "d684ddbf",
   "metadata": {},
   "outputs": [],
   "source": [
    "# .values ensures that we take the values of the churn variable. Otherwise, we will take an index and the values.\n",
    "y_train = df_train.converted.values\n",
    "y_val = df_val.converted.values\n",
    "y_test = df_test.converted.values\n",
    "\n",
    "# Delete the outcome variable so that we don't use it as a control variable\n",
    "del df_train['converted']\n",
    "del df_val['converted']\n",
    "del df_test['converted']"
   ]
  },
  {
   "cell_type": "markdown",
   "id": "9f48c6ff",
   "metadata": {},
   "source": [
    "- 3. Calculate the **mutual information score** between the target variable `converted` and the other **categorical variables** in the dataset.  \n",
    "Use **only the training set** for this calculation.\n",
    "\n",
    "Round each score to **2 decimal places** using `round(score, 2)`.\n",
    "\n",
    "Identify which of the following variables has the **highest mutual information score**:\n",
    "\n",
    "- `industry`  \n",
    "- `location`  \n",
    "- `lead_source`  \n",
    "- `employment_status`  \n"
   ]
  },
  {
   "cell_type": "code",
   "execution_count": 36,
   "id": "b5337ed2",
   "metadata": {},
   "outputs": [],
   "source": [
    "def mutual_info_score_func(series):\n",
    "    return mutual_info_score(series, df_full_train.converted).round(4)"
   ]
  },
  {
   "cell_type": "code",
   "execution_count": 37,
   "id": "87c1ee74",
   "metadata": {},
   "outputs": [
    {
     "data": {
      "application/vnd.microsoft.datawrangler.viewer.v0+json": {
       "columns": [
        {
         "name": "index",
         "rawType": "object",
         "type": "string"
        },
        {
         "name": "0",
         "rawType": "float64",
         "type": "float"
        }
       ],
       "ref": "058d2a33-a90a-4903-8d61-f2977b1b9e14",
       "rows": [
        [
         "lead_source",
         "0.0246"
        ],
        [
         "employment_status",
         "0.0127"
        ],
        [
         "industry",
         "0.0082"
        ],
        [
         "location",
         "0.0012"
        ]
       ],
       "shape": {
        "columns": 1,
        "rows": 4
       }
      },
      "text/plain": [
       "lead_source          0.0246\n",
       "employment_status    0.0127\n",
       "industry             0.0082\n",
       "location             0.0012\n",
       "dtype: float64"
      ]
     },
     "execution_count": 37,
     "metadata": {},
     "output_type": "execute_result"
    }
   ],
   "source": [
    "mi = df_full_train[categorical_col].apply(mutual_info_score_func)\n",
    "mi.sort_values(ascending=False)"
   ]
  }
 ],
 "metadata": {
  "kernelspec": {
   "display_name": "base",
   "language": "python",
   "name": "python3"
  },
  "language_info": {
   "codemirror_mode": {
    "name": "ipython",
    "version": 3
   },
   "file_extension": ".py",
   "mimetype": "text/x-python",
   "name": "python",
   "nbconvert_exporter": "python",
   "pygments_lexer": "ipython3",
   "version": "3.12.7"
  }
 },
 "nbformat": 4,
 "nbformat_minor": 5
}
