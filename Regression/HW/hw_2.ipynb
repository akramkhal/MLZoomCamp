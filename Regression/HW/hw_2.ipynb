{
 "cells": [
  {
   "cell_type": "markdown",
   "id": "734b6e03",
   "metadata": {},
   "source": [
    "- Import libraries"
   ]
  },
  {
   "cell_type": "code",
   "execution_count": 1,
   "id": "b86b6b4f",
   "metadata": {},
   "outputs": [],
   "source": [
    "import numpy as np\n",
    "import pandas as pd \n",
    "from sklearn import linear_model\n",
    "from sklearn import metrics\n",
    "from sklearn import preprocessing\n",
    "from sklearn.model_selection import train_test_split\n",
    "import matplotlib.pyplot as plt"
   ]
  },
  {
   "cell_type": "markdown",
   "id": "c2f4bbe8",
   "metadata": {},
   "source": [
    "- Import data"
   ]
  },
  {
   "cell_type": "code",
   "execution_count": 2,
   "id": "55aa6e7e",
   "metadata": {},
   "outputs": [
    {
     "data": {
      "application/vnd.microsoft.datawrangler.viewer.v0+json": {
       "columns": [
        {
         "name": "index",
         "rawType": "int64",
         "type": "integer"
        },
        {
         "name": "engine_displacement",
         "rawType": "int64",
         "type": "integer"
        },
        {
         "name": "num_cylinders",
         "rawType": "float64",
         "type": "float"
        },
        {
         "name": "horsepower",
         "rawType": "float64",
         "type": "float"
        },
        {
         "name": "vehicle_weight",
         "rawType": "float64",
         "type": "float"
        },
        {
         "name": "acceleration",
         "rawType": "float64",
         "type": "float"
        },
        {
         "name": "model_year",
         "rawType": "int64",
         "type": "integer"
        },
        {
         "name": "origin",
         "rawType": "object",
         "type": "string"
        },
        {
         "name": "fuel_type",
         "rawType": "object",
         "type": "string"
        },
        {
         "name": "drivetrain",
         "rawType": "object",
         "type": "string"
        },
        {
         "name": "num_doors",
         "rawType": "float64",
         "type": "float"
        },
        {
         "name": "fuel_efficiency_mpg",
         "rawType": "float64",
         "type": "float"
        }
       ],
       "ref": "92e7c74e-58d7-40f6-bf76-576ce7dafe09",
       "rows": [
        [
         "0",
         "170",
         "3.0",
         "159.0",
         "3413.433758606219",
         "17.7",
         "2003",
         "Europe",
         "Gasoline",
         "All-wheel drive",
         "0.0",
         "13.231728906241411"
        ],
        [
         "1",
         "130",
         "5.0",
         "97.0",
         "3149.664934220036",
         "17.8",
         "2007",
         "USA",
         "Gasoline",
         "Front-wheel drive",
         "0.0",
         "13.688217435463793"
        ],
        [
         "2",
         "170",
         null,
         "78.0",
         "3079.03899736884",
         "15.1",
         "2018",
         "Europe",
         "Gasoline",
         "Front-wheel drive",
         "0.0",
         "14.246340998160866"
        ]
       ],
       "shape": {
        "columns": 11,
        "rows": 3
       }
      },
      "text/html": [
       "<div>\n",
       "<style scoped>\n",
       "    .dataframe tbody tr th:only-of-type {\n",
       "        vertical-align: middle;\n",
       "    }\n",
       "\n",
       "    .dataframe tbody tr th {\n",
       "        vertical-align: top;\n",
       "    }\n",
       "\n",
       "    .dataframe thead th {\n",
       "        text-align: right;\n",
       "    }\n",
       "</style>\n",
       "<table border=\"1\" class=\"dataframe\">\n",
       "  <thead>\n",
       "    <tr style=\"text-align: right;\">\n",
       "      <th></th>\n",
       "      <th>engine_displacement</th>\n",
       "      <th>num_cylinders</th>\n",
       "      <th>horsepower</th>\n",
       "      <th>vehicle_weight</th>\n",
       "      <th>acceleration</th>\n",
       "      <th>model_year</th>\n",
       "      <th>origin</th>\n",
       "      <th>fuel_type</th>\n",
       "      <th>drivetrain</th>\n",
       "      <th>num_doors</th>\n",
       "      <th>fuel_efficiency_mpg</th>\n",
       "    </tr>\n",
       "  </thead>\n",
       "  <tbody>\n",
       "    <tr>\n",
       "      <th>0</th>\n",
       "      <td>170</td>\n",
       "      <td>3.0</td>\n",
       "      <td>159.0</td>\n",
       "      <td>3413.433759</td>\n",
       "      <td>17.7</td>\n",
       "      <td>2003</td>\n",
       "      <td>Europe</td>\n",
       "      <td>Gasoline</td>\n",
       "      <td>All-wheel drive</td>\n",
       "      <td>0.0</td>\n",
       "      <td>13.231729</td>\n",
       "    </tr>\n",
       "    <tr>\n",
       "      <th>1</th>\n",
       "      <td>130</td>\n",
       "      <td>5.0</td>\n",
       "      <td>97.0</td>\n",
       "      <td>3149.664934</td>\n",
       "      <td>17.8</td>\n",
       "      <td>2007</td>\n",
       "      <td>USA</td>\n",
       "      <td>Gasoline</td>\n",
       "      <td>Front-wheel drive</td>\n",
       "      <td>0.0</td>\n",
       "      <td>13.688217</td>\n",
       "    </tr>\n",
       "    <tr>\n",
       "      <th>2</th>\n",
       "      <td>170</td>\n",
       "      <td>NaN</td>\n",
       "      <td>78.0</td>\n",
       "      <td>3079.038997</td>\n",
       "      <td>15.1</td>\n",
       "      <td>2018</td>\n",
       "      <td>Europe</td>\n",
       "      <td>Gasoline</td>\n",
       "      <td>Front-wheel drive</td>\n",
       "      <td>0.0</td>\n",
       "      <td>14.246341</td>\n",
       "    </tr>\n",
       "  </tbody>\n",
       "</table>\n",
       "</div>"
      ],
      "text/plain": [
       "   engine_displacement  num_cylinders  horsepower  vehicle_weight  \\\n",
       "0                  170            3.0       159.0     3413.433759   \n",
       "1                  130            5.0        97.0     3149.664934   \n",
       "2                  170            NaN        78.0     3079.038997   \n",
       "\n",
       "   acceleration  model_year  origin fuel_type         drivetrain  num_doors  \\\n",
       "0          17.7        2003  Europe  Gasoline    All-wheel drive        0.0   \n",
       "1          17.8        2007     USA  Gasoline  Front-wheel drive        0.0   \n",
       "2          15.1        2018  Europe  Gasoline  Front-wheel drive        0.0   \n",
       "\n",
       "   fuel_efficiency_mpg  \n",
       "0            13.231729  \n",
       "1            13.688217  \n",
       "2            14.246341  "
      ]
     },
     "metadata": {},
     "output_type": "display_data"
    },
    {
     "data": {
      "text/plain": [
       "(9704, 11)"
      ]
     },
     "metadata": {},
     "output_type": "display_data"
    }
   ],
   "source": [
    "# wget https://raw.githubusercontent.com/alexeygrigorev/datasets/master/car_fuel_efficiency.csv\n",
    "car_df = pd.read_csv('data/car_fuel_efficiency.csv', sep=',')\n",
    "display(car_df.head(3))\n",
    "display(car_df.shape)"
   ]
  },
  {
   "cell_type": "code",
   "execution_count": 3,
   "id": "39d0b2a8",
   "metadata": {},
   "outputs": [
    {
     "name": "stdout",
     "output_type": "stream",
     "text": [
      "<class 'pandas.core.frame.DataFrame'>\n",
      "RangeIndex: 9704 entries, 0 to 9703\n",
      "Data columns (total 11 columns):\n",
      " #   Column               Non-Null Count  Dtype  \n",
      "---  ------               --------------  -----  \n",
      " 0   engine_displacement  9704 non-null   int64  \n",
      " 1   num_cylinders        9222 non-null   float64\n",
      " 2   horsepower           8996 non-null   float64\n",
      " 3   vehicle_weight       9704 non-null   float64\n",
      " 4   acceleration         8774 non-null   float64\n",
      " 5   model_year           9704 non-null   int64  \n",
      " 6   origin               9704 non-null   object \n",
      " 7   fuel_type            9704 non-null   object \n",
      " 8   drivetrain           9704 non-null   object \n",
      " 9   num_doors            9202 non-null   float64\n",
      " 10  fuel_efficiency_mpg  9704 non-null   float64\n",
      "dtypes: float64(6), int64(2), object(3)\n",
      "memory usage: 834.1+ KB\n"
     ]
    },
    {
     "data": {
      "text/plain": [
       "None"
      ]
     },
     "metadata": {},
     "output_type": "display_data"
    },
    {
     "data": {
      "application/vnd.microsoft.datawrangler.viewer.v0+json": {
       "columns": [
        {
         "name": "index",
         "rawType": "int64",
         "type": "integer"
        },
        {
         "name": "engine_displacement",
         "rawType": "int64",
         "type": "integer"
        },
        {
         "name": "horsepower",
         "rawType": "float64",
         "type": "float"
        },
        {
         "name": "vehicle_weight",
         "rawType": "float64",
         "type": "float"
        },
        {
         "name": "model_year",
         "rawType": "int64",
         "type": "integer"
        },
        {
         "name": "fuel_efficiency_mpg",
         "rawType": "float64",
         "type": "float"
        }
       ],
       "ref": "1baaa871-f116-475e-a298-aae404f90d6f",
       "rows": [
        [
         "0",
         "170",
         "159.0",
         "3413.433758606219",
         "2003",
         "13.231728906241411"
        ],
        [
         "1",
         "130",
         "97.0",
         "3149.664934220036",
         "2007",
         "13.688217435463793"
        ],
        [
         "2",
         "170",
         "78.0",
         "3079.03899736884",
         "2018",
         "14.246340998160866"
        ]
       ],
       "shape": {
        "columns": 5,
        "rows": 3
       }
      },
      "text/html": [
       "<div>\n",
       "<style scoped>\n",
       "    .dataframe tbody tr th:only-of-type {\n",
       "        vertical-align: middle;\n",
       "    }\n",
       "\n",
       "    .dataframe tbody tr th {\n",
       "        vertical-align: top;\n",
       "    }\n",
       "\n",
       "    .dataframe thead th {\n",
       "        text-align: right;\n",
       "    }\n",
       "</style>\n",
       "<table border=\"1\" class=\"dataframe\">\n",
       "  <thead>\n",
       "    <tr style=\"text-align: right;\">\n",
       "      <th></th>\n",
       "      <th>engine_displacement</th>\n",
       "      <th>horsepower</th>\n",
       "      <th>vehicle_weight</th>\n",
       "      <th>model_year</th>\n",
       "      <th>fuel_efficiency_mpg</th>\n",
       "    </tr>\n",
       "  </thead>\n",
       "  <tbody>\n",
       "    <tr>\n",
       "      <th>0</th>\n",
       "      <td>170</td>\n",
       "      <td>159.0</td>\n",
       "      <td>3413.433759</td>\n",
       "      <td>2003</td>\n",
       "      <td>13.231729</td>\n",
       "    </tr>\n",
       "    <tr>\n",
       "      <th>1</th>\n",
       "      <td>130</td>\n",
       "      <td>97.0</td>\n",
       "      <td>3149.664934</td>\n",
       "      <td>2007</td>\n",
       "      <td>13.688217</td>\n",
       "    </tr>\n",
       "    <tr>\n",
       "      <th>2</th>\n",
       "      <td>170</td>\n",
       "      <td>78.0</td>\n",
       "      <td>3079.038997</td>\n",
       "      <td>2018</td>\n",
       "      <td>14.246341</td>\n",
       "    </tr>\n",
       "  </tbody>\n",
       "</table>\n",
       "</div>"
      ],
      "text/plain": [
       "   engine_displacement  horsepower  vehicle_weight  model_year  \\\n",
       "0                  170       159.0     3413.433759        2003   \n",
       "1                  130        97.0     3149.664934        2007   \n",
       "2                  170        78.0     3079.038997        2018   \n",
       "\n",
       "   fuel_efficiency_mpg  \n",
       "0            13.231729  \n",
       "1            13.688217  \n",
       "2            14.246341  "
      ]
     },
     "metadata": {},
     "output_type": "display_data"
    }
   ],
   "source": [
    "display(car_df.info())\n",
    "work_df = car_df[['engine_displacement', 'horsepower', 'vehicle_weight', 'model_year', 'fuel_efficiency_mpg']]\n",
    "display(work_df.head(3))"
   ]
  },
  {
   "cell_type": "code",
   "execution_count": 4,
   "id": "044a86dd",
   "metadata": {},
   "outputs": [
    {
     "data": {
      "image/png": "[encoded data removed]",
      "text/plain": [
       "<Figure size 640x480 with 1 Axes>"
      ]
     },
     "metadata": {},
     "output_type": "display_data"
    }
   ],
   "source": [
    "plt.hist(car_df['fuel_efficiency_mpg'], \n",
    "         bins=40, \n",
    "         edgecolor='black')\n",
    "plt.title('Fuel Efficiency (MPG)')\n",
    "plt.xlabel('MPG')\n",
    "plt.ylabel('Frequency')\n",
    "plt.show()"
   ]
  },
  {
   "cell_type": "markdown",
   "id": "354f9ca9",
   "metadata": {},
   "source": [
    "#### Question 1\n",
    "- First, display columns and their missing observations\n",
    "- Second, keep columns with missing observation"
   ]
  },
  {
   "cell_type": "code",
   "execution_count": 5,
   "id": "184bc2ae",
   "metadata": {},
   "outputs": [
    {
     "data": {
      "application/vnd.microsoft.datawrangler.viewer.v0+json": {
       "columns": [
        {
         "name": "index",
         "rawType": "object",
         "type": "string"
        },
        {
         "name": "0",
         "rawType": "int64",
         "type": "integer"
        }
       ],
       "ref": "f32be421-a7d8-4b36-86b1-02ebe44a9f7d",
       "rows": [
        [
         "engine_displacement",
         "0"
        ],
        [
         "horsepower",
         "708"
        ],
        [
         "vehicle_weight",
         "0"
        ],
        [
         "model_year",
         "0"
        ],
        [
         "fuel_efficiency_mpg",
         "0"
        ]
       ],
       "shape": {
        "columns": 1,
        "rows": 5
       }
      },
      "text/plain": [
       "engine_displacement      0\n",
       "horsepower             708\n",
       "vehicle_weight           0\n",
       "model_year               0\n",
       "fuel_efficiency_mpg      0\n",
       "dtype: int64"
      ]
     },
     "metadata": {},
     "output_type": "display_data"
    },
    {
     "data": {
      "text/plain": [
       "['horsepower']"
      ]
     },
     "metadata": {},
     "output_type": "display_data"
    }
   ],
   "source": [
    "display(work_df.isnull().sum())\n",
    "missing_col = work_df.columns[work_df.isnull().any()].tolist()\n",
    "display(missing_col)"
   ]
  },
  {
   "cell_type": "markdown",
   "id": "99cfe1e0",
   "metadata": {},
   "source": [
    "#### Question 2\n",
    "- Median for the variable `horsepower`"
   ]
  },
  {
   "cell_type": "code",
   "execution_count": 6,
   "id": "af0c3386",
   "metadata": {},
   "outputs": [
    {
     "data": {
      "text/plain": [
       "149.0"
      ]
     },
     "metadata": {},
     "output_type": "display_data"
    }
   ],
   "source": [
    "display(work_df['horsepower'].median())"
   ]
  },
  {
   "cell_type": "markdown",
   "id": "1b9f7557",
   "metadata": {},
   "source": [
    "#### Question 3\n",
    "- We need to deal with missing values for the column from Q1.\n",
    "- We have two options: fill it with 0 or with the mean of this variable.\n",
    "- Try both options. For each, train a linear regression model without regularization using the code from the lessons.\n",
    "- For computing the mean, use the training only!\n",
    "- Use the validation dataset to evaluate the models and compare the RMSE of each option.\n",
    "- Round the RMSE scores to 2 decimal digits using round(score, 2)\n",
    "- Which option gives better RMSE?\n",
    "\n",
    "Options:\n",
    "- With 0\n",
    "- With mean\n",
    "- Both are equally good"
   ]
  },
  {
   "cell_type": "markdown",
   "id": "3dbc4418",
   "metadata": {},
   "source": [
    "##### Attempt 1: Fill missing values with zeros"
   ]
  },
  {
   "cell_type": "code",
   "execution_count": 7,
   "id": "f8a750e8",
   "metadata": {},
   "outputs": [],
   "source": [
    "# Fill columns with missing values with zeros\n",
    "car_df_zero = work_df.copy()\n",
    "car_df_zero['horsepower'] = car_df_zero['horsepower'].fillna(0)"
   ]
  },
  {
   "cell_type": "code",
   "execution_count": 8,
   "id": "85e18774",
   "metadata": {},
   "outputs": [],
   "source": [
    "# Shuffle with seed 42\n",
    "# frac=1.0 → take 100% of the rows (so you get all rows, but shuffled).\n",
    "# reset_index() → creates a new, clean index (0, 1, 2, …) for the DataFrame. drop=True → tells Pandas not to keep that old index column — it’s discarded instead of added as a column.\n",
    "data_shuffled = car_df_zero.sample(frac=1.0, random_state=42).reset_index(drop=True)\n",
    "\n",
    "# 60/20/20 split\n",
    "n = len(data_shuffled)\n",
    "n_train = int(n * 0.6)\n",
    "n_val = int(n * 0.2)\n",
    "n_test = n - n_train - n_val\n",
    "\n",
    "train_df = data_shuffled.iloc[:n_train].copy()\n",
    "val_df   = data_shuffled.iloc[n_train:n_train+n_val].copy()\n",
    "test_df  = data_shuffled.iloc[n_train+n_val:].copy()"
   ]
  },
  {
   "cell_type": "code",
   "execution_count": 9,
   "id": "2cfee3fe",
   "metadata": {},
   "outputs": [
    {
     "name": "stdout",
     "output_type": "stream",
     "text": [
      "Train shape: (5822, 5)\n",
      "Validation shape: (1940, 5)\n",
      "Test shape: (1942, 5)\n"
     ]
    }
   ],
   "source": [
    "# Let's print the dimension of the datasets\n",
    "print(f'Train shape: {train_df.shape}')\n",
    "print(f'Validation shape: {val_df.shape}')\n",
    "print(f'Test shape: {test_df.shape}')"
   ]
  },
  {
   "cell_type": "code",
   "execution_count": 10,
   "id": "124e72a5",
   "metadata": {},
   "outputs": [],
   "source": [
    "# Split the dataset into observation matrix X (features) and target vector y\n",
    "X_train = train_df.drop('fuel_efficiency_mpg', axis=1)\n",
    "y_train = train_df['fuel_efficiency_mpg']\n",
    "\n",
    "X_valid = val_df.drop('fuel_efficiency_mpg', axis=1)\n",
    "y_valid = val_df['fuel_efficiency_mpg']\n",
    "\n",
    "X_test = test_df.drop('fuel_efficiency_mpg', axis=1)\n",
    "y_test = test_df['fuel_efficiency_mpg']"
   ]
  },
  {
   "cell_type": "code",
   "execution_count": 11,
   "id": "53fa97e3",
   "metadata": {},
   "outputs": [
    {
     "name": "stdout",
     "output_type": "stream",
     "text": [
      "Train RMSE: 0.52\n",
      "Validation RMSE: 0.52\n",
      "Test RMSE: 0.52\n"
     ]
    }
   ],
   "source": [
    "# Train and evaluate\n",
    "lr = linear_model.LinearRegression()\n",
    "lr.fit(X_train, y_train)\n",
    "y_train_pred = lr.predict(X_train)\n",
    "y_valid_pred = lr.predict(X_valid)\n",
    "y_test_pred = lr.predict(X_test)\n",
    "\n",
    "print(f'Train RMSE: {np.sqrt(metrics.mean_squared_error(y_train, y_train_pred)):.2f}')\n",
    "print(f'Validation RMSE: {np.sqrt(metrics.mean_squared_error(y_valid_pred, y_valid)):.2f}')\n",
    "print(f'Test RMSE: {np.sqrt(metrics.mean_squared_error(y_test, y_test_pred)):.2f}')"
   ]
  },
  {
   "cell_type": "markdown",
   "id": "7be6a301",
   "metadata": {},
   "source": [
    "##### Attempt 2: Fill missing values with average of `horsepower`"
   ]
  },
  {
   "cell_type": "code",
   "execution_count": 12,
   "id": "8cd1b66b",
   "metadata": {},
   "outputs": [],
   "source": [
    "# Shuffle with seed 42\n",
    "# frac=1.0 → take 100% of the rows (so you get all rows, but shuffled).\n",
    "# reset_index() → creates a new, clean index (0, 1, 2, …) for the DataFrame. drop=True → tells Pandas not to keep that old index column — it’s discarded instead of added as a column.\n",
    "data_shuffled = work_df.sample(frac=1.0, random_state=42).reset_index(drop=True)\n",
    "\n",
    "# 60/20/20 split\n",
    "n = len(data_shuffled)\n",
    "n_train = int(n * 0.6)\n",
    "n_val = int(n * 0.2)\n",
    "n_test = n - n_train - n_val\n",
    "\n",
    "train_df = data_shuffled.iloc[:n_train].copy()\n",
    "val_df   = data_shuffled.iloc[n_train:n_train+n_val].copy()\n",
    "test_df  = data_shuffled.iloc[n_train+n_val:].copy()"
   ]
  },
  {
   "cell_type": "markdown",
   "id": "1fafa7a7",
   "metadata": {},
   "source": [
    "- Replace missing values"
   ]
  },
  {
   "cell_type": "code",
   "execution_count": 13,
   "id": "129114b4",
   "metadata": {},
   "outputs": [],
   "source": [
    "mean_power = train_df['horsepower'].mean()\n",
    "train_df['horsepower'] = train_df['horsepower'].fillna(mean_power)\n",
    "val_df['horsepower'] = val_df['horsepower'].fillna(mean_power)\n",
    "test_df['horsepower'] = test_df['horsepower'].fillna(mean_power)"
   ]
  },
  {
   "cell_type": "code",
   "execution_count": 14,
   "id": "9cf59761",
   "metadata": {},
   "outputs": [],
   "source": [
    "# Split the dataset into observation matrix X (features) and target vector y\n",
    "X_train = train_df.drop('fuel_efficiency_mpg', axis=1)\n",
    "y_train = train_df['fuel_efficiency_mpg']\n",
    "\n",
    "X_valid = val_df.drop('fuel_efficiency_mpg', axis=1)\n",
    "y_valid = val_df['fuel_efficiency_mpg']\n",
    "\n",
    "X_test = test_df.drop('fuel_efficiency_mpg', axis=1)\n",
    "y_test = test_df['fuel_efficiency_mpg']"
   ]
  },
  {
   "cell_type": "code",
   "execution_count": 15,
   "id": "bebc6d7d",
   "metadata": {},
   "outputs": [
    {
     "name": "stdout",
     "output_type": "stream",
     "text": [
      "Train RMSE: 0.46\n",
      "Validation RMSE: 0.46\n",
      "Test RMSE: 0.46\n"
     ]
    }
   ],
   "source": [
    "# Train and evaluate\n",
    "lr = linear_model.LinearRegression()\n",
    "lr.fit(X_train, y_train)\n",
    "y_train_pred = lr.predict(X_train)\n",
    "y_valid_pred = lr.predict(X_valid)\n",
    "y_test_pred = lr.predict(X_test)\n",
    "\n",
    "print(f'Train RMSE: {np.sqrt(metrics.mean_squared_error(y_train, y_train_pred)):.2f}')\n",
    "print(f'Validation RMSE: {np.sqrt(metrics.mean_squared_error(y_valid_pred, y_valid)):.2f}')\n",
    "print(f'Test RMSE: {np.sqrt(metrics.mean_squared_error(y_test, y_test_pred)):.2f}')"
   ]
  },
  {
   "cell_type": "markdown",
   "id": "17fc908b",
   "metadata": {},
   "source": [
    "> RMSE is lower when we fill missing values with zeros"
   ]
  },
  {
   "cell_type": "markdown",
   "id": "93d3e0ba",
   "metadata": {},
   "source": [
    "#### Question 4\n",
    "\n",
    "Now let's train a **regularized linear regression**.\n",
    "\n",
    "- Fill missing values (NAs) with **0**.  \n",
    "- Try different values of **r** from this list: **[0, 0.01, 0.1, 1, 5, 10, 100]**.  \n",
    "- Use **RMSE** to evaluate the model on the **validation** dataset.  \n",
    "- **Round** RMSE scores to **2 decimal** digits.  \n",
    "- Which **r** gives the **best RMSE**?  \n",
    "  - If multiple options give the same best RMSE, select the **smallest r**.\n",
    "\n",
    "**Options:**\n",
    "- 0  \n",
    "- 0.01  \n",
    "- 1  \n",
    "- 10  \n",
    "- 100\n"
   ]
  },
  {
   "cell_type": "code",
   "execution_count": 34,
   "id": "50fd0fc0",
   "metadata": {},
   "outputs": [],
   "source": [
    "# Fill columns with missing values with zeros\n",
    "car_df_zero = work_df.copy()\n",
    "car_df_zero['horsepower'] = car_df_zero['horsepower'].fillna(0)\n",
    "\n",
    "# Shuffle with seed 42\n",
    "# frac=1.0 → take 100% of the rows (so you get all rows, but shuffled).\n",
    "# reset_index() → creates a new, clean index (0, 1, 2, …) for the DataFrame. drop=True → tells Pandas not to keep that old index column — it’s discarded instead of added as a column.\n",
    "data_shuffled = car_df_zero.sample(frac=1.0, random_state=42).reset_index(drop=True)\n",
    "\n",
    "# 60/20/20 split\n",
    "n = len(data_shuffled)\n",
    "n_train = int(n*0.6)\n",
    "n_val = int(n*0.2)\n",
    "n_test = n - n_train - n_val\n",
    "\n",
    "train_df = data_shuffled.iloc[:n_train].copy()\n",
    "val_df = data_shuffled.iloc[n_train:n_train+n_val].copy()\n",
    "test_df = data_shuffled.iloc[n_train+n_val:].copy()"
   ]
  },
  {
   "cell_type": "code",
   "execution_count": 35,
   "id": "9f941099",
   "metadata": {},
   "outputs": [],
   "source": [
    "# Split the dataset into observation matrix X (features) and target vector y\n",
    "X_train = train_df.drop('fuel_efficiency_mpg', axis=1)\n",
    "y_train = train_df['fuel_efficiency_mpg']\n",
    "\n",
    "X_valid = val_df.drop('fuel_efficiency_mpg', axis=1)\n",
    "y_valid = val_df['fuel_efficiency_mpg']\n",
    "\n",
    "X_test = test_df.drop('fuel_efficiency_mpg', axis=1)\n",
    "y_test = test_df['fuel_efficiency_mpg']"
   ]
  },
  {
   "cell_type": "code",
   "execution_count": 64,
   "id": "6342fb5d",
   "metadata": {},
   "outputs": [],
   "source": [
    "# INitialize the scaler\n",
    "scaler = preprocessing.StandardScaler()\n",
    "\n",
    "# Fit scaler on the Train set only (learns the scaling parameters from the training data such as mean and std deviation)\n",
    "scaler.fit(X_train)\n",
    "\n",
    "# Transform (i.e., standardize) train and test with the same scaler\n",
    "X_train_scaled = scaler.transform(X_train)\n",
    "X_valid_scaled  = scaler.transform(X_valid)\n",
    "X_test_scaled  = scaler.transform(X_test)"
   ]
  },
  {
   "cell_type": "code",
   "execution_count": 66,
   "id": "95667942",
   "metadata": {},
   "outputs": [],
   "source": [
    "# Train and evaluate\n",
    "alpha_list = [0, 0.01, 0.1, 1, 5, 10, 100]\n",
    "\n",
    "train_list = []\n",
    "valid_list = []\n",
    "\n",
    "for alpha in alpha_list:\n",
    "    lr = linear_model.Ridge(alpha=alpha)\n",
    "    lr.fit(X_train_scaled, y_train)\n",
    "    \n",
    "    y_train_pred = lr.predict(X_train_scaled)\n",
    "    y_valid_pred = lr.predict(X_valid_scaled)\n",
    "    \n",
    "    train_list.append(np.sqrt(metrics.mean_squared_error(y_train, y_train_pred)))\n",
    "    valid_list.append(np.sqrt(metrics.mean_squared_error(y_valid, y_valid_pred)))"
   ]
  },
  {
   "cell_type": "code",
   "execution_count": 69,
   "id": "593d6e9f",
   "metadata": {},
   "outputs": [
    {
     "name": "stdout",
     "output_type": "stream",
     "text": [
      "Best alpha: 0\n",
      "Minimum RMSE: 0.517187\n"
     ]
    }
   ],
   "source": [
    "min_rmse = min(valid_list)\n",
    "corrsp_alpha = alpha_list[valid_list.index(min_rmse)]\n",
    "print(f\"Best alpha: {corrsp_alpha}\")\n",
    "print(f\"Minimum RMSE: {min_rmse:.6f}\")"
   ]
  }
 ],
 "metadata": {
  "kernelspec": {
   "display_name": "base",
   "language": "python",
   "name": "python3"
  },
  "language_info": {
   "codemirror_mode": {
    "name": "ipython",
    "version": 3
   },
   "file_extension": ".py",
   "mimetype": "text/x-python",
   "name": "python",
   "nbconvert_exporter": "python",
   "pygments_lexer": "ipython3",
   "version": "3.12.7"
  }
 },
 "nbformat": 4,
 "nbformat_minor": 5
}
