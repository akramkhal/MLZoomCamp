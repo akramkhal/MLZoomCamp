{
 "cells": [
  {
   "cell_type": "markdown",
   "id": "97da25b3-b3ef-46e6-aaf2-16961f7c1371",
   "metadata": {
    "tags": []
   },
   "source": [
    "<h1 align=\"center\">Supervised Learning. Regression</h1>\n",
    "<h2 align=\"center\">Predicting Car Prices</h2>\n",
    "<p align=\"center\">\n",
    "  <img src=\"image/car_prj.png\" alt=\"Car Project\" width=\"400\">\n",
    "</p>"
   ]
  },
  {
   "cell_type": "markdown",
   "id": "7f94b241",
   "metadata": {},
   "source": [
    "1. Import libraries that is needed for the project"
   ]
  },
  {
   "cell_type": "code",
   "execution_count": 2,
   "id": "e5b95486-ee32-4eb5-8e11-a22db4793fc6",
   "metadata": {},
   "outputs": [],
   "source": [
    "import numpy as np              # for matrix computations\n",
    "import pandas as pd             # for data analysis & preprocessing\n",
    "import matplotlib.pyplot as plt # for visualization\n",
    "import seaborn as sns           # for visualization\n",
    "\n",
    "from sklearn import linear_model        # linear models\n",
    "from sklearn import metrics             # metrics\n",
    "from sklearn import preprocessing       # preprocessing\n",
    "from sklearn.model_selection import train_test_split  # train/test split\n",
    "import warnings # to supress warnings - will discuss this later"
   ]
  },
  {
   "cell_type": "markdown",
   "id": "124acaa5-f4d7-4679-b831-3999faae35b0",
   "metadata": {},
   "source": [
    "#### Stages of the project:\n",
    "1. **Business Understanding** — analysis of requirements  \n",
    "2. **Data Understanding** — exploration of data  \n",
    "3. **Data Preparation** — preprocessing and cleaning  \n",
    "4. **Modeling** — building predictive models  \n",
    "5. **Evaluation** — assessing model performance  \n",
    "6. **Deployment** — implementation of the model in practice  "
   ]
  },
  {
   "cell_type": "markdown",
   "id": "2464811d-e16c-47f9-9203-3e654da3a34f",
   "metadata": {},
   "source": [
    "### Business Understanding\n",
    "\n",
    "- Build an ML model that predicts the sale price of cars. The model’s average prediction error should be **$2,000**."
   ]
  },
  {
   "cell_type": "markdown",
   "id": "b4d1b1a6-9726-4606-99e6-bb8ef444a846",
   "metadata": {
    "tags": []
   },
   "source": [
    "2. Importing the data"
   ]
  },
  {
   "cell_type": "code",
   "execution_count": 3,
   "id": "7eaff962-cd3a-416f-b4f3-5ca4f859d175",
   "metadata": {},
   "outputs": [
    {
     "data": {
      "application/vnd.microsoft.datawrangler.viewer.v0+json": {
       "columns": [
        {
         "name": "index",
         "rawType": "int64",
         "type": "integer"
        },
        {
         "name": "model",
         "rawType": "object",
         "type": "string"
        },
        {
         "name": "year",
         "rawType": "int64",
         "type": "integer"
        },
        {
         "name": "price",
         "rawType": "int64",
         "type": "integer"
        },
        {
         "name": "transmission",
         "rawType": "object",
         "type": "string"
        },
        {
         "name": "mileage",
         "rawType": "int64",
         "type": "integer"
        },
        {
         "name": "fuelType",
         "rawType": "object",
         "type": "string"
        },
        {
         "name": "tax",
         "rawType": "int64",
         "type": "integer"
        },
        {
         "name": "mpg",
         "rawType": "float64",
         "type": "float"
        },
        {
         "name": "engineSize",
         "rawType": "float64",
         "type": "float"
        }
       ],
       "ref": "c76b9d52-c296-4560-bbf8-5ac4c64cb1f0",
       "rows": [
        [
         "0",
         " A1",
         "2017",
         "12500",
         "Manual",
         "15735",
         "Petrol",
         "150",
         "55.4",
         "1.4"
        ],
        [
         "1",
         " A6",
         "2016",
         "16500",
         "Automatic",
         "36203",
         "Diesel",
         "20",
         "64.2",
         "2.0"
        ],
        [
         "2",
         " A1",
         "2016",
         "11000",
         "Manual",
         "29946",
         "Petrol",
         "30",
         "55.4",
         "1.4"
        ]
       ],
       "shape": {
        "columns": 9,
        "rows": 3
       }
      },
      "text/html": [
       "<div>\n",
       "<style scoped>\n",
       "    .dataframe tbody tr th:only-of-type {\n",
       "        vertical-align: middle;\n",
       "    }\n",
       "\n",
       "    .dataframe tbody tr th {\n",
       "        vertical-align: top;\n",
       "    }\n",
       "\n",
       "    .dataframe thead th {\n",
       "        text-align: right;\n",
       "    }\n",
       "</style>\n",
       "<table border=\"1\" class=\"dataframe\">\n",
       "  <thead>\n",
       "    <tr style=\"text-align: right;\">\n",
       "      <th></th>\n",
       "      <th>model</th>\n",
       "      <th>year</th>\n",
       "      <th>price</th>\n",
       "      <th>transmission</th>\n",
       "      <th>mileage</th>\n",
       "      <th>fuelType</th>\n",
       "      <th>tax</th>\n",
       "      <th>mpg</th>\n",
       "      <th>engineSize</th>\n",
       "    </tr>\n",
       "  </thead>\n",
       "  <tbody>\n",
       "    <tr>\n",
       "      <th>0</th>\n",
       "      <td>A1</td>\n",
       "      <td>2017</td>\n",
       "      <td>12500</td>\n",
       "      <td>Manual</td>\n",
       "      <td>15735</td>\n",
       "      <td>Petrol</td>\n",
       "      <td>150</td>\n",
       "      <td>55.4</td>\n",
       "      <td>1.4</td>\n",
       "    </tr>\n",
       "    <tr>\n",
       "      <th>1</th>\n",
       "      <td>A6</td>\n",
       "      <td>2016</td>\n",
       "      <td>16500</td>\n",
       "      <td>Automatic</td>\n",
       "      <td>36203</td>\n",
       "      <td>Diesel</td>\n",
       "      <td>20</td>\n",
       "      <td>64.2</td>\n",
       "      <td>2.0</td>\n",
       "    </tr>\n",
       "    <tr>\n",
       "      <th>2</th>\n",
       "      <td>A1</td>\n",
       "      <td>2016</td>\n",
       "      <td>11000</td>\n",
       "      <td>Manual</td>\n",
       "      <td>29946</td>\n",
       "      <td>Petrol</td>\n",
       "      <td>30</td>\n",
       "      <td>55.4</td>\n",
       "      <td>1.4</td>\n",
       "    </tr>\n",
       "  </tbody>\n",
       "</table>\n",
       "</div>"
      ],
      "text/plain": [
       "  model  year  price transmission  mileage fuelType  tax   mpg  engineSize\n",
       "0    A1  2017  12500       Manual    15735   Petrol  150  55.4         1.4\n",
       "1    A6  2016  16500    Automatic    36203   Diesel   20  64.2         2.0\n",
       "2    A1  2016  11000       Manual    29946   Petrol   30  55.4         1.4"
      ]
     },
     "metadata": {},
     "output_type": "display_data"
    },
    {
     "data": {
      "application/vnd.microsoft.datawrangler.viewer.v0+json": {
       "columns": [
        {
         "name": "index",
         "rawType": "int64",
         "type": "integer"
        },
        {
         "name": "model",
         "rawType": "object",
         "type": "string"
        },
        {
         "name": "year",
         "rawType": "int64",
         "type": "integer"
        },
        {
         "name": "price",
         "rawType": "int64",
         "type": "integer"
        },
        {
         "name": "transmission",
         "rawType": "object",
         "type": "string"
        },
        {
         "name": "mileage",
         "rawType": "int64",
         "type": "integer"
        },
        {
         "name": "fuelType",
         "rawType": "object",
         "type": "string"
        },
        {
         "name": "tax",
         "rawType": "int64",
         "type": "integer"
        },
        {
         "name": "mpg",
         "rawType": "float64",
         "type": "float"
        },
        {
         "name": "engineSize",
         "rawType": "float64",
         "type": "float"
        }
       ],
       "ref": "43feaa32-cf96-4c68-9999-c4b7de3db773",
       "rows": [
        [
         "10665",
         " A3",
         "2020",
         "17199",
         "Manual",
         "609",
         "Petrol",
         "150",
         "49.6",
         "1.0"
        ],
        [
         "10666",
         " Q3",
         "2017",
         "19499",
         "Automatic",
         "8646",
         "Petrol",
         "150",
         "47.9",
         "1.4"
        ],
        [
         "10667",
         " Q3",
         "2016",
         "15999",
         "Manual",
         "11855",
         "Petrol",
         "150",
         "47.9",
         "1.4"
        ]
       ],
       "shape": {
        "columns": 9,
        "rows": 3
       }
      },
      "text/html": [
       "<div>\n",
       "<style scoped>\n",
       "    .dataframe tbody tr th:only-of-type {\n",
       "        vertical-align: middle;\n",
       "    }\n",
       "\n",
       "    .dataframe tbody tr th {\n",
       "        vertical-align: top;\n",
       "    }\n",
       "\n",
       "    .dataframe thead th {\n",
       "        text-align: right;\n",
       "    }\n",
       "</style>\n",
       "<table border=\"1\" class=\"dataframe\">\n",
       "  <thead>\n",
       "    <tr style=\"text-align: right;\">\n",
       "      <th></th>\n",
       "      <th>model</th>\n",
       "      <th>year</th>\n",
       "      <th>price</th>\n",
       "      <th>transmission</th>\n",
       "      <th>mileage</th>\n",
       "      <th>fuelType</th>\n",
       "      <th>tax</th>\n",
       "      <th>mpg</th>\n",
       "      <th>engineSize</th>\n",
       "    </tr>\n",
       "  </thead>\n",
       "  <tbody>\n",
       "    <tr>\n",
       "      <th>10665</th>\n",
       "      <td>A3</td>\n",
       "      <td>2020</td>\n",
       "      <td>17199</td>\n",
       "      <td>Manual</td>\n",
       "      <td>609</td>\n",
       "      <td>Petrol</td>\n",
       "      <td>150</td>\n",
       "      <td>49.6</td>\n",
       "      <td>1.0</td>\n",
       "    </tr>\n",
       "    <tr>\n",
       "      <th>10666</th>\n",
       "      <td>Q3</td>\n",
       "      <td>2017</td>\n",
       "      <td>19499</td>\n",
       "      <td>Automatic</td>\n",
       "      <td>8646</td>\n",
       "      <td>Petrol</td>\n",
       "      <td>150</td>\n",
       "      <td>47.9</td>\n",
       "      <td>1.4</td>\n",
       "    </tr>\n",
       "    <tr>\n",
       "      <th>10667</th>\n",
       "      <td>Q3</td>\n",
       "      <td>2016</td>\n",
       "      <td>15999</td>\n",
       "      <td>Manual</td>\n",
       "      <td>11855</td>\n",
       "      <td>Petrol</td>\n",
       "      <td>150</td>\n",
       "      <td>47.9</td>\n",
       "      <td>1.4</td>\n",
       "    </tr>\n",
       "  </tbody>\n",
       "</table>\n",
       "</div>"
      ],
      "text/plain": [
       "      model  year  price transmission  mileage fuelType  tax   mpg  engineSize\n",
       "10665    A3  2020  17199       Manual      609   Petrol  150  49.6         1.0\n",
       "10666    Q3  2017  19499    Automatic     8646   Petrol  150  47.9         1.4\n",
       "10667    Q3  2016  15999       Manual    11855   Petrol  150  47.9         1.4"
      ]
     },
     "metadata": {},
     "output_type": "display_data"
    }
   ],
   "source": [
    "# Upload the data\n",
    "car_data = pd.read_csv('data/CarData.zip')\n",
    "display(car_data.head(3))\n",
    "display(car_data.tail(3))"
   ]
  },
  {
   "cell_type": "markdown",
   "id": "9107f13d-1433-4d5b-820c-01e0005c35c2",
   "metadata": {},
   "source": [
    "Each car is described by the following features:\n",
    "1. **model** — car model\n",
    "2. **year** — year of manufacture\n",
    "3. **price** — price (target feature)\n",
    "4. **transmission** — transmission (manual, automatic, semi-automatic)\n",
    "5. **mileage** — mileage\n",
    "6. **fuelType** — engine type (petrol, diesel, hybrid)\n",
    "7. **tax** — tax\n",
    "9. **mpg** — fuel consumption\n",
    "10. **engineSize** — engine size"
   ]
  },
  {
   "cell_type": "markdown",
   "id": "433b62be",
   "metadata": {},
   "source": [
    "- Check and discuss the dimension of the data"
   ]
  },
  {
   "cell_type": "code",
   "execution_count": 4,
   "id": "5ceb3f39-7c28-49e7-ad7b-2f45c74b90c8",
   "metadata": {},
   "outputs": [
    {
     "data": {
      "text/plain": [
       "(10668, 9)"
      ]
     },
     "execution_count": 4,
     "metadata": {},
     "output_type": "execute_result"
    }
   ],
   "source": [
    "car_data.shape"
   ]
  },
  {
   "cell_type": "markdown",
   "id": "9c504cb8",
   "metadata": {},
   "source": [
    "- Present and discuss the summary of the DataFrame's structure"
   ]
  },
  {
   "cell_type": "code",
   "execution_count": 5,
   "id": "78650f69-ebef-4cf2-bdb1-9c48ee0983d9",
   "metadata": {},
   "outputs": [
    {
     "name": "stdout",
     "output_type": "stream",
     "text": [
      "<class 'pandas.core.frame.DataFrame'>\n",
      "RangeIndex: 10668 entries, 0 to 10667\n",
      "Data columns (total 9 columns):\n",
      " #   Column        Non-Null Count  Dtype  \n",
      "---  ------        --------------  -----  \n",
      " 0   model         10668 non-null  object \n",
      " 1   year          10668 non-null  int64  \n",
      " 2   price         10668 non-null  int64  \n",
      " 3   transmission  10668 non-null  object \n",
      " 4   mileage       10668 non-null  int64  \n",
      " 5   fuelType      10668 non-null  object \n",
      " 6   tax           10668 non-null  int64  \n",
      " 7   mpg           10668 non-null  float64\n",
      " 8   engineSize    10668 non-null  float64\n",
      "dtypes: float64(2), int64(4), object(3)\n",
      "memory usage: 750.2+ KB\n"
     ]
    }
   ],
   "source": [
    "car_data.info()"
   ]
  },
  {
   "cell_type": "markdown",
   "id": "60138730-f085-4198-b73a-988382c7c875",
   "metadata": {},
   "source": [
    "## <center> Attempt №1\n",
    "\n",
    "In the first attempt, we must determine whether the task is solvable and whether the model can achieve a **baseline** level of quality.  \n",
    "To do this, we perform a brief data exploration, basic preprocessing, and build a simple model **without** hyperparameter tuning."
   ]
  },
  {
   "cell_type": "markdown",
   "id": "0e540689-34aa-4542-8c57-ff224b398c22",
   "metadata": {},
   "source": [
    "### 3. Data Exploration"
   ]
  },
  {
   "cell_type": "markdown",
   "id": "c5f9d3b1-9814-4878-b618-1b071847a458",
   "metadata": {},
   "source": [
    "The goal of this step is to understand the weaknesses and strengths of the provided data, determine their sufficiency, assess relationships between features, and propose ideas on how to use them."
   ]
  },
  {
   "cell_type": "markdown",
   "id": "04bbe229-f18a-4398-9e7c-7e3ea4f42492",
   "metadata": {},
   "source": [
    "- Display and discuss descriptive statistics"
   ]
  },
  {
   "cell_type": "code",
   "execution_count": 6,
   "id": "e7f22f64-fc4b-4feb-af53-fb33a3dfb720",
   "metadata": {},
   "outputs": [
    {
     "data": {
      "application/vnd.microsoft.datawrangler.viewer.v0+json": {
       "columns": [
        {
         "name": "index",
         "rawType": "object",
         "type": "string"
        },
        {
         "name": "year",
         "rawType": "float64",
         "type": "float"
        },
        {
         "name": "price",
         "rawType": "float64",
         "type": "float"
        },
        {
         "name": "mileage",
         "rawType": "float64",
         "type": "float"
        },
        {
         "name": "tax",
         "rawType": "float64",
         "type": "float"
        },
        {
         "name": "mpg",
         "rawType": "float64",
         "type": "float"
        },
        {
         "name": "engineSize",
         "rawType": "float64",
         "type": "float"
        }
       ],
       "ref": "bc22fef9-1a49-4941-819e-da56e9ba5845",
       "rows": [
        [
         "count",
         "10668.0",
         "10668.0",
         "10668.0",
         "10668.0",
         "10668.0",
         "10668.0"
        ],
        [
         "mean",
         "2017.1006749156356",
         "22896.685039370077",
         "24827.244000749906",
         "126.01143607049119",
         "50.77002249718785",
         "1.9307086614173228"
        ],
        [
         "std",
         "2.1674937095701776",
         "11714.841888431965",
         "23505.25720541398",
         "67.17029383543188",
         "12.949781541040858",
         "0.6029566726455654"
        ],
        [
         "min",
         "1997.0",
         "1490.0",
         "1.0",
         "0.0",
         "18.9",
         "0.0"
        ],
        [
         "25%",
         "2016.0",
         "15130.75",
         "5968.75",
         "125.0",
         "40.9",
         "1.5"
        ],
        [
         "50%",
         "2017.0",
         "20200.0",
         "19000.0",
         "145.0",
         "49.6",
         "2.0"
        ],
        [
         "75%",
         "2019.0",
         "27990.0",
         "36464.5",
         "145.0",
         "58.9",
         "2.0"
        ],
        [
         "max",
         "2020.0",
         "145000.0",
         "323000.0",
         "580.0",
         "188.3",
         "6.3"
        ]
       ],
       "shape": {
        "columns": 6,
        "rows": 8
       }
      },
      "text/html": [
       "<div>\n",
       "<style scoped>\n",
       "    .dataframe tbody tr th:only-of-type {\n",
       "        vertical-align: middle;\n",
       "    }\n",
       "\n",
       "    .dataframe tbody tr th {\n",
       "        vertical-align: top;\n",
       "    }\n",
       "\n",
       "    .dataframe thead th {\n",
       "        text-align: right;\n",
       "    }\n",
       "</style>\n",
       "<table border=\"1\" class=\"dataframe\">\n",
       "  <thead>\n",
       "    <tr style=\"text-align: right;\">\n",
       "      <th></th>\n",
       "      <th>year</th>\n",
       "      <th>price</th>\n",
       "      <th>mileage</th>\n",
       "      <th>tax</th>\n",
       "      <th>mpg</th>\n",
       "      <th>engineSize</th>\n",
       "    </tr>\n",
       "  </thead>\n",
       "  <tbody>\n",
       "    <tr>\n",
       "      <th>count</th>\n",
       "      <td>10668.000000</td>\n",
       "      <td>10668.000000</td>\n",
       "      <td>10668.000000</td>\n",
       "      <td>10668.000000</td>\n",
       "      <td>10668.000000</td>\n",
       "      <td>10668.000000</td>\n",
       "    </tr>\n",
       "    <tr>\n",
       "      <th>mean</th>\n",
       "      <td>2017.100675</td>\n",
       "      <td>22896.685039</td>\n",
       "      <td>24827.244001</td>\n",
       "      <td>126.011436</td>\n",
       "      <td>50.770022</td>\n",
       "      <td>1.930709</td>\n",
       "    </tr>\n",
       "    <tr>\n",
       "      <th>std</th>\n",
       "      <td>2.167494</td>\n",
       "      <td>11714.841888</td>\n",
       "      <td>23505.257205</td>\n",
       "      <td>67.170294</td>\n",
       "      <td>12.949782</td>\n",
       "      <td>0.602957</td>\n",
       "    </tr>\n",
       "    <tr>\n",
       "      <th>min</th>\n",
       "      <td>1997.000000</td>\n",
       "      <td>1490.000000</td>\n",
       "      <td>1.000000</td>\n",
       "      <td>0.000000</td>\n",
       "      <td>18.900000</td>\n",
       "      <td>0.000000</td>\n",
       "    </tr>\n",
       "    <tr>\n",
       "      <th>25%</th>\n",
       "      <td>2016.000000</td>\n",
       "      <td>15130.750000</td>\n",
       "      <td>5968.750000</td>\n",
       "      <td>125.000000</td>\n",
       "      <td>40.900000</td>\n",
       "      <td>1.500000</td>\n",
       "    </tr>\n",
       "    <tr>\n",
       "      <th>50%</th>\n",
       "      <td>2017.000000</td>\n",
       "      <td>20200.000000</td>\n",
       "      <td>19000.000000</td>\n",
       "      <td>145.000000</td>\n",
       "      <td>49.600000</td>\n",
       "      <td>2.000000</td>\n",
       "    </tr>\n",
       "    <tr>\n",
       "      <th>75%</th>\n",
       "      <td>2019.000000</td>\n",
       "      <td>27990.000000</td>\n",
       "      <td>36464.500000</td>\n",
       "      <td>145.000000</td>\n",
       "      <td>58.900000</td>\n",
       "      <td>2.000000</td>\n",
       "    </tr>\n",
       "    <tr>\n",
       "      <th>max</th>\n",
       "      <td>2020.000000</td>\n",
       "      <td>145000.000000</td>\n",
       "      <td>323000.000000</td>\n",
       "      <td>580.000000</td>\n",
       "      <td>188.300000</td>\n",
       "      <td>6.300000</td>\n",
       "    </tr>\n",
       "  </tbody>\n",
       "</table>\n",
       "</div>"
      ],
      "text/plain": [
       "               year          price        mileage           tax           mpg  \\\n",
       "count  10668.000000   10668.000000   10668.000000  10668.000000  10668.000000   \n",
       "mean    2017.100675   22896.685039   24827.244001    126.011436     50.770022   \n",
       "std        2.167494   11714.841888   23505.257205     67.170294     12.949782   \n",
       "min     1997.000000    1490.000000       1.000000      0.000000     18.900000   \n",
       "25%     2016.000000   15130.750000    5968.750000    125.000000     40.900000   \n",
       "50%     2017.000000   20200.000000   19000.000000    145.000000     49.600000   \n",
       "75%     2019.000000   27990.000000   36464.500000    145.000000     58.900000   \n",
       "max     2020.000000  145000.000000  323000.000000    580.000000    188.300000   \n",
       "\n",
       "         engineSize  \n",
       "count  10668.000000  \n",
       "mean       1.930709  \n",
       "std        0.602957  \n",
       "min        0.000000  \n",
       "25%        1.500000  \n",
       "50%        2.000000  \n",
       "75%        2.000000  \n",
       "max        6.300000  "
      ]
     },
     "execution_count": 6,
     "metadata": {},
     "output_type": "execute_result"
    }
   ],
   "source": [
    "car_data.describe()"
   ]
  },
  {
   "cell_type": "markdown",
   "id": "7677fcbf",
   "metadata": {},
   "source": [
    "- Present descriptive statistics for variables with `object` datatype"
   ]
  },
  {
   "cell_type": "code",
   "execution_count": 7,
   "id": "bbc39afb-89ce-4962-a7dc-5881aa51cc2d",
   "metadata": {},
   "outputs": [
    {
     "data": {
      "application/vnd.microsoft.datawrangler.viewer.v0+json": {
       "columns": [
        {
         "name": "index",
         "rawType": "object",
         "type": "string"
        },
        {
         "name": "model",
         "rawType": "object",
         "type": "unknown"
        },
        {
         "name": "transmission",
         "rawType": "object",
         "type": "unknown"
        },
        {
         "name": "fuelType",
         "rawType": "object",
         "type": "unknown"
        }
       ],
       "ref": "73ec11f0-1af1-466b-928e-3a361a165184",
       "rows": [
        [
         "count",
         "10668",
         "10668",
         "10668"
        ],
        [
         "unique",
         "26",
         "3",
         "3"
        ],
        [
         "top",
         " A3",
         "Manual",
         "Diesel"
        ],
        [
         "freq",
         "1929",
         "4369",
         "5577"
        ]
       ],
       "shape": {
        "columns": 3,
        "rows": 4
       }
      },
      "text/html": [
       "<div>\n",
       "<style scoped>\n",
       "    .dataframe tbody tr th:only-of-type {\n",
       "        vertical-align: middle;\n",
       "    }\n",
       "\n",
       "    .dataframe tbody tr th {\n",
       "        vertical-align: top;\n",
       "    }\n",
       "\n",
       "    .dataframe thead th {\n",
       "        text-align: right;\n",
       "    }\n",
       "</style>\n",
       "<table border=\"1\" class=\"dataframe\">\n",
       "  <thead>\n",
       "    <tr style=\"text-align: right;\">\n",
       "      <th></th>\n",
       "      <th>model</th>\n",
       "      <th>transmission</th>\n",
       "      <th>fuelType</th>\n",
       "    </tr>\n",
       "  </thead>\n",
       "  <tbody>\n",
       "    <tr>\n",
       "      <th>count</th>\n",
       "      <td>10668</td>\n",
       "      <td>10668</td>\n",
       "      <td>10668</td>\n",
       "    </tr>\n",
       "    <tr>\n",
       "      <th>unique</th>\n",
       "      <td>26</td>\n",
       "      <td>3</td>\n",
       "      <td>3</td>\n",
       "    </tr>\n",
       "    <tr>\n",
       "      <th>top</th>\n",
       "      <td>A3</td>\n",
       "      <td>Manual</td>\n",
       "      <td>Diesel</td>\n",
       "    </tr>\n",
       "    <tr>\n",
       "      <th>freq</th>\n",
       "      <td>1929</td>\n",
       "      <td>4369</td>\n",
       "      <td>5577</td>\n",
       "    </tr>\n",
       "  </tbody>\n",
       "</table>\n",
       "</div>"
      ],
      "text/plain": [
       "        model transmission fuelType\n",
       "count   10668        10668    10668\n",
       "unique     26            3        3\n",
       "top        A3       Manual   Diesel\n",
       "freq     1929         4369     5577"
      ]
     },
     "execution_count": 7,
     "metadata": {},
     "output_type": "execute_result"
    }
   ],
   "source": [
    "car_data.describe(include='object')"
   ]
  },
  {
   "cell_type": "markdown",
   "id": "5428ae85",
   "metadata": {},
   "source": [
    "- Count how many times each unique car model appears in the dataset"
   ]
  },
  {
   "cell_type": "code",
   "execution_count": 8,
   "id": "e5303bbe",
   "metadata": {},
   "outputs": [
    {
     "data": {
      "application/vnd.microsoft.datawrangler.viewer.v0+json": {
       "columns": [
        {
         "name": "model",
         "rawType": "object",
         "type": "string"
        },
        {
         "name": "count",
         "rawType": "int64",
         "type": "integer"
        }
       ],
       "ref": "7a714976-ab9d-4d15-a402-7b2cae06f0af",
       "rows": [
        [
         " A3",
         "1929"
        ],
        [
         " Q3",
         "1417"
        ],
        [
         " A4",
         "1381"
        ],
        [
         " A1",
         "1347"
        ],
        [
         " A5",
         "882"
        ],
        [
         " Q5",
         "877"
        ],
        [
         " Q2",
         "822"
        ],
        [
         " A6",
         "748"
        ],
        [
         " Q7",
         "397"
        ],
        [
         " TT",
         "336"
        ],
        [
         " A7",
         "122"
        ],
        [
         " A8",
         "118"
        ],
        [
         " Q8",
         "69"
        ],
        [
         " RS6",
         "39"
        ],
        [
         " RS3",
         "33"
        ],
        [
         " RS4",
         "31"
        ],
        [
         " RS5",
         "29"
        ],
        [
         " R8",
         "28"
        ],
        [
         " S3",
         "18"
        ],
        [
         " SQ5",
         "16"
        ],
        [
         " S4",
         "12"
        ],
        [
         " SQ7",
         "8"
        ],
        [
         " S8",
         "4"
        ],
        [
         " S5",
         "3"
        ],
        [
         " A2",
         "1"
        ],
        [
         " RS7",
         "1"
        ]
       ],
       "shape": {
        "columns": 1,
        "rows": 26
       }
      },
      "text/plain": [
       "model\n",
       "A3     1929\n",
       "Q3     1417\n",
       "A4     1381\n",
       "A1     1347\n",
       "A5      882\n",
       "Q5      877\n",
       "Q2      822\n",
       "A6      748\n",
       "Q7      397\n",
       "TT      336\n",
       "A7      122\n",
       "A8      118\n",
       "Q8       69\n",
       "RS6      39\n",
       "RS3      33\n",
       "RS4      31\n",
       "RS5      29\n",
       "R8       28\n",
       "S3       18\n",
       "SQ5      16\n",
       "S4       12\n",
       "SQ7       8\n",
       "S8        4\n",
       "S5        3\n",
       "A2        1\n",
       "RS7       1\n",
       "Name: count, dtype: int64"
      ]
     },
     "execution_count": 8,
     "metadata": {},
     "output_type": "execute_result"
    }
   ],
   "source": [
    "car_data.model.value_counts()"
   ]
  },
  {
   "cell_type": "markdown",
   "id": "b8d5df68",
   "metadata": {},
   "source": [
    "- Create a copy of the dataset and work with this new copied sample"
   ]
  },
  {
   "cell_type": "code",
   "execution_count": 9,
   "id": "2a9abc92-efc8-4a62-b545-d78c390cdab8",
   "metadata": {},
   "outputs": [],
   "source": [
    "temp_data = car_data.copy()"
   ]
  },
  {
   "cell_type": "markdown",
   "id": "8683826b-0a8c-44be-bf38-1ec0da07be4b",
   "metadata": {},
   "source": [
    "- Do initial exploration of how the target variable **price** depends on the numerical features."
   ]
  },
  {
   "cell_type": "code",
   "execution_count": 10,
   "id": "8db47d82-14a7-41e1-a1a3-3b6b212e49a7",
   "metadata": {},
   "outputs": [
    {
     "data": {
      "text/plain": [
       "['year', 'price', 'mileage', 'tax', 'mpg', 'engineSize']"
      ]
     },
     "execution_count": 10,
     "metadata": {},
     "output_type": "execute_result"
    }
   ],
   "source": [
    "types = temp_data.dtypes\n",
    "num_features = list(types[(types != 'object')].index)\n",
    "num_features"
   ]
  },
  {
   "cell_type": "markdown",
   "id": "e7f12d8e-aadd-4d21-aac7-e0a6f91726c5",
   "metadata": {},
   "source": [
    " - For each numerical feature, build a histogram and a scatter plot with a linear regression line. What conclusions do you come up with?"
   ]
  },
  {
   "cell_type": "code",
   "execution_count": 11,
   "id": "455bc85e-8c9c-4244-a229-dd44c40c7957",
   "metadata": {
    "tags": []
   },
   "outputs": [
    {
     "data": {
      "image/png": "[encoded data removed]",
      "text/plain": [
       "<Figure size 1200x1800 with 12 Axes>"
      ]
     },
     "metadata": {},
     "output_type": "display_data"
    }
   ],
   "source": [
    "# Suppress specific FutureWarnings\n",
    "warnings.filterwarnings(\"ignore\", category=FutureWarning)\n",
    "\n",
    "n = len(num_features)\n",
    "fig, axes =  plt.subplots(n, 2, figsize = (12, n*3)) # Dynamically scale height based on number of features\n",
    "\n",
    "for ind, feature in enumerate(num_features):\n",
    "    # Histogram with KDE\n",
    "    hist = sns.histplot(data=temp_data, x=feature, ax=axes[ind][0], color = 'skyblue')\n",
    "    hist.set_title(f'Distribution of {feature}', fontsize = 12, fontweight = 'bold')\n",
    "    hist.set_xlabel(f'{feature}', fontsize=10)\n",
    "    hist.set_ylabel('Count', fontsize=10)\n",
    "    hist.xaxis.set_tick_params(rotation=45)\n",
    "    # Regression Plot\n",
    "    regplot = sns.regplot(\n",
    "        data=temp_data, x=feature, y='price', ax = axes[ind][1],\n",
    "        scatter_kws ={'color': 'skyblue'}, line_kws = {'color': 'red'}\n",
    "    )\n",
    "    regplot.set_title(f'Relation between {feature} and Car Price', fontsize = 12, fontweight = 'bold')\n",
    "    regplot.set_xlabel(f'{feature}', fontsize=10)\n",
    "    regplot.set_ylabel('Insurance Charges', fontsize=10)\n",
    "    regplot.xaxis.set_tick_params(rotation=45)\n",
    "    \n",
    "# Add a main title\n",
    "fig.suptitle('Feature Analysis and Relationship with Car Price', fontsize=16, fontweight='bold', y=1.02)\n",
    "# Adjust layout and save\n",
    "plt.tight_layout()\n",
    "#plt.savefig('feature_analysis_insurance_charges_with_kde.png', dpi=300, bbox_inches='tight')\n",
    "plt.show();    "
   ]
  },
  {
   "cell_type": "markdown",
   "id": "89fb515b-9dfe-4e42-93b8-fb8a55457cce",
   "metadata": {},
   "source": [
    "- Build a heatmap of the correlation matrix to assess multicollinearity and the linear relationships between features and the target variable (**price**)."
   ]
  },
  {
   "cell_type": "code",
   "execution_count": 12,
   "id": "839b3822-9395-4841-b0ad-dbf4e992786e",
   "metadata": {},
   "outputs": [
    {
     "data": {
      "image/png": "[encoded data removed]",
      "text/plain": [
       "<Figure size 1200x500 with 2 Axes>"
      ]
     },
     "metadata": {},
     "output_type": "display_data"
    }
   ],
   "source": [
    "fig = plt.figure(figsize=(12, 5))\n",
    "sns.heatmap(temp_data.corr(numeric_only=True), annot=True);"
   ]
  },
  {
   "cell_type": "markdown",
   "id": "0b30bf9f-103c-4b6e-8f9c-d7ec4b22841d",
   "metadata": {},
   "source": [
    "### 4. Data Preparation"
   ]
  },
  {
   "cell_type": "markdown",
   "id": "f16285d9-9f55-4f01-95af-5122f45a9def",
   "metadata": {},
   "source": [
    "The goal of this stage is to prepare the training dataset for use in modeling."
   ]
  },
  {
   "cell_type": "markdown",
   "id": "d8c0d112-a9a0-49dc-af33-08c0d4d2088b",
   "metadata": {},
   "source": [
    "The linear regression model that we will use requires all data to be represented `numerically`.  \n",
    "Therefore, during the data preparation stage, we must ensure that all categorical text features are properly encoded.\n",
    "\n",
    "In addition, if there are any missing values in the dataset, they must be handled as well —  \n",
    "missing data will cause an error when feeding the dataset into the model."
   ]
  },
  {
   "cell_type": "markdown",
   "id": "5c794348-e2bd-4a29-baed-53c5884bd409",
   "metadata": {},
   "source": [
    "- Perform One-Hot Encoding of categorical features using pandas get_dummies()"
   ]
  },
  {
   "cell_type": "code",
   "execution_count": 13,
   "id": "5372a2e7-731e-4aa5-aa96-d42a24bef557",
   "metadata": {},
   "outputs": [
    {
     "data": {
      "application/vnd.microsoft.datawrangler.viewer.v0+json": {
       "columns": [
        {
         "name": "index",
         "rawType": "int64",
         "type": "integer"
        },
        {
         "name": "year",
         "rawType": "int64",
         "type": "integer"
        },
        {
         "name": "price",
         "rawType": "int64",
         "type": "integer"
        },
        {
         "name": "mileage",
         "rawType": "int64",
         "type": "integer"
        },
        {
         "name": "tax",
         "rawType": "int64",
         "type": "integer"
        },
        {
         "name": "mpg",
         "rawType": "float64",
         "type": "float"
        },
        {
         "name": "engineSize",
         "rawType": "float64",
         "type": "float"
        },
        {
         "name": "model_ A1",
         "rawType": "bool",
         "type": "boolean"
        },
        {
         "name": "model_ A2",
         "rawType": "bool",
         "type": "boolean"
        },
        {
         "name": "model_ A3",
         "rawType": "bool",
         "type": "boolean"
        },
        {
         "name": "model_ A4",
         "rawType": "bool",
         "type": "boolean"
        },
        {
         "name": "model_ A5",
         "rawType": "bool",
         "type": "boolean"
        },
        {
         "name": "model_ A6",
         "rawType": "bool",
         "type": "boolean"
        },
        {
         "name": "model_ A7",
         "rawType": "bool",
         "type": "boolean"
        },
        {
         "name": "model_ A8",
         "rawType": "bool",
         "type": "boolean"
        },
        {
         "name": "model_ Q2",
         "rawType": "bool",
         "type": "boolean"
        },
        {
         "name": "model_ Q3",
         "rawType": "bool",
         "type": "boolean"
        },
        {
         "name": "model_ Q5",
         "rawType": "bool",
         "type": "boolean"
        },
        {
         "name": "model_ Q7",
         "rawType": "bool",
         "type": "boolean"
        },
        {
         "name": "model_ Q8",
         "rawType": "bool",
         "type": "boolean"
        },
        {
         "name": "model_ R8",
         "rawType": "bool",
         "type": "boolean"
        },
        {
         "name": "model_ RS3",
         "rawType": "bool",
         "type": "boolean"
        },
        {
         "name": "model_ RS4",
         "rawType": "bool",
         "type": "boolean"
        },
        {
         "name": "model_ RS5",
         "rawType": "bool",
         "type": "boolean"
        },
        {
         "name": "model_ RS6",
         "rawType": "bool",
         "type": "boolean"
        },
        {
         "name": "model_ RS7",
         "rawType": "bool",
         "type": "boolean"
        },
        {
         "name": "model_ S3",
         "rawType": "bool",
         "type": "boolean"
        },
        {
         "name": "model_ S4",
         "rawType": "bool",
         "type": "boolean"
        },
        {
         "name": "model_ S5",
         "rawType": "bool",
         "type": "boolean"
        },
        {
         "name": "model_ S8",
         "rawType": "bool",
         "type": "boolean"
        },
        {
         "name": "model_ SQ5",
         "rawType": "bool",
         "type": "boolean"
        },
        {
         "name": "model_ SQ7",
         "rawType": "bool",
         "type": "boolean"
        },
        {
         "name": "model_ TT",
         "rawType": "bool",
         "type": "boolean"
        },
        {
         "name": "transmission_Automatic",
         "rawType": "bool",
         "type": "boolean"
        },
        {
         "name": "transmission_Manual",
         "rawType": "bool",
         "type": "boolean"
        },
        {
         "name": "transmission_Semi-Auto",
         "rawType": "bool",
         "type": "boolean"
        },
        {
         "name": "fuelType_Diesel",
         "rawType": "bool",
         "type": "boolean"
        },
        {
         "name": "fuelType_Hybrid",
         "rawType": "bool",
         "type": "boolean"
        },
        {
         "name": "fuelType_Petrol",
         "rawType": "bool",
         "type": "boolean"
        }
       ],
       "ref": "65c90809-9e1c-4d79-93cf-d4bc1d2fb889",
       "rows": [
        [
         "0",
         "2017",
         "12500",
         "15735",
         "150",
         "55.4",
         "1.4",
         "True",
         "False",
         "False",
         "False",
         "False",
         "False",
         "False",
         "False",
         "False",
         "False",
         "False",
         "False",
         "False",
         "False",
         "False",
         "False",
         "False",
         "False",
         "False",
         "False",
         "False",
         "False",
         "False",
         "False",
         "False",
         "False",
         "False",
         "True",
         "False",
         "False",
         "False",
         "True"
        ],
        [
         "1",
         "2016",
         "16500",
         "36203",
         "20",
         "64.2",
         "2.0",
         "False",
         "False",
         "False",
         "False",
         "False",
         "True",
         "False",
         "False",
         "False",
         "False",
         "False",
         "False",
         "False",
         "False",
         "False",
         "False",
         "False",
         "False",
         "False",
         "False",
         "False",
         "False",
         "False",
         "False",
         "False",
         "False",
         "True",
         "False",
         "False",
         "True",
         "False",
         "False"
        ],
        [
         "2",
         "2016",
         "11000",
         "29946",
         "30",
         "55.4",
         "1.4",
         "True",
         "False",
         "False",
         "False",
         "False",
         "False",
         "False",
         "False",
         "False",
         "False",
         "False",
         "False",
         "False",
         "False",
         "False",
         "False",
         "False",
         "False",
         "False",
         "False",
         "False",
         "False",
         "False",
         "False",
         "False",
         "False",
         "False",
         "True",
         "False",
         "False",
         "False",
         "True"
        ],
        [
         "3",
         "2017",
         "16800",
         "25952",
         "145",
         "67.3",
         "2.0",
         "False",
         "False",
         "False",
         "True",
         "False",
         "False",
         "False",
         "False",
         "False",
         "False",
         "False",
         "False",
         "False",
         "False",
         "False",
         "False",
         "False",
         "False",
         "False",
         "False",
         "False",
         "False",
         "False",
         "False",
         "False",
         "False",
         "True",
         "False",
         "False",
         "True",
         "False",
         "False"
        ],
        [
         "4",
         "2019",
         "17300",
         "1998",
         "145",
         "49.6",
         "1.0",
         "False",
         "False",
         "True",
         "False",
         "False",
         "False",
         "False",
         "False",
         "False",
         "False",
         "False",
         "False",
         "False",
         "False",
         "False",
         "False",
         "False",
         "False",
         "False",
         "False",
         "False",
         "False",
         "False",
         "False",
         "False",
         "False",
         "False",
         "True",
         "False",
         "False",
         "False",
         "True"
        ]
       ],
       "shape": {
        "columns": 38,
        "rows": 5
       }
      },
      "text/html": [
       "<div>\n",
       "<style scoped>\n",
       "    .dataframe tbody tr th:only-of-type {\n",
       "        vertical-align: middle;\n",
       "    }\n",
       "\n",
       "    .dataframe tbody tr th {\n",
       "        vertical-align: top;\n",
       "    }\n",
       "\n",
       "    .dataframe thead th {\n",
       "        text-align: right;\n",
       "    }\n",
       "</style>\n",
       "<table border=\"1\" class=\"dataframe\">\n",
       "  <thead>\n",
       "    <tr style=\"text-align: right;\">\n",
       "      <th></th>\n",
       "      <th>year</th>\n",
       "      <th>price</th>\n",
       "      <th>mileage</th>\n",
       "      <th>tax</th>\n",
       "      <th>mpg</th>\n",
       "      <th>engineSize</th>\n",
       "      <th>model_ A1</th>\n",
       "      <th>model_ A2</th>\n",
       "      <th>model_ A3</th>\n",
       "      <th>model_ A4</th>\n",
       "      <th>...</th>\n",
       "      <th>model_ S8</th>\n",
       "      <th>model_ SQ5</th>\n",
       "      <th>model_ SQ7</th>\n",
       "      <th>model_ TT</th>\n",
       "      <th>transmission_Automatic</th>\n",
       "      <th>transmission_Manual</th>\n",
       "      <th>transmission_Semi-Auto</th>\n",
       "      <th>fuelType_Diesel</th>\n",
       "      <th>fuelType_Hybrid</th>\n",
       "      <th>fuelType_Petrol</th>\n",
       "    </tr>\n",
       "  </thead>\n",
       "  <tbody>\n",
       "    <tr>\n",
       "      <th>0</th>\n",
       "      <td>2017</td>\n",
       "      <td>12500</td>\n",
       "      <td>15735</td>\n",
       "      <td>150</td>\n",
       "      <td>55.4</td>\n",
       "      <td>1.4</td>\n",
       "      <td>True</td>\n",
       "      <td>False</td>\n",
       "      <td>False</td>\n",
       "      <td>False</td>\n",
       "      <td>...</td>\n",
       "      <td>False</td>\n",
       "      <td>False</td>\n",
       "      <td>False</td>\n",
       "      <td>False</td>\n",
       "      <td>False</td>\n",
       "      <td>True</td>\n",
       "      <td>False</td>\n",
       "      <td>False</td>\n",
       "      <td>False</td>\n",
       "      <td>True</td>\n",
       "    </tr>\n",
       "    <tr>\n",
       "      <th>1</th>\n",
       "      <td>2016</td>\n",
       "      <td>16500</td>\n",
       "      <td>36203</td>\n",
       "      <td>20</td>\n",
       "      <td>64.2</td>\n",
       "      <td>2.0</td>\n",
       "      <td>False</td>\n",
       "      <td>False</td>\n",
       "      <td>False</td>\n",
       "      <td>False</td>\n",
       "      <td>...</td>\n",
       "      <td>False</td>\n",
       "      <td>False</td>\n",
       "      <td>False</td>\n",
       "      <td>False</td>\n",
       "      <td>True</td>\n",
       "      <td>False</td>\n",
       "      <td>False</td>\n",
       "      <td>True</td>\n",
       "      <td>False</td>\n",
       "      <td>False</td>\n",
       "    </tr>\n",
       "    <tr>\n",
       "      <th>2</th>\n",
       "      <td>2016</td>\n",
       "      <td>11000</td>\n",
       "      <td>29946</td>\n",
       "      <td>30</td>\n",
       "      <td>55.4</td>\n",
       "      <td>1.4</td>\n",
       "      <td>True</td>\n",
       "      <td>False</td>\n",
       "      <td>False</td>\n",
       "      <td>False</td>\n",
       "      <td>...</td>\n",
       "      <td>False</td>\n",
       "      <td>False</td>\n",
       "      <td>False</td>\n",
       "      <td>False</td>\n",
       "      <td>False</td>\n",
       "      <td>True</td>\n",
       "      <td>False</td>\n",
       "      <td>False</td>\n",
       "      <td>False</td>\n",
       "      <td>True</td>\n",
       "    </tr>\n",
       "    <tr>\n",
       "      <th>3</th>\n",
       "      <td>2017</td>\n",
       "      <td>16800</td>\n",
       "      <td>25952</td>\n",
       "      <td>145</td>\n",
       "      <td>67.3</td>\n",
       "      <td>2.0</td>\n",
       "      <td>False</td>\n",
       "      <td>False</td>\n",
       "      <td>False</td>\n",
       "      <td>True</td>\n",
       "      <td>...</td>\n",
       "      <td>False</td>\n",
       "      <td>False</td>\n",
       "      <td>False</td>\n",
       "      <td>False</td>\n",
       "      <td>True</td>\n",
       "      <td>False</td>\n",
       "      <td>False</td>\n",
       "      <td>True</td>\n",
       "      <td>False</td>\n",
       "      <td>False</td>\n",
       "    </tr>\n",
       "    <tr>\n",
       "      <th>4</th>\n",
       "      <td>2019</td>\n",
       "      <td>17300</td>\n",
       "      <td>1998</td>\n",
       "      <td>145</td>\n",
       "      <td>49.6</td>\n",
       "      <td>1.0</td>\n",
       "      <td>False</td>\n",
       "      <td>False</td>\n",
       "      <td>True</td>\n",
       "      <td>False</td>\n",
       "      <td>...</td>\n",
       "      <td>False</td>\n",
       "      <td>False</td>\n",
       "      <td>False</td>\n",
       "      <td>False</td>\n",
       "      <td>False</td>\n",
       "      <td>True</td>\n",
       "      <td>False</td>\n",
       "      <td>False</td>\n",
       "      <td>False</td>\n",
       "      <td>True</td>\n",
       "    </tr>\n",
       "  </tbody>\n",
       "</table>\n",
       "<p>5 rows × 38 columns</p>\n",
       "</div>"
      ],
      "text/plain": [
       "   year  price  mileage  tax   mpg  engineSize  model_ A1  model_ A2  \\\n",
       "0  2017  12500    15735  150  55.4         1.4       True      False   \n",
       "1  2016  16500    36203   20  64.2         2.0      False      False   \n",
       "2  2016  11000    29946   30  55.4         1.4       True      False   \n",
       "3  2017  16800    25952  145  67.3         2.0      False      False   \n",
       "4  2019  17300     1998  145  49.6         1.0      False      False   \n",
       "\n",
       "   model_ A3  model_ A4  ...  model_ S8  model_ SQ5  model_ SQ7  model_ TT  \\\n",
       "0      False      False  ...      False       False       False      False   \n",
       "1      False      False  ...      False       False       False      False   \n",
       "2      False      False  ...      False       False       False      False   \n",
       "3      False       True  ...      False       False       False      False   \n",
       "4       True      False  ...      False       False       False      False   \n",
       "\n",
       "   transmission_Automatic  transmission_Manual  transmission_Semi-Auto  \\\n",
       "0                   False                 True                   False   \n",
       "1                    True                False                   False   \n",
       "2                   False                 True                   False   \n",
       "3                    True                False                   False   \n",
       "4                   False                 True                   False   \n",
       "\n",
       "   fuelType_Diesel  fuelType_Hybrid  fuelType_Petrol  \n",
       "0            False            False             True  \n",
       "1             True            False            False  \n",
       "2            False            False             True  \n",
       "3             True            False            False  \n",
       "4            False            False             True  \n",
       "\n",
       "[5 rows x 38 columns]"
      ]
     },
     "execution_count": 13,
     "metadata": {},
     "output_type": "execute_result"
    }
   ],
   "source": [
    "# Code\n",
    "dummies_data = pd.get_dummies(temp_data)\n",
    "dummies_data.head()"
   ]
  },
  {
   "cell_type": "markdown",
   "id": "02a2aec4-c685-4137-b012-e0ae833838a2",
   "metadata": {},
   "source": [
    "- Do the same with OneHotEncoder from the category_encoders library"
   ]
  },
  {
   "cell_type": "code",
   "execution_count": 14,
   "id": "20c52862-87c6-4bff-b3cc-8615d42961bc",
   "metadata": {},
   "outputs": [],
   "source": [
    "# import category_encoders as ce\n",
    "\n",
    "# encoder = ce.OneHotEncoder(cols=['model', 'transmission', 'fuelType'])\n",
    "# encoding_data = encoder.fit_transform(temp_data[['model', 'transmission', 'fuelType']])\n",
    "# dummies_data_2 = pd.concat([temp_data.drop(['model', 'transmission', 'fuelType'], axis=1), encoding_data], axis=1)\n",
    "# dummies_data_2.head()"
   ]
  },
  {
   "cell_type": "markdown",
   "id": "cb10b5f7-94fc-4910-80a2-587c68fbb302",
   "metadata": {},
   "source": [
    "- Split the dataset into observation matrix X (features) and target vector y"
   ]
  },
  {
   "cell_type": "code",
   "execution_count": 15,
   "id": "7d313d58-addd-430e-af1b-86d3d9f2f3da",
   "metadata": {},
   "outputs": [],
   "source": [
    "# Code\n",
    "X = dummies_data.drop('price', axis=1)\n",
    "y = dummies_data['price']"
   ]
  },
  {
   "cell_type": "markdown",
   "id": "4ad14c16-fbd0-4e4e-8fab-dfdd5ae92ed4",
   "metadata": {},
   "source": [
    "- Split the dataset into training and test sets in an 80/20 ratio"
   ]
  },
  {
   "cell_type": "code",
   "execution_count": 16,
   "id": "3b290ef3-e328-4727-adaf-e1912e1ecfa4",
   "metadata": {},
   "outputs": [
    {
     "name": "stdout",
     "output_type": "stream",
     "text": [
      "Train shape: (8534, 37)\n",
      "Test shape: (2134, 37)\n"
     ]
    }
   ],
   "source": [
    "# Code\n",
    "X_train, X_test, y_train, y_test = train_test_split(\n",
    "    X, y, \n",
    "    test_size=0.2,\n",
    "    random_state=42\n",
    ")\n",
    "\n",
    "# Let's print the dimension of the datasets\n",
    "print(f'Train shape: {X_train.shape}')\n",
    "print(f'Test shape: {X_test.shape}')"
   ]
  },
  {
   "cell_type": "markdown",
   "id": "5d849a17-da63-4837-825d-fb86f1531012",
   "metadata": {},
   "source": [
    "### 6. Modeling + Model Evaluation"
   ]
  },
  {
   "cell_type": "markdown",
   "id": "1323b87d-b660-4118-ab1b-1aa89849af1f",
   "metadata": {},
   "source": [
    "The goal of this stage is to build a model that solves the stated task and to evaluate its quality."
   ]
  },
  {
   "cell_type": "markdown",
   "id": "78628dbc-d7e0-40ee-a812-c24e03f11eb4",
   "metadata": {},
   "source": [
    "- Create a function `print_metrics(y_train, y_train_predict, y_test, y_test_predict)` that:\n",
    "\n",
    "    - Computes and prints **R²**, **MAE**, and **MAPE (%)** for the **training set**.  \n",
    "    - Computes and prints **R²**, **MAE**, and **MAPE (%)** for the **test set**.  \n",
    "    - Uses `sklearn.metrics` functions for all metrics.  \n",
    "    - Formats each value to **three decimals**."
   ]
  },
  {
   "cell_type": "code",
   "execution_count": 17,
   "id": "8968a221-f4a7-4d50-b6ae-dc1b680aef75",
   "metadata": {},
   "outputs": [],
   "source": [
    "# Code\n",
    "def print_metrics(y_train, y_train_predict, y_test, y_test_predict):\n",
    "    print('Train R^2: {:.3f}'.format(metrics.r2_score(y_train, y_train_predict)))\n",
    "    print('Train MAE: {:.3f}'.format(metrics.mean_absolute_error(y_train, y_train_predict)))\n",
    "    print('Train MAPE: {:.3f}'.format(metrics.mean_absolute_percentage_error(y_train, y_train_predict)*100))\n",
    "    print('\\n')\n",
    "    print('Test R^2: {:.3f}'.format(metrics.r2_score(y_test, y_test_predict)))\n",
    "    print('Test MAE: {:.3f}'.format(metrics.mean_absolute_error(y_test, y_test_predict)))\n",
    "    print('Train MAPE: {:.3f}'.format(metrics.mean_absolute_percentage_error(y_test, y_test_predict)*100))"
   ]
  },
  {
   "cell_type": "markdown",
   "id": "8a7a7fce-2cb0-4acb-98b3-15b0630b0064",
   "metadata": {},
   "source": [
    "**Linear Regression Model:**\n",
    "\n",
    "The linear regression model has the following form:\n",
    "\n",
    "$$\n",
    "\\widehat{y_i} = w_0 + \\sum_{j=0}^{m} w_j x_{ij}\n",
    "$$\n",
    "\n",
    "where  \n",
    "- $x_{ij}$ — the element from the *i-th row* and *j-th column* of the feature matrix $X$,  \n",
    "- $y_i$ — the true target value corresponding to $x_i$,  \n",
    "- $w$ — the parameters (coefficients) of the linear regression model.\n",
    "\n",
    "To find the model parameters, the **empirical risk minimization** principle is used —  \n",
    "we search for such parameters $\\omega$ that the loss function $L(\\omega)$ is minimized.\n",
    "\n",
    "As the loss function, we use **MSE** — the *Mean Squared Error*.\n",
    "\n"
   ]
  },
  {
   "cell_type": "markdown",
   "id": "f787d738-5c9a-4af7-bcc8-690659a289d5",
   "metadata": {},
   "source": [
    "$$L(\\omega) = MSE = \\frac{1}{n} * \\sum_{i=1}^{n}{(y_i - \\widehat{y_i})^2} \\Rightarrow min_\\omega $$"
   ]
  },
  {
   "cell_type": "markdown",
   "id": "6d6d1a88-1dd0-4622-ad9f-98fc35eb9909",
   "metadata": {},
   "source": [
    "**Analytical Solution: Ordinary Least Squares (OLS):**"
   ]
  },
  {
   "cell_type": "markdown",
   "id": "760fa29f-257b-4599-b5aa-45bfbf4fea6e",
   "metadata": {},
   "source": [
    "$$\\omega=(X^TX)^{-1}X^Ty$$"
   ]
  },
  {
   "cell_type": "markdown",
   "id": "7ae82ba9-965b-49d7-8789-14a66aa0de74",
   "metadata": {},
   "source": [
    "In the **sklearn** library, linear regression with parameter estimation using **OLS** is implemented in the  \n",
    "`LinearRegression` class from the `linear_model` module.\n",
    "\n",
    "**Methods:**\n",
    "- `fit()` — fits the parameters using OLS (model training)  \n",
    "- `predict()` — makes predictions (substitutes an observation $x_i$ into the model and returns a prediction for each observation)\n",
    "\n",
    "**Attributes:**\n",
    "- `coef_` — coefficients $\\omega_1$, $\\omega_2$, $\\ldots$, $\\omega_m$ found using OLS (as a vector)  \n",
    "- `intercept_` — intercept term $\\omega_0$\n"
   ]
  },
  {
   "cell_type": "code",
   "execution_count": 18,
   "id": "5bdbecce-25dd-4af3-a372-694c3f6c1b10",
   "metadata": {},
   "outputs": [
    {
     "name": "stdout",
     "output_type": "stream",
     "text": [
      "Train R^2: 0.890\n",
      "Train MAE: 2534.005\n",
      "Train MAPE: 13.340\n",
      "\n",
      "\n",
      "Test R^2: 0.896\n",
      "Test MAE: 2633.087\n",
      "Train MAPE: 13.320\n"
     ]
    }
   ],
   "source": [
    "# Code\n",
    "# Initialize the LinearRegression object\n",
    "lr = linear_model.LinearRegression()\n",
    "# Train the model — find parameters\n",
    "lr.fit(X_train, y_train)\n",
    "# Make predictions for each split\n",
    "y_train_pred = lr.predict(X_train)\n",
    "y_test_pred = lr.predict(X_test)\n",
    "# Print the resulting metrics\n",
    "print_metrics(y_train, y_train_pred, y_test, y_test_pred)"
   ]
  },
  {
   "cell_type": "markdown",
   "id": "f9890750-a948-4743-8ffe-af84182bbd0f",
   "metadata": {},
   "source": [
    "**Numerical solution: Stochastic Gradient Descent (SGD):**"
   ]
  },
  {
   "cell_type": "markdown",
   "id": "fa2a02e5-be09-4b74-bd99-2dde40030d52",
   "metadata": {},
   "source": [
    "$$\\omega^{(k+1)} = \\omega^{(k)} - \\eta\\nabla L(\\omega^{(k)})$$"
   ]
  },
  {
   "cell_type": "markdown",
   "id": "02dea537-db23-4ea9-bd84-05e7aa5c9180",
   "metadata": {},
   "source": [
    "In the **sklearn** library, linear regression with parameter estimation via **SGD** is implemented in the  \n",
    "`SGDRegressor` class from the `linear_model` module.\n",
    "\n",
    "**Methods:**\n",
    "- `fit()` — parameter fitting via SGD (model training)  \n",
    "- `predict()` — prediction (substitute an observation $x_i$ into the model and obtain a prediction for each observation)\n",
    "\n",
    "**Attributes:**\n",
    "- `coef_` — coefficients $\\omega_1$, $\\omega_2$, $\\ldots$, $\\omega_m$ obtained via SGD (as a vector)  \n",
    "- `intercept_` — intercept term $\\omega_0$\n"
   ]
  },
  {
   "cell_type": "code",
   "execution_count": 19,
   "id": "9da0092b-4af1-46cf-9446-ba118f8e8b6f",
   "metadata": {},
   "outputs": [
    {
     "name": "stdout",
     "output_type": "stream",
     "text": [
      "Train R^2: 0.887\n",
      "Train MAE: 2533.410\n",
      "Train MAPE: 13.668\n",
      "\n",
      "\n",
      "Test R^2: 0.891\n",
      "Test MAE: 2640.063\n",
      "Train MAPE: 13.533\n"
     ]
    }
   ],
   "source": [
    "# Create an object for min-max normalization\n",
    "scaler = preprocessing.MinMaxScaler()\n",
    "# Compute normalization parameters — min and max for each column\n",
    "scaler.fit(X_train)\n",
    "# Transform each split\n",
    "X_train_scaled = scaler.transform(X_train)\n",
    "X_test_scaled  = scaler.transform(X_test)\n",
    "\n",
    "# Initialize the linear regression class (SGDRegressor)\n",
    "sgd_lr = linear_model.SGDRegressor(random_state=42)\n",
    "# Train the model — find parameters\n",
    "sgd_lr.fit(X_train_scaled, y_train)\n",
    "# Make predictions for each split\n",
    "y_train_pred = sgd_lr.predict(X_train_scaled)\n",
    "y_test_pred  = sgd_lr.predict(X_test_scaled)\n",
    "# Print the resulting metrics\n",
    "print_metrics(y_train, y_train_pred, y_test, y_test_pred)"
   ]
  },
  {
   "cell_type": "markdown",
   "id": "8f7929e3-8ac4-4e3b-a24c-80a005ab4ae6",
   "metadata": {},
   "source": [
    "<div style=\"background-color:#1e4620; border:1px solid #2e7d32; color:#e0f2e9; padding:12px; border-radius:6px; margin:12px 0;\">\n",
    "Did you achive the target MAE of <b>$2,000</b>? If not, proceed to the <b>next attempt</b>\n",
    "</div>"
   ]
  },
  {
   "cell_type": "markdown",
   "id": "4d22124f-c470-4234-abe6-6ee3a0703238",
   "metadata": {
    "tags": []
   },
   "source": [
    "## Attempt №2"
   ]
  },
  {
   "cell_type": "markdown",
   "id": "3bd09793-fd89-4b42-be19-7ca5949ea521",
   "metadata": {},
   "source": [
    "Assumption — model quality will improve if:\n",
    "- Remove outliers in the data — cars with overstated (understated) prices, very high (low) mileage, and very high (low) fuel consumption.\n",
    "- Transform the target variable from a lognormal distribution to a normal one using logarithmic transformation."
   ]
  },
  {
   "cell_type": "markdown",
   "id": "26b2cca7-2537-4d9b-97f8-311b1118f7fd",
   "metadata": {},
   "source": [
    "### 7. Data Analysis"
   ]
  },
  {
   "cell_type": "markdown",
   "id": "05b14a8c-89f7-44d8-958f-864aee197dff",
   "metadata": {},
   "source": [
    "- Investigate log-transformed distributions for outliers using the z-score (3-sigma) method.\n",
    "    - Create two side-by-side histograms — one for `price`, one for `log(price)` — and on the log plot, draw vertical lines for the mean and ±3 standard deviations."
   ]
  },
  {
   "cell_type": "code",
   "execution_count": null,
   "id": "7a9432cb",
   "metadata": {},
   "outputs": [
    {
     "data": {
      "image/png": "[encoded data removed]",
      "text/plain": [
       "<Figure size 1500x400 with 2 Axes>"
      ]
     },
     "metadata": {},
     "output_type": "display_data"
    }
   ],
   "source": [
    "# Code\n",
    "\n",
    "fig, axes = plt.subplots(1, 2, figsize=(15, 4)) # figure + axes\n",
    "\n",
    "# Plot histrogram\n",
    "sns.histplot(data=temp_data, \n",
    "             x='price', \n",
    "             ax=axes[0]);\n",
    "\n",
    "# Take logarithm\n",
    "log_price = np.log(temp_data['price'])\n",
    "\n",
    "# Plot histogram of the log-transformed prices\n",
    "sns.histplot(data=log_price, \n",
    "             ax=axes[1]);\n",
    "\n",
    "# Add vertical lines for the mean and ±3 standard deviations\n",
    "axes[1].axvline(log_price.mean(), color='k', lw=2)\n",
    "axes[1].axvline(log_price.mean() + 3 * log_price.std(), color='k', ls='--', lw=2)\n",
    "axes[1].axvline(log_price.mean() - 3 * log_price.std(), color='k', ls='--', lw=2);"
   ]
  },
  {
   "cell_type": "markdown",
   "id": "4ffa7efc",
   "metadata": {},
   "source": [
    "- Do the same: create two side-by-side histograms — one for `mileage`, one for `log(mileage)` — and on the log plot, draw vertical lines for the mean and ±3 standard deviations."
   ]
  },
  {
   "cell_type": "code",
   "execution_count": null,
   "id": "d2882c72",
   "metadata": {},
   "outputs": [
    {
     "data": {
      "image/png": "[encoded data removed]",
      "text/plain": [
       "<Figure size 1500x400 with 2 Axes>"
      ]
     },
     "metadata": {},
     "output_type": "display_data"
    }
   ],
   "source": [
    "# Code\n",
    "\n",
    "# Plot histogram\n",
    "fig, axes = plt.subplots(1, 2, figsize=(15, 4))\n",
    "sns.histplot(data=temp_data, \n",
    "             x='mileage', \n",
    "             ax=axes[0]);\n",
    "\n",
    "# Log-transform\n",
    "log_price = np.log(temp_data['mileage'])\n",
    "\n",
    "# Plot histogram in the logarithmic scale\n",
    "sns.histplot(data=log_price, \n",
    "             ax=axes[1]);\n",
    "\n",
    "# Add vertical lines for the mean and ±3 standard deviations from the mean\n",
    "axes[1].axvline(log_price.mean(), color='k', lw=2)\n",
    "axes[1].axvline(log_price.mean() + 3 * log_price.std(), color='k', ls='--', lw=2)\n",
    "axes[1].axvline(log_price.mean() - 3 * log_price.std(), color='k', ls='--', lw=2);\n"
   ]
  },
  {
   "cell_type": "markdown",
   "id": "77694c4d",
   "metadata": {},
   "source": [
    "- Do the same: create two side-by-side histograms — one for `fuel consumption (mpg)`, one for `fuel consumption (mpg)` — and on the log plot, draw vertical lines for the mean and ±3 standard deviations."
   ]
  },
  {
   "cell_type": "code",
   "execution_count": null,
   "id": "4ebd8de6",
   "metadata": {},
   "outputs": [
    {
     "data": {
      "image/png": "[encoded data removed]",
      "text/plain": [
       "<Figure size 1500x400 with 2 Axes>"
      ]
     },
     "metadata": {},
     "output_type": "display_data"
    }
   ],
   "source": [
    "# Code\n",
    "\n",
    "fig, axes = plt.subplots(1, 2, figsize=(15, 4))\n",
    "# Plot histogram\n",
    "sns.histplot(data=temp_data, \n",
    "             x='mpg', \n",
    "             ax=axes[0]);\n",
    "\n",
    "# Log-transform\n",
    "log_price = np.log(temp_data['mpg'])\n",
    "sns.histplot(data=log_price, \n",
    "             ax=axes[1]);\n",
    "\n",
    "# Add vertical lines for the mean and ±3 standard deviations from the mean\n",
    "axes[1].axvline(log_price.mean(), color='k', lw=2)\n",
    "axes[1].axvline(log_price.mean() + 3 * log_price.std(), color='k', ls='--', lw=2)\n",
    "axes[1].axvline(log_price.mean() - 3 * log_price.std(), color='k', ls='--', lw=2);"
   ]
  },
  {
   "cell_type": "markdown",
   "id": "8255d02a",
   "metadata": {},
   "source": [
    "- For the three tests above present your own conclusions - discuss what you obtained"
   ]
  },
  {
   "cell_type": "markdown",
   "id": "cc926b32-a99b-4280-b42c-620206ffe007",
   "metadata": {},
   "source": [
    "### 8. Data Preparation"
   ]
  },
  {
   "cell_type": "markdown",
   "id": "05c5c34d-1705-4358-b18b-3da74ae671eb",
   "metadata": {},
   "source": [
    "- Remove outliers using the **z-score method** that should be applied to the **log-transformed features**. (Recall that the z-score method was studied in the data cleaning module.)\n",
    "    - Write a `function` that removes outliers using the `z-score method (±3σ)`, optionally on a log scale, apply it sequentially to `price`, `mileage`, and `mpg`, and print the dataset shape before and after cleaning."
   ]
  },
  {
   "cell_type": "code",
   "execution_count": null,
   "id": "5ff90b68",
   "metadata": {},
   "outputs": [
    {
     "name": "stdout",
     "output_type": "stream",
     "text": [
      "Shape before cleaning outliers: (10668, 9)\n",
      "Shape after  cleaning outliers: (10308, 9)\n"
     ]
    }
   ],
   "source": [
    "# Code\n",
    "\n",
    "# Define a function that filters outliers using the z-score method\n",
    "def outliers_z_score(data, feature, log_scale=False):\n",
    "    if log_scale:\n",
    "        x = np.log(data[feature]+1)\n",
    "    else:\n",
    "        x = data[feature]\n",
    "    mu = x.mean()\n",
    "    sigma = x.std()\n",
    "    lower_bound = mu - 3*sigma\n",
    "    upper_bound = mu + 3*sigma\n",
    "    outliers = data[(x < lower_bound) | (x > upper_bound)]        \n",
    "    cleaned = data[(x > lower_bound) & (x < upper_bound)]\n",
    "    return outliers, cleaned\n",
    "\n",
    "# Perform cleaning\n",
    "outliers, temp_cleaned = outliers_z_score(temp_data, 'price', log_scale=True)\n",
    "outliers, temp_cleaned = outliers_z_score(temp_cleaned, 'mileage', log_scale=True)\n",
    "outliers, temp_cleaned = outliers_z_score(temp_cleaned, 'mpg', log_scale=True)\n",
    "\n",
    "print(f'Shape before cleaning outliers: {temp_data.shape}')\n",
    "print(f'Shape after  cleaning outliers: {temp_cleaned.shape}')\n"
   ]
  },
  {
   "cell_type": "markdown",
   "id": "874f400d",
   "metadata": {},
   "source": [
    "- Perform One-Hot Encoding of categorical features using pandas get_dummies()"
   ]
  },
  {
   "cell_type": "code",
   "execution_count": 42,
   "id": "8bb1c12c-d7ab-4fcd-bb8c-4905d0b47799",
   "metadata": {},
   "outputs": [
    {
     "data": {
      "application/vnd.microsoft.datawrangler.viewer.v0+json": {
       "columns": [
        {
         "name": "index",
         "rawType": "int64",
         "type": "integer"
        },
        {
         "name": "year",
         "rawType": "int64",
         "type": "integer"
        },
        {
         "name": "price",
         "rawType": "int64",
         "type": "integer"
        },
        {
         "name": "mileage",
         "rawType": "int64",
         "type": "integer"
        },
        {
         "name": "tax",
         "rawType": "int64",
         "type": "integer"
        },
        {
         "name": "mpg",
         "rawType": "float64",
         "type": "float"
        },
        {
         "name": "engineSize",
         "rawType": "float64",
         "type": "float"
        },
        {
         "name": "model_ A1",
         "rawType": "bool",
         "type": "boolean"
        },
        {
         "name": "model_ A3",
         "rawType": "bool",
         "type": "boolean"
        },
        {
         "name": "model_ A4",
         "rawType": "bool",
         "type": "boolean"
        },
        {
         "name": "model_ A5",
         "rawType": "bool",
         "type": "boolean"
        },
        {
         "name": "model_ A6",
         "rawType": "bool",
         "type": "boolean"
        },
        {
         "name": "model_ A7",
         "rawType": "bool",
         "type": "boolean"
        },
        {
         "name": "model_ A8",
         "rawType": "bool",
         "type": "boolean"
        },
        {
         "name": "model_ Q2",
         "rawType": "bool",
         "type": "boolean"
        },
        {
         "name": "model_ Q3",
         "rawType": "bool",
         "type": "boolean"
        },
        {
         "name": "model_ Q5",
         "rawType": "bool",
         "type": "boolean"
        },
        {
         "name": "model_ Q7",
         "rawType": "bool",
         "type": "boolean"
        },
        {
         "name": "model_ Q8",
         "rawType": "bool",
         "type": "boolean"
        },
        {
         "name": "model_ R8",
         "rawType": "bool",
         "type": "boolean"
        },
        {
         "name": "model_ RS3",
         "rawType": "bool",
         "type": "boolean"
        },
        {
         "name": "model_ RS4",
         "rawType": "bool",
         "type": "boolean"
        },
        {
         "name": "model_ RS5",
         "rawType": "bool",
         "type": "boolean"
        },
        {
         "name": "model_ RS6",
         "rawType": "bool",
         "type": "boolean"
        },
        {
         "name": "model_ RS7",
         "rawType": "bool",
         "type": "boolean"
        },
        {
         "name": "model_ S3",
         "rawType": "bool",
         "type": "boolean"
        },
        {
         "name": "model_ S4",
         "rawType": "bool",
         "type": "boolean"
        },
        {
         "name": "model_ S5",
         "rawType": "bool",
         "type": "boolean"
        },
        {
         "name": "model_ S8",
         "rawType": "bool",
         "type": "boolean"
        },
        {
         "name": "model_ SQ5",
         "rawType": "bool",
         "type": "boolean"
        },
        {
         "name": "model_ SQ7",
         "rawType": "bool",
         "type": "boolean"
        },
        {
         "name": "model_ TT",
         "rawType": "bool",
         "type": "boolean"
        },
        {
         "name": "transmission_Automatic",
         "rawType": "bool",
         "type": "boolean"
        },
        {
         "name": "transmission_Manual",
         "rawType": "bool",
         "type": "boolean"
        },
        {
         "name": "transmission_Semi-Auto",
         "rawType": "bool",
         "type": "boolean"
        },
        {
         "name": "fuelType_Diesel",
         "rawType": "bool",
         "type": "boolean"
        },
        {
         "name": "fuelType_Petrol",
         "rawType": "bool",
         "type": "boolean"
        }
       ],
       "ref": "605bfde9-77ab-41f7-89cf-683163d7b391",
       "rows": [
        [
         "0",
         "2017",
         "12500",
         "15735",
         "150",
         "55.4",
         "1.4",
         "True",
         "False",
         "False",
         "False",
         "False",
         "False",
         "False",
         "False",
         "False",
         "False",
         "False",
         "False",
         "False",
         "False",
         "False",
         "False",
         "False",
         "False",
         "False",
         "False",
         "False",
         "False",
         "False",
         "False",
         "False",
         "False",
         "True",
         "False",
         "False",
         "True"
        ],
        [
         "1",
         "2016",
         "16500",
         "36203",
         "20",
         "64.2",
         "2.0",
         "False",
         "False",
         "False",
         "False",
         "True",
         "False",
         "False",
         "False",
         "False",
         "False",
         "False",
         "False",
         "False",
         "False",
         "False",
         "False",
         "False",
         "False",
         "False",
         "False",
         "False",
         "False",
         "False",
         "False",
         "False",
         "True",
         "False",
         "False",
         "True",
         "False"
        ],
        [
         "2",
         "2016",
         "11000",
         "29946",
         "30",
         "55.4",
         "1.4",
         "True",
         "False",
         "False",
         "False",
         "False",
         "False",
         "False",
         "False",
         "False",
         "False",
         "False",
         "False",
         "False",
         "False",
         "False",
         "False",
         "False",
         "False",
         "False",
         "False",
         "False",
         "False",
         "False",
         "False",
         "False",
         "False",
         "True",
         "False",
         "False",
         "True"
        ],
        [
         "3",
         "2017",
         "16800",
         "25952",
         "145",
         "67.3",
         "2.0",
         "False",
         "False",
         "True",
         "False",
         "False",
         "False",
         "False",
         "False",
         "False",
         "False",
         "False",
         "False",
         "False",
         "False",
         "False",
         "False",
         "False",
         "False",
         "False",
         "False",
         "False",
         "False",
         "False",
         "False",
         "False",
         "True",
         "False",
         "False",
         "True",
         "False"
        ],
        [
         "4",
         "2019",
         "17300",
         "1998",
         "145",
         "49.6",
         "1.0",
         "False",
         "True",
         "False",
         "False",
         "False",
         "False",
         "False",
         "False",
         "False",
         "False",
         "False",
         "False",
         "False",
         "False",
         "False",
         "False",
         "False",
         "False",
         "False",
         "False",
         "False",
         "False",
         "False",
         "False",
         "False",
         "False",
         "True",
         "False",
         "False",
         "True"
        ]
       ],
       "shape": {
        "columns": 36,
        "rows": 5
       }
      },
      "text/html": [
       "<div>\n",
       "<style scoped>\n",
       "    .dataframe tbody tr th:only-of-type {\n",
       "        vertical-align: middle;\n",
       "    }\n",
       "\n",
       "    .dataframe tbody tr th {\n",
       "        vertical-align: top;\n",
       "    }\n",
       "\n",
       "    .dataframe thead th {\n",
       "        text-align: right;\n",
       "    }\n",
       "</style>\n",
       "<table border=\"1\" class=\"dataframe\">\n",
       "  <thead>\n",
       "    <tr style=\"text-align: right;\">\n",
       "      <th></th>\n",
       "      <th>year</th>\n",
       "      <th>price</th>\n",
       "      <th>mileage</th>\n",
       "      <th>tax</th>\n",
       "      <th>mpg</th>\n",
       "      <th>engineSize</th>\n",
       "      <th>model_ A1</th>\n",
       "      <th>model_ A3</th>\n",
       "      <th>model_ A4</th>\n",
       "      <th>model_ A5</th>\n",
       "      <th>...</th>\n",
       "      <th>model_ S5</th>\n",
       "      <th>model_ S8</th>\n",
       "      <th>model_ SQ5</th>\n",
       "      <th>model_ SQ7</th>\n",
       "      <th>model_ TT</th>\n",
       "      <th>transmission_Automatic</th>\n",
       "      <th>transmission_Manual</th>\n",
       "      <th>transmission_Semi-Auto</th>\n",
       "      <th>fuelType_Diesel</th>\n",
       "      <th>fuelType_Petrol</th>\n",
       "    </tr>\n",
       "  </thead>\n",
       "  <tbody>\n",
       "    <tr>\n",
       "      <th>0</th>\n",
       "      <td>2017</td>\n",
       "      <td>12500</td>\n",
       "      <td>15735</td>\n",
       "      <td>150</td>\n",
       "      <td>55.4</td>\n",
       "      <td>1.4</td>\n",
       "      <td>True</td>\n",
       "      <td>False</td>\n",
       "      <td>False</td>\n",
       "      <td>False</td>\n",
       "      <td>...</td>\n",
       "      <td>False</td>\n",
       "      <td>False</td>\n",
       "      <td>False</td>\n",
       "      <td>False</td>\n",
       "      <td>False</td>\n",
       "      <td>False</td>\n",
       "      <td>True</td>\n",
       "      <td>False</td>\n",
       "      <td>False</td>\n",
       "      <td>True</td>\n",
       "    </tr>\n",
       "    <tr>\n",
       "      <th>1</th>\n",
       "      <td>2016</td>\n",
       "      <td>16500</td>\n",
       "      <td>36203</td>\n",
       "      <td>20</td>\n",
       "      <td>64.2</td>\n",
       "      <td>2.0</td>\n",
       "      <td>False</td>\n",
       "      <td>False</td>\n",
       "      <td>False</td>\n",
       "      <td>False</td>\n",
       "      <td>...</td>\n",
       "      <td>False</td>\n",
       "      <td>False</td>\n",
       "      <td>False</td>\n",
       "      <td>False</td>\n",
       "      <td>False</td>\n",
       "      <td>True</td>\n",
       "      <td>False</td>\n",
       "      <td>False</td>\n",
       "      <td>True</td>\n",
       "      <td>False</td>\n",
       "    </tr>\n",
       "    <tr>\n",
       "      <th>2</th>\n",
       "      <td>2016</td>\n",
       "      <td>11000</td>\n",
       "      <td>29946</td>\n",
       "      <td>30</td>\n",
       "      <td>55.4</td>\n",
       "      <td>1.4</td>\n",
       "      <td>True</td>\n",
       "      <td>False</td>\n",
       "      <td>False</td>\n",
       "      <td>False</td>\n",
       "      <td>...</td>\n",
       "      <td>False</td>\n",
       "      <td>False</td>\n",
       "      <td>False</td>\n",
       "      <td>False</td>\n",
       "      <td>False</td>\n",
       "      <td>False</td>\n",
       "      <td>True</td>\n",
       "      <td>False</td>\n",
       "      <td>False</td>\n",
       "      <td>True</td>\n",
       "    </tr>\n",
       "    <tr>\n",
       "      <th>3</th>\n",
       "      <td>2017</td>\n",
       "      <td>16800</td>\n",
       "      <td>25952</td>\n",
       "      <td>145</td>\n",
       "      <td>67.3</td>\n",
       "      <td>2.0</td>\n",
       "      <td>False</td>\n",
       "      <td>False</td>\n",
       "      <td>True</td>\n",
       "      <td>False</td>\n",
       "      <td>...</td>\n",
       "      <td>False</td>\n",
       "      <td>False</td>\n",
       "      <td>False</td>\n",
       "      <td>False</td>\n",
       "      <td>False</td>\n",
       "      <td>True</td>\n",
       "      <td>False</td>\n",
       "      <td>False</td>\n",
       "      <td>True</td>\n",
       "      <td>False</td>\n",
       "    </tr>\n",
       "    <tr>\n",
       "      <th>4</th>\n",
       "      <td>2019</td>\n",
       "      <td>17300</td>\n",
       "      <td>1998</td>\n",
       "      <td>145</td>\n",
       "      <td>49.6</td>\n",
       "      <td>1.0</td>\n",
       "      <td>False</td>\n",
       "      <td>True</td>\n",
       "      <td>False</td>\n",
       "      <td>False</td>\n",
       "      <td>...</td>\n",
       "      <td>False</td>\n",
       "      <td>False</td>\n",
       "      <td>False</td>\n",
       "      <td>False</td>\n",
       "      <td>False</td>\n",
       "      <td>False</td>\n",
       "      <td>True</td>\n",
       "      <td>False</td>\n",
       "      <td>False</td>\n",
       "      <td>True</td>\n",
       "    </tr>\n",
       "  </tbody>\n",
       "</table>\n",
       "<p>5 rows × 36 columns</p>\n",
       "</div>"
      ],
      "text/plain": [
       "   year  price  mileage  tax   mpg  engineSize  model_ A1  model_ A3  \\\n",
       "0  2017  12500    15735  150  55.4         1.4       True      False   \n",
       "1  2016  16500    36203   20  64.2         2.0      False      False   \n",
       "2  2016  11000    29946   30  55.4         1.4       True      False   \n",
       "3  2017  16800    25952  145  67.3         2.0      False      False   \n",
       "4  2019  17300     1998  145  49.6         1.0      False       True   \n",
       "\n",
       "   model_ A4  model_ A5  ...  model_ S5  model_ S8  model_ SQ5  model_ SQ7  \\\n",
       "0      False      False  ...      False      False       False       False   \n",
       "1      False      False  ...      False      False       False       False   \n",
       "2      False      False  ...      False      False       False       False   \n",
       "3       True      False  ...      False      False       False       False   \n",
       "4      False      False  ...      False      False       False       False   \n",
       "\n",
       "   model_ TT  transmission_Automatic  transmission_Manual  \\\n",
       "0      False                   False                 True   \n",
       "1      False                    True                False   \n",
       "2      False                   False                 True   \n",
       "3      False                    True                False   \n",
       "4      False                   False                 True   \n",
       "\n",
       "   transmission_Semi-Auto  fuelType_Diesel  fuelType_Petrol  \n",
       "0                   False            False             True  \n",
       "1                   False             True            False  \n",
       "2                   False            False             True  \n",
       "3                   False             True            False  \n",
       "4                   False            False             True  \n",
       "\n",
       "[5 rows x 36 columns]"
      ]
     },
     "execution_count": 42,
     "metadata": {},
     "output_type": "execute_result"
    }
   ],
   "source": [
    "# Encode categorical features\n",
    "dummies_data = pd.get_dummies(temp_cleaned)\n",
    "dummies_data.head()"
   ]
  },
  {
   "cell_type": "markdown",
   "id": "a01586dc",
   "metadata": {},
   "source": [
    "- From the dataset created above, set `X` to all columns except price and `y` to price, split into `train/test` (80/20, random_state=40), then print the shapes of `X_train` and `X_test`."
   ]
  },
  {
   "cell_type": "code",
   "execution_count": 44,
   "id": "eb33e778-4e62-44e2-859d-b44088b73718",
   "metadata": {},
   "outputs": [
    {
     "name": "stdout",
     "output_type": "stream",
     "text": [
      "Train shape: (8246, 35)\n",
      "Test shape: (2062, 35)\n"
     ]
    }
   ],
   "source": [
    "# X — observation matrix, y — target column\n",
    "X = dummies_data.drop('price', axis=1)\n",
    "y = dummies_data['price']\n",
    "\n",
    "# Split the dataset into training and test sets in an 80/20 ratio\n",
    "X_train, X_test, y_train, y_test = train_test_split(X, y, test_size=0.2, random_state=42)\n",
    "\n",
    "print(f'Train shape: {X_train.shape}')\n",
    "print(f'Test shape: {X_test.shape}')\n"
   ]
  },
  {
   "cell_type": "markdown",
   "id": "52416bc4-3140-4076-9a5c-48b394804e4c",
   "metadata": {},
   "source": [
    "### 9. Modeling"
   ]
  },
  {
   "cell_type": "markdown",
   "id": "b8bdcc75-d6cd-48b1-a725-b9c797952bde",
   "metadata": {},
   "source": [
    "- Train a linear regression model on the preprocessed data."
   ]
  },
  {
   "cell_type": "code",
   "execution_count": null,
   "id": "703c2e76-0499-4b56-8b50-66d28e5ea9dd",
   "metadata": {},
   "outputs": [
    {
     "name": "stdout",
     "output_type": "stream",
     "text": [
      "Train R^2: 0.927\n",
      "Train MAE: 1959.201\n",
      "Train MAPE: 8.712\n",
      "\n",
      "\n",
      "Test R^2: 0.917\n",
      "Test MAE: 2060.712\n",
      "Train MAPE: 9.061\n"
     ]
    }
   ],
   "source": [
    "# create the log-transformed target variable (price)\n",
    "y_train_log = np.log(y_train)\n",
    "\n",
    "# Initialize the LinearRegression object\n",
    "lr = linear_model.LinearRegression()\n",
    "# Train the model to predict the logarithm of the target\n",
    "lr.fit(X_train, y_train_log)\n",
    "\n",
    "# Make predictions for each split\n",
    "# If trained on the logarithm, apply the inverse function (exponential) to predictions\n",
    "y_train_pred = np.exp(lr.predict(X_train))\n",
    "y_test_pred  = np.exp(lr.predict(X_test))\n",
    "\n",
    "# Print the resulting metrics\n",
    "print_metrics(y_train, y_train_pred, y_test, y_test_pred)\n"
   ]
  },
  {
   "cell_type": "markdown",
   "id": "de939f3b-2d8c-4e27-843b-c2cb3d2b68d8",
   "metadata": {},
   "source": [
    "Попробуем добавить в данные полиномиальные признаки и построить модель полиномиальной регрессии. Предварительно нормализуем данные:"
   ]
  },
  {
   "cell_type": "code",
   "execution_count": 28,
   "id": "d1e353dd-080e-4467-8e75-dd08f98680b2",
   "metadata": {},
   "outputs": [
    {
     "name": "stdout",
     "output_type": "stream",
     "text": [
      "Train shape: (8246, 665)\n",
      "Test shape: (2062, 665)\n"
     ]
    }
   ],
   "source": [
    "#Создаем объект для min-max нормализации\n",
    "scaler = preprocessing.MinMaxScaler()\n",
    "#Вычисляем параметры для нормализации - min и max для каждого столбца\n",
    "scaler.fit(X_train)\n",
    "#Производим преобразование для каждой из выборок\n",
    "X_train_scaled = scaler.transform(X_train)\n",
    "X_test_scaled = scaler.transform(X_test)\n",
    "\n",
    "#Создаем объект для генерации полиномиальных признаков степени 2\n",
    "poly = preprocessing.PolynomialFeatures(degree=2, include_bias=False)\n",
    "#Вычисляем параметры генерации - результирующее количество признак\n",
    "poly.fit(X_train_scaled)\n",
    "#Производим преобразование для каждой из выборок\n",
    "X_train_scaled_poly = poly.transform(X_train_scaled)\n",
    "X_test_scaled_poly = poly.transform(X_test_scaled)\n",
    "\n",
    "print('Train shape: {}'.format(X_train_scaled_poly.shape))\n",
    "print('Test shape: {}'.format(X_test_scaled_poly.shape))"
   ]
  },
  {
   "cell_type": "markdown",
   "id": "58d83f6a-6b7d-42cb-bb9b-ad55968ec4a4",
   "metadata": {},
   "source": [
    "Попробуем обучить модель линейной регрессии на сгенерированных данных. Спойлер: код выполнится с ошибкой. Причина - слишком высокие коэффициенты модели, из-за чего модель выдает огромные значения цены, которая затем еще и возводится в экспоненту, в результате чего возникает ошибка числа, не помещающегося в тип данных float64. "
   ]
  },
  {
   "cell_type": "code",
   "execution_count": 29,
   "id": "684a1519-489f-43e2-9c9d-241a74915464",
   "metadata": {},
   "outputs": [],
   "source": [
    "# lr_poly = linear_model.LinearRegression()\n",
    "# lr_poly.fit(X_train_scaled_poly, y_train_log)\n",
    "# y_train_pred = np.exp(lr_poly.predict(X_train_scaled_poly))\n",
    "# y_test_pred = np.exp(lr_poly.predict(X_test_scaled_poly))\n",
    "\n",
    "# print_metrics(y_train, y_train_pred, y_test, y_test_pred)"
   ]
  },
  {
   "cell_type": "markdown",
   "id": "84d8180d-b04a-43c5-b35a-5d568c1a13ac",
   "metadata": {},
   "source": [
    "Решение проблемы огромных значений коэффициентов - использование регуляризации"
   ]
  },
  {
   "cell_type": "markdown",
   "id": "da2da575-dc1a-408f-a20d-b9a080d0f494",
   "metadata": {},
   "source": [
    "Идея регуляризации - добавление в модель штрафа за высокие значения коэффициентов, которые являются прямым признаком переобучения. "
   ]
  },
  {
   "cell_type": "markdown",
   "id": "091e0f25-cb23-468f-bb9c-600b981d683d",
   "metadata": {},
   "source": [
    "**Линейная регрессия с L2-регуляризацией**"
   ]
  },
  {
   "cell_type": "markdown",
   "id": "fdd62058-6bfa-4316-9986-31812feeeabd",
   "metadata": {},
   "source": [
    "L2-регуляризация добавляет к функции ошибки дополнительное слагаемое, которое вносит смещение в обучение модели. Слагаемое - сумма квадратов коэффициентов модели.\n",
    "\n",
    "$$L(\\omega) = MSE + \\alpha \\sum_{j=1}^{m}{\\omega_j^2}$$"
   ]
  },
  {
   "cell_type": "markdown",
   "id": "80da6237-18bb-49ac-84a8-809259d6e86a",
   "metadata": {},
   "source": [
    "$\\alpha$ - коэффициент регуляризации, чем он выше, тем большее смещение вносится в модель (тем сильнее штраф за переобучение)"
   ]
  },
  {
   "cell_type": "markdown",
   "id": "69e43a76-033f-4e18-b044-5add676c5599",
   "metadata": {},
   "source": [
    "В библиотеке sklearn линейная регрессия с L2-регуляризацией (гребневая регрессия) реализована в классе Ridge модуля linear_model. \n",
    "\n",
    "Методы:\n",
    "* fit() - подгонка параметров по методу координатного спуска - безпроизводный аналов градиентного спуска (обучение модели)\n",
    "* predict() - предсказание (подстановка наблюдения $x_i$ в модель и получение ответа для каждого наблюдения)\n",
    "\n",
    "Атрибуты:\n",
    "* coef_ - найденные коэффициенты $\\omega_1, \\omega_2,$ ...,$ \\omega_m$ (в виде вектора)\n",
    "* intercept_ - свободный член $\\omega_0$"
   ]
  },
  {
   "cell_type": "code",
   "execution_count": 30,
   "id": "7f975a29-cbeb-43cd-899e-af65a2078378",
   "metadata": {},
   "outputs": [
    {
     "name": "stdout",
     "output_type": "stream",
     "text": [
      "Train R^2: 0.946\n",
      "Train MAE: 1714.759\n",
      "Train MAPE: 7.798\n",
      "\n",
      "\n",
      "Test R^2: 0.934\n",
      "Test MAE: 1826.895\n",
      "Train MAPE: 8.184\n"
     ]
    }
   ],
   "source": [
    "#Инициализируем объект класса линейная регрессия с L2-регуляризацией \n",
    "ridge_lr_poly = linear_model.Ridge()\n",
    "#Обучаем модель предсказывать логарифм целевого признака\n",
    "ridge_lr_poly.fit(X_train_scaled_poly, y_train_log)\n",
    "#Делаем предсказание для каждой из выборок\n",
    "#Если обучили на логарифме, то от результата необходимо взять обратную функцию - экспоненту\n",
    "y_train_pred = np.exp(ridge_lr_poly.predict(X_train_scaled_poly))\n",
    "y_test_pred = np.exp(ridge_lr_poly.predict(X_test_scaled_poly))\n",
    "#Выводим результирующие метрики\n",
    "print_metrics(y_train, y_train_pred, y_test, y_test_pred)"
   ]
  },
  {
   "cell_type": "markdown",
   "id": "2914f359-13b1-49b8-b8f7-793618f93a5a",
   "metadata": {},
   "source": [
    "Качество модели можно улучшить, если подробовать подобрать оптимальное значение коэффициента регуляризации $\\alpha$ (по умолчанию в реализации sklearn $\\alpha = 1$). Нас интересует такое значение коэффициента, при котором наблюдается наилучшее значение метрики на тестовой выборке (наименьшее значение MAE), если таких значений $\\alpha$ несколько, то берем то, при котором разница в показателях на тренировочной и тестовой выборке наименьшая.\n"
   ]
  },
  {
   "cell_type": "markdown",
   "id": "65fc821a-709a-4df0-bd0d-629aa04f5275",
   "metadata": {},
   "source": [
    "**Подбор параметра регуляризации $\\alpha$**"
   ]
  },
  {
   "cell_type": "code",
   "execution_count": 31,
   "id": "bcc27474-dd41-4378-a0c5-992c4c63db56",
   "metadata": {},
   "outputs": [
    {
     "data": {
      "image/png": "[encoded data removed]",
      "text/plain": [
       "<Figure size 1200x400 with 1 Axes>"
      ]
     },
     "metadata": {},
     "output_type": "display_data"
    }
   ],
   "source": [
    "#Создаем список из 20 возможных значений от 0.001 до 10\n",
    "alpha_list = np.linspace(0.01, 10, 20)\n",
    "#Создаем пустые списки, в которые будем добавлять результаты \n",
    "train_scores = []\n",
    "test_scores = []\n",
    "for alpha in alpha_list:\n",
    "    #Создаем объект класса линейная регрессия с L2-регуляризацией\n",
    "    ridge_lr_poly = linear_model.Ridge(alpha=alpha, max_iter=10000)\n",
    "    #Обучаем модель предсказывать логарифм целевого признака\n",
    "    ridge_lr_poly.fit(X_train_scaled_poly, y_train_log)\n",
    "    #Делаем предсказание для каждой из выборок\n",
    "    #Если обучили на логарифме, то от результата необходимо взять обратную функцию - экспоненту\n",
    "    y_train_predict_poly = np.exp(ridge_lr_poly.predict(X_train_scaled_poly))\n",
    "    y_test_predict_poly = np.exp(ridge_lr_poly.predict(X_test_scaled_poly))\n",
    "    #Рассчитываем метрику для двух выборок и добавляем их в списки\n",
    "    train_scores.append(metrics.mean_absolute_error(y_train, y_train_predict_poly))\n",
    "    test_scores.append(metrics.mean_absolute_error(y_test, y_test_predict_poly))\n",
    "\n",
    "#Визуализируем изменение R^2 в зависимости от alpha\n",
    "fig, ax = plt.subplots(figsize=(12, 4)) #фигура + координатная плоскость\n",
    "ax.plot(alpha_list, train_scores, label='Train') #линейный график для тренировочной выборки\n",
    "ax.plot(alpha_list, test_scores, label='Test') #линейный график для тестовой выборки\n",
    "ax.set_xlabel('Alpha') #название оси абсцисс\n",
    "ax.set_ylabel('MAE') #название оси ординат\n",
    "ax.set_xticks(alpha_list) #метки по оси абцисс\n",
    "ax.xaxis.set_tick_params(rotation=45) #поворот меток на оси абсцисс\n",
    "ax.legend(); #отображение легенды"
   ]
  },
  {
   "cell_type": "markdown",
   "id": "30c03df2-5dff-4a91-9313-b8fd116cc189",
   "metadata": {},
   "source": [
    "Наилучшее значение метрики соотвествует alpha=0.01 (кстати, можно попробовать перебрать значения alpha < 0.01).\n",
    "\n",
    "Обучим модель линейной регрессии с L2-регуляризацией с коэффициентов регуляризации alpha=0.01"
   ]
  },
  {
   "cell_type": "markdown",
   "id": "11637bf1-2db8-428b-b375-52da67466367",
   "metadata": {},
   "source": [
    "**Финальная модель**"
   ]
  },
  {
   "cell_type": "code",
   "execution_count": 32,
   "id": "a72ed673-c738-4396-9dda-e68019549e78",
   "metadata": {},
   "outputs": [
    {
     "name": "stdout",
     "output_type": "stream",
     "text": [
      "Train R^2: 0.951\n",
      "Train MAE: 1656.825\n",
      "Train MAPE: 7.610\n",
      "\n",
      "\n",
      "Test R^2: 0.937\n",
      "Test MAE: 1772.183\n",
      "Train MAPE: 7.994\n"
     ]
    }
   ],
   "source": [
    "#Создаем объект класса линейная регрессия с L2-регуляризацией\n",
    "#Выставляем параметр alpha в подобранное выше значение\n",
    "ridge_lr = linear_model.Ridge(alpha=0.01)\n",
    "#Обучаем модель предсказывать логарифм целевого признака\n",
    "ridge_lr.fit(X_train_scaled_poly, y_train_log)\n",
    "#Делаем предсказание для каждой из выборок\n",
    "#Если обучили на логарифме, то от результата необходимо взять обратную функцию - экспоненту\n",
    "y_train_pred = np.exp(ridge_lr.predict(X_train_scaled_poly))\n",
    "y_test_pred = np.exp(ridge_lr.predict(X_test_scaled_poly))\n",
    "\n",
    "print_metrics(y_train, y_train_pred, y_test, y_test_pred)"
   ]
  },
  {
   "cell_type": "markdown",
   "id": "1ec34cf8-dd97-46a3-84a2-576ad8f06591",
   "metadata": {},
   "source": [
    "Посмотрим на разброс ошибок нашей модели с помощью boxplot-диграммы. Это поможет нам понять, как много автомобилей в каждой из выборок, для которых мы допускаем высокую ошибку в предсказании цены."
   ]
  },
  {
   "cell_type": "code",
   "execution_count": 33,
   "id": "f18bc576-01df-4816-a280-b0bb785c1252",
   "metadata": {},
   "outputs": [
    {
     "data": {
      "image/png": "[encoded data removed]",
      "text/plain": [
       "<Figure size 1200x600 with 1 Axes>"
      ]
     },
     "metadata": {},
     "output_type": "display_data"
    }
   ],
   "source": [
    "#Визуализируем ошибки\n",
    "fig, ax = plt.subplots(figsize=(12, 6)) #фигура+координатная плоскость\n",
    "#Ошибки модели на тренировочной выборке \n",
    "y_train_errors = y_train - y_train_pred\n",
    "#Ошибки модели на тестовой выборке\n",
    "y_test_errors = y_test - y_test_pred\n",
    "#Для удобства визуализации составим DataFrame из ошибок\n",
    "predict_df = pd.DataFrame(\n",
    "    {'Train errors': y_train_errors, \n",
    "     'Test errors': y_test_errors\n",
    "    }\n",
    ")\n",
    "#Строим boxplot для ошибок\n",
    "sns.boxplot(data=predict_df, ax=ax)\n",
    "ax.set_xlabel('Model errors') #название оси абсцисс\n",
    "ax.set_ylabel('Model'); #название оси ординат"
   ]
  },
  {
   "cell_type": "markdown",
   "id": "0ebfc5db-18d0-406e-be20-d681e67b1e6a",
   "metadata": {},
   "source": [
    "Возможные дальнейшие шаги по улучшению:\n",
    "* feature engineering - попыться сгенерировать новые признаки в данных/присоединить внешние источники, например данные о рейтинге каждой из моделей audi на рынке\n",
    "* попытаться привести все числовые признаки к нормальному распределению (например, с помощью логарифмирования)\n",
    "* объединить категориальный признак model в ценовые сегменты автомобилей, чтобы уменьшить количество категорий\n",
    "* найти наблюдения, для которых наблюдается высокая ошибка между предсказанием и действительностью и понять, что с ними \"не так\""
   ]
  }
 ],
 "metadata": {
  "kernelspec": {
   "display_name": "Python 3",
   "language": "python",
   "name": "python3"
  },
  "language_info": {
   "codemirror_mode": {
    "name": "ipython",
    "version": 3
   },
   "file_extension": ".py",
   "mimetype": "text/x-python",
   "name": "python",
   "nbconvert_exporter": "python",
   "pygments_lexer": "ipython3",
   "version": "3.12.5"
  }
 },
 "nbformat": 4,
 "nbformat_minor": 5
}
