{
 "cells": [
  {
   "cell_type": "markdown",
   "id": "19ae5ad1",
   "metadata": {},
   "source": [
    "![Linear Regression Models](Images/polynomial_regularization.png)"
   ]
  },
  {
   "cell_type": "markdown",
   "id": "138aa11c",
   "metadata": {},
   "source": [
    "🐇 The central problem of all supervised learning (not only linear models) is the **bias–variance tradeoff**.  \n",
    "Let’s find out what this means.\n",
    "\n",
    "---\n",
    "\n",
    "## Bias and Variance\n",
    "\n",
    "Up until now, we have trained models on all available data.  \n",
    "On one hand, this makes sense — we want to minimize model errors by using as much data as possible for training.  \n",
    "\n",
    "On the other hand, this approach makes it harder to evaluate how well the model actually performs.  \n",
    "The reason is that if we continue to calculate metrics only on training data, we may find that when the model is applied to unseen data, it performs quite poorly.\n",
    "\n",
    "<div style=\"background-color:#2c2c2c; border:1px solid #555; color:#f0f0f0; padding:12px; border-radius:6px; margin:12px 0;\">\n",
    "→ In other words, the model may fit the training set in great detail but fail to capture the general underlying patterns.\n",
    "</div>\n",
    "\n",
    "---\n",
    "\n",
    "### Overfitting (High Variance)\n",
    "\n",
    "This problem is called **overfitting**.  \n",
    "Essentially, such a model performs much better on the training data than on new data.  \n",
    "It has become too finely tuned to the unique characteristics of the training set, which are not generalizable patterns.\n",
    "\n",
    "<div style=\"background-color:#1e4620; border:1px solid #2e7d32; color:#e0f2e9; padding:12px; border-radius:6px; margin:12px 0;\">\n",
    "<b>Overfitting:</b> Low error on training data, but high error on test (unseen) data.\n",
    "</div>\n",
    "\n",
    "---\n",
    "\n",
    "### Underfitting (High Bias)\n",
    "\n",
    "**Underfitting** is the opposite problem.  \n",
    "Here, the model is too weak to capture any meaningful patterns in the data.  \n",
    "As a result, the error is high both on the training data and on the unseen data.\n",
    "\n",
    "<div style=\"background-color:#1e4620; border:1px solid #2e7d32; color:#e0f2e9; padding:12px; border-radius:6px; margin:12px 0;\">\n",
    "<b>Underfitting:</b> High error on both training and test data.\n",
    "</div>\n"
   ]
  },
  {
   "cell_type": "markdown",
   "id": "ac0008e5",
   "metadata": {},
   "source": [
    "<p align=\"center\">\n",
    "  <img src=\"Images/under_over_fit.jpg\" width=\"920\" alt=\"Gradient descent illustration\">\n",
    "</p>"
   ]
  },
  {
   "cell_type": "markdown",
   "id": "d244bd3e",
   "metadata": {},
   "source": [
    "# Bias and Variance: Theoretical Definitions\n",
    "\n",
    "From a theoretical perspective, **underfitting** and **overfitting** are described by the concepts of **bias** and **variance** of a model.\n",
    "\n",
    "---\n",
    "\n",
    "### Bias (Systematic Error)\n",
    "\n",
    "**Bias** is the expected difference between the true outcome and the model’s predicted outcome.  \n",
    "In other words, it is the expected error of the model:\n",
    "\n",
    "$\n",
    "bias(\\hat{y}) = M \\big[ (y - \\hat{y}) \\big]\n",
    "$\n",
    "\n",
    "<div style=\"background-color:#1e4620; border:1px solid #2e7d32; color:#e0f2e9; padding:12px; border-radius:6px; margin:12px 0;\">\n",
    "<b>Note:</b> The expectation operator is often denoted as <code>E</code>:  \n",
    "\n",
    "$$\n",
    "bias(\\hat{y}) = E \\big[ (y - \\hat{y}) \\big]\n",
    "$$\n",
    "\n",
    "The larger the bias, the weaker the model.  \n",
    "If the model is weak, it fails to capture patterns in the data → this is **underfitting**.\n",
    "\n",
    "---\n",
    "\n",
    "### Variance (Model Instability)\n",
    "\n",
    "**Variance** is the variability of the error, i.e., how much the error will differ if the model is trained on different samples of the data.  \n",
    "Mathematically, this is the **dispersion** (spread) of the model’s predictions:\n",
    "\n",
    "$$\n",
    "variance(\\hat{y}) = D \\big[ (y - \\hat{y}) \\big]\n",
    "$$\n",
    "\n",
    "<div style=\"background-color:#1e4620; border:1px solid #2e7d32; color:#e0f2e9; padding:12px; border-radius:6px; margin:12px 0;\">\n",
    "<b>Note:</b> Variance is often denoted as <code>Var</code>:  \n",
    "\n",
    "$$\n",
    "variance(\\hat{y}) = Var \\big[ (y - \\hat{y}) \\big]\n",
    "$$\n",
    "</div>\n"
   ]
  },
  {
   "cell_type": "markdown",
   "id": "6af573f2",
   "metadata": {},
   "source": [
    "# Bias–Variance Decomposition of MSE\n",
    "\n",
    "The greater the variance, the more the model’s error fluctuates across different datasets.  \n",
    "High variance is a sign of **overfitting**: the model adapts too closely to a specific training set and shows unstable predictions on new data.\n",
    "\n",
    "---\n",
    "\n",
    "## Theoretical Decomposition\n",
    "\n",
    "In theory, any loss function can be decomposed into **bias** and **variance** components.  \n",
    "For example, the decomposition of the **mean squared error (MSE)** (its mathematical expectation) looks like this:\n",
    "\n",
    "$$\n",
    "M \\big[ (y - \\hat{y})^2 \\big] = bias(\\hat{y})^2 + variance(\\hat{y}) + \\sigma^2\n",
    "$$\n",
    "\n",
    "---\n",
    "\n",
    "<div style=\"background-color:#1e4620; border:1px solid #2e7d32; color:#e0f2e9; padding:12px; border-radius:6px; margin:12px 0;\">\n",
    "<b>Note:</b> The expectation of the squared error is the theoretical analogue of MSE:\n",
    "\n",
    "$$\n",
    "MSE = \\frac{\\sum_{i=1}^n (y_i - \\hat{y}_i)^2}{n}\n",
    "$$\n",
    "\n",
    "Mathematical expectation is the average across the **entire population** (an infinite dataset), not just a sample.  \n",
    "This makes it a purely theoretical quantity.\n",
    "</div>\n",
    "\n",
    "---\n",
    "\n",
    "<div style=\"background-color:#1e4620; border:1px solid #2e7d32; color:#e0f2e9; padding:12px; border-radius:6px; margin:12px 0;\">\n",
    "<b>Formula breakdown:</b><br>\n",
    "- σ² — irreducible error, caused by randomness.<br>\n",
    "- bias(ŷ)² — squared bias of the model.<br>\n",
    "- variance(ŷ) — variance (spread) of the model’s predictions.\n",
    "</div>\n",
    "\n",
    "---\n",
    "\n",
    "## What does this theoretical formula tell us?\n",
    "\n",
    "The total error of the model is composed of:\n",
    "- The squared bias of the model,  \n",
    "- The variance of the model, and  \n",
    "- Random irreducible error.\n",
    "\n",
    "<div style=\"background-color:#2c2c2c; border:1px solid #555; color:#f0f0f0; padding:12px; border-radius:6px; margin:12px 0;\">\n",
    "→ We cannot influence the last term σ², but we can act on bias and variance.  \n",
    "Ideally, we want both to approach zero.  \n",
    "However, in practice, reducing one often increases the other.  \n",
    "This is the essence of the <code>bias–variance tradeoff</code>.\n",
    "</div>\n"
   ]
  },
  {
   "cell_type": "markdown",
   "id": "37aa091e",
   "metadata": {},
   "source": [
    "# The Bias–Variance Tradeoff\n",
    "\n",
    "→ We cannot influence the last term ($\\sigma^2$), but we can affect the first two terms (**bias** and **variance**).  \n",
    "Ideally, we would like to reduce both to zero.  \n",
    "However, decreasing one usually increases the other.  \n",
    "In practice, we must balance between biased but stable models and unbiased but unstable ones.\n",
    "\n",
    "---\n",
    "\n",
    "## The Bias–Variance Dilemma\n",
    "\n",
    "The **bias–variance tradeoff** is the central problem of supervised learning.  \n",
    "Ideally, we want to build a model that accurately captures patterns in training data and also performs well on unseen data.  \n",
    "Unfortunately, this is rarely possible simultaneously.\n",
    "\n",
    "---\n",
    "\n",
    "<div style=\"background-color:#5c1e1e; border:1px solid #a33; color:#f0f0f0; padding:12px; border-radius:6px; margin:12px 0;\">\n",
    "- Making the model more complex reduces <code>bias</code> but increases the risk of <code>overfitting</code> i.e., higher <code>variance</code>.  \n",
    "- Simpler models tend to have lower <code>variance</code> (less risk of overfitting), but they may fail to capture relationships in the data → higher <code>bias</code> (underfitting).\n",
    "</div>\n",
    "\n",
    "---\n",
    "\n",
    "## Analogy: Darts Player 🎯\n",
    "\n",
    "Imagine the model is a darts player:\n",
    "\n",
    "- The **best player** has both low bias and low variance: darts land tightly grouped right at the bullseye.  \n",
    "- A player with **high bias** will have darts clustered together, but away from the bullseye.  \n",
    "- A player with **high variance** will have darts scattered all over the board.  \n",
    "- A **bad model** has both: darts are spread out and not near the bullseye.\n",
    "\n",
    "This analogy shows how **bias** and **variance** interact in practice.\n"
   ]
  },
  {
   "cell_type": "markdown",
   "id": "f2a53d6a",
   "metadata": {},
   "source": [
    "\n",
    "<p align=\"center\">\n",
    "  <img src=\"Images/bias_variance_targets_clean.png\" width=\"720\" alt=\"Gradient descent illustration\">\n",
    "</p>"
   ]
  },
  {
   "cell_type": "markdown",
   "id": "cda56ad7",
   "metadata": {},
   "source": [
    "# Interesting Fact: Gauss–Markov Theorem\n",
    "\n",
    "<div style=\"background-color:#1e4620; border:1px solid #2e7d32; color:#e0f2e9; padding:12px; border-radius:6px; margin:12px 0;\">\n",
    "<b>Interesting fact.</b> According to the <a href=\"https://en.wikipedia.org/wiki/Gauss%E2%80%93Markov_theorem\">Gauss–Markov theorem</a>, the estimates of linear regression obtained by the <b>ordinary least squares (OLS)</b> method have the smallest variance.  \n",
    "\n",
    "That is, if there exists another linear model trained by a method different from OLS (e.g., gradient descent), the theorem guarantees that this model will have variance **greater than or equal to** that of the OLS model.  \n",
    "\n",
    "Thus, for linear regression trained with OLS, the risk of overfitting is the lowest.  \n",
    "\n",
    "However, this does not mean that overfitting is impossible at all.\n",
    "</div>\n",
    "\n",
    "---\n",
    "\n",
    "# From Theory to Practice: How to Detect Bias and Variance?\n",
    "\n",
    "Now that we know the theoretical foundations of underfitting and overfitting, what can we do in practice to judge a model’s ability to generalize?  \n",
    "How do we diagnose high **bias** and **variance**?\n",
    "\n",
    "The typical solution is to split the data into two parts:  \n",
    "- **Training set** — used to train the model and adjust parameters.  \n",
    "- **Test set** — unseen by the model during training, used to assess the true quality of the model.\n",
    "\n",
    "This separation allows us to evaluate generalization ability.  \n",
    "Schematically, it can be represented as follows:\n"
   ]
  },
  {
   "cell_type": "markdown",
   "id": "7931e9c1",
   "metadata": {},
   "source": [
    "<p align=\"center\">\n",
    "  <img src=\"Images/train_split.png\" width=\"720\" alt=\"Gradient descent illustration\">\n",
    "</p>"
   ]
  },
  {
   "cell_type": "markdown",
   "id": "d19f6c5a",
   "metadata": {},
   "source": [
    "# Let’s see how this works in practice\n",
    "\n",
    "We’ll use a dataset you already know — the **housing** data."
   ]
  },
  {
   "cell_type": "code",
   "execution_count": 2,
   "id": "1fc2398b",
   "metadata": {},
   "outputs": [],
   "source": [
    "import numpy as np          # matrix computations\n",
    "import pandas as pd         # data analysis & preprocessing\n",
    "import matplotlib.pyplot as plt  # visualization\n",
    "import seaborn as sns       # visualization\n",
    "from sklearn import linear_model  # linear models\n",
    "from sklearn import metrics       # metrics"
   ]
  },
  {
   "cell_type": "code",
   "execution_count": 3,
   "id": "9511dfb7",
   "metadata": {},
   "outputs": [
    {
     "data": {
      "application/vnd.microsoft.datawrangler.viewer.v0+json": {
       "columns": [
        {
         "name": "index",
         "rawType": "int64",
         "type": "integer"
        },
        {
         "name": "CRIM",
         "rawType": "float64",
         "type": "float"
        },
        {
         "name": "ZN",
         "rawType": "float64",
         "type": "float"
        },
        {
         "name": "INDUS",
         "rawType": "float64",
         "type": "float"
        },
        {
         "name": "CHAS",
         "rawType": "int64",
         "type": "integer"
        },
        {
         "name": "NOX",
         "rawType": "float64",
         "type": "float"
        },
        {
         "name": "RM",
         "rawType": "float64",
         "type": "float"
        },
        {
         "name": "AGE",
         "rawType": "float64",
         "type": "float"
        },
        {
         "name": "DIS",
         "rawType": "float64",
         "type": "float"
        },
        {
         "name": "RAD",
         "rawType": "int64",
         "type": "integer"
        },
        {
         "name": "TAX",
         "rawType": "float64",
         "type": "float"
        },
        {
         "name": "PTRATIO",
         "rawType": "float64",
         "type": "float"
        },
        {
         "name": "B",
         "rawType": "float64",
         "type": "float"
        },
        {
         "name": "LSTAT",
         "rawType": "float64",
         "type": "float"
        },
        {
         "name": "MEDV",
         "rawType": "float64",
         "type": "float"
        }
       ],
       "ref": "13d04854-3348-4cb4-bb59-b868c0dc0095",
       "rows": [
        [
         "0",
         "0.00632",
         "18.0",
         "2.31",
         "0",
         "0.538",
         "6.575",
         "65.2",
         "4.09",
         "1",
         "296.0",
         "15.3",
         "396.9",
         "4.98",
         "24.0"
        ],
        [
         "1",
         "0.02731",
         "0.0",
         "7.07",
         "0",
         "0.469",
         "6.421",
         "78.9",
         "4.9671",
         "2",
         "242.0",
         "17.8",
         "396.9",
         "9.14",
         "21.6"
        ],
        [
         "2",
         "0.02729",
         "0.0",
         "7.07",
         "0",
         "0.469",
         "7.185",
         "61.1",
         "4.9671",
         "2",
         "242.0",
         "17.8",
         "392.83",
         "4.03",
         "34.7"
        ],
        [
         "3",
         "0.03237",
         "0.0",
         "2.18",
         "0",
         "0.458",
         "6.998",
         "45.8",
         "6.0622",
         "3",
         "222.0",
         "18.7",
         "394.63",
         "2.94",
         "33.4"
        ],
        [
         "4",
         "0.06905",
         "0.0",
         "2.18",
         "0",
         "0.458",
         "7.147",
         "54.2",
         "6.0622",
         "3",
         "222.0",
         "18.7",
         "396.9",
         "5.33",
         "36.2"
        ]
       ],
       "shape": {
        "columns": 14,
        "rows": 5
       }
      },
      "text/html": [
       "<div>\n",
       "<style scoped>\n",
       "    .dataframe tbody tr th:only-of-type {\n",
       "        vertical-align: middle;\n",
       "    }\n",
       "\n",
       "    .dataframe tbody tr th {\n",
       "        vertical-align: top;\n",
       "    }\n",
       "\n",
       "    .dataframe thead th {\n",
       "        text-align: right;\n",
       "    }\n",
       "</style>\n",
       "<table border=\"1\" class=\"dataframe\">\n",
       "  <thead>\n",
       "    <tr style=\"text-align: right;\">\n",
       "      <th></th>\n",
       "      <th>CRIM</th>\n",
       "      <th>ZN</th>\n",
       "      <th>INDUS</th>\n",
       "      <th>CHAS</th>\n",
       "      <th>NOX</th>\n",
       "      <th>RM</th>\n",
       "      <th>AGE</th>\n",
       "      <th>DIS</th>\n",
       "      <th>RAD</th>\n",
       "      <th>TAX</th>\n",
       "      <th>PTRATIO</th>\n",
       "      <th>B</th>\n",
       "      <th>LSTAT</th>\n",
       "      <th>MEDV</th>\n",
       "    </tr>\n",
       "  </thead>\n",
       "  <tbody>\n",
       "    <tr>\n",
       "      <th>0</th>\n",
       "      <td>0.00632</td>\n",
       "      <td>18.0</td>\n",
       "      <td>2.31</td>\n",
       "      <td>0</td>\n",
       "      <td>0.538</td>\n",
       "      <td>6.575</td>\n",
       "      <td>65.2</td>\n",
       "      <td>4.0900</td>\n",
       "      <td>1</td>\n",
       "      <td>296.0</td>\n",
       "      <td>15.3</td>\n",
       "      <td>396.90</td>\n",
       "      <td>4.98</td>\n",
       "      <td>24.0</td>\n",
       "    </tr>\n",
       "    <tr>\n",
       "      <th>1</th>\n",
       "      <td>0.02731</td>\n",
       "      <td>0.0</td>\n",
       "      <td>7.07</td>\n",
       "      <td>0</td>\n",
       "      <td>0.469</td>\n",
       "      <td>6.421</td>\n",
       "      <td>78.9</td>\n",
       "      <td>4.9671</td>\n",
       "      <td>2</td>\n",
       "      <td>242.0</td>\n",
       "      <td>17.8</td>\n",
       "      <td>396.90</td>\n",
       "      <td>9.14</td>\n",
       "      <td>21.6</td>\n",
       "    </tr>\n",
       "    <tr>\n",
       "      <th>2</th>\n",
       "      <td>0.02729</td>\n",
       "      <td>0.0</td>\n",
       "      <td>7.07</td>\n",
       "      <td>0</td>\n",
       "      <td>0.469</td>\n",
       "      <td>7.185</td>\n",
       "      <td>61.1</td>\n",
       "      <td>4.9671</td>\n",
       "      <td>2</td>\n",
       "      <td>242.0</td>\n",
       "      <td>17.8</td>\n",
       "      <td>392.83</td>\n",
       "      <td>4.03</td>\n",
       "      <td>34.7</td>\n",
       "    </tr>\n",
       "    <tr>\n",
       "      <th>3</th>\n",
       "      <td>0.03237</td>\n",
       "      <td>0.0</td>\n",
       "      <td>2.18</td>\n",
       "      <td>0</td>\n",
       "      <td>0.458</td>\n",
       "      <td>6.998</td>\n",
       "      <td>45.8</td>\n",
       "      <td>6.0622</td>\n",
       "      <td>3</td>\n",
       "      <td>222.0</td>\n",
       "      <td>18.7</td>\n",
       "      <td>394.63</td>\n",
       "      <td>2.94</td>\n",
       "      <td>33.4</td>\n",
       "    </tr>\n",
       "    <tr>\n",
       "      <th>4</th>\n",
       "      <td>0.06905</td>\n",
       "      <td>0.0</td>\n",
       "      <td>2.18</td>\n",
       "      <td>0</td>\n",
       "      <td>0.458</td>\n",
       "      <td>7.147</td>\n",
       "      <td>54.2</td>\n",
       "      <td>6.0622</td>\n",
       "      <td>3</td>\n",
       "      <td>222.0</td>\n",
       "      <td>18.7</td>\n",
       "      <td>396.90</td>\n",
       "      <td>5.33</td>\n",
       "      <td>36.2</td>\n",
       "    </tr>\n",
       "  </tbody>\n",
       "</table>\n",
       "</div>"
      ],
      "text/plain": [
       "      CRIM    ZN  INDUS  CHAS    NOX     RM   AGE     DIS  RAD    TAX  \\\n",
       "0  0.00632  18.0   2.31     0  0.538  6.575  65.2  4.0900    1  296.0   \n",
       "1  0.02731   0.0   7.07     0  0.469  6.421  78.9  4.9671    2  242.0   \n",
       "2  0.02729   0.0   7.07     0  0.469  7.185  61.1  4.9671    2  242.0   \n",
       "3  0.03237   0.0   2.18     0  0.458  6.998  45.8  6.0622    3  222.0   \n",
       "4  0.06905   0.0   2.18     0  0.458  7.147  54.2  6.0622    3  222.0   \n",
       "\n",
       "   PTRATIO       B  LSTAT  MEDV  \n",
       "0     15.3  396.90   4.98  24.0  \n",
       "1     17.8  396.90   9.14  21.6  \n",
       "2     17.8  392.83   4.03  34.7  \n",
       "3     18.7  394.63   2.94  33.4  \n",
       "4     18.7  396.90   5.33  36.2  "
      ]
     },
     "metadata": {},
     "output_type": "display_data"
    }
   ],
   "source": [
    "# Column names in the dataset\n",
    "column_names = ['CRIM', 'ZN', 'INDUS', 'CHAS', 'NOX', 'RM', 'AGE', 'DIS',\n",
    "                'RAD', 'TAX', 'PTRATIO', 'B', 'LSTAT', 'MEDV']\n",
    "\n",
    "# Load the Boston housing data (space-separated text)\n",
    "housing_data = pd.read_csv('Data/HousingDataSet.csv',\n",
    "                          header=None,\n",
    "                          delimiter=r\"\\s+\",\n",
    "                          names=column_names)\n",
    "\n",
    "display(housing_data.head())\n",
    "\n",
    "# Build the list of features (exclude the target column)\n",
    "features = housing_data.drop('MEDV', axis=1).columns\n",
    "\n",
    "# Observation matrix X and target vector y\n",
    "X = housing_data[features]\n",
    "y = housing_data['MEDV']"
   ]
  },
  {
   "cell_type": "markdown",
   "id": "ff636675",
   "metadata": {},
   "source": [
    "# Train/Test Split in `sklearn`\n",
    "\n",
    "In `sklearn`, you can split data into training and test sets with [`train_test_split`](https://scikit-learn.org/stable/modules/generated/sklearn.model_selection.train_test_split.html) from `model_selection`.  \n",
    "The function accepts the following key arguments:\n",
    "\n",
    "- **`X` and `y`** — the matrix of examples and the target vector.\n",
    "- **`random_state`** — an integer seed used to generate random numbers.  \n",
    "  Both the training and test sets are created randomly. To make your experiment **reproducible**, set this parameter to a fixed value.\n",
    "- **`test_size`** — the share of the dataset used for the **test** split.  \n",
    "  Typical choices are **0.3** (70/30 split) or **0.2** (80/20 split).\n",
    "\n",
    "<div style=\"background-color:#2c2c2c; border:1px solid #555; color:#f0f0f0; padding:12px; border-radius:6px; margin:12px 0;\">\n",
    "<b>Return values (in order):</b> <code>X_train</code>, <code>X_test</code>, <code>y_train</code>, <code>y_test</code>.\n",
    "</div>\n",
    "\n",
    "### Example: Split the Housing data 70/30"
   ]
  },
  {
   "cell_type": "code",
   "execution_count": 4,
   "id": "964a4aa6",
   "metadata": {},
   "outputs": [
    {
     "name": "stdout",
     "output_type": "stream",
     "text": [
      "Train: (354, 13) (354,)\n",
      "Test: (152, 13) (152,)\n"
     ]
    }
   ],
   "source": [
    "from sklearn.model_selection import train_test_split\n",
    "\n",
    "# Split the dataset into train and test in a 70/30 ratio\n",
    "# Fix random_state for reproducibility\n",
    "X_train, X_test, y_train, y_test = train_test_split(\n",
    "    X, y, test_size=0.3, random_state=40\n",
    ")\n",
    "\n",
    "# Show resulting shapes\n",
    "print('Train:', X_train.shape, y_train.shape)\n",
    "print('Test:',  X_test.shape,  y_test.shape)\n",
    "\n",
    "# Expected:\n",
    "# Train: (354, 13) (354,)\n",
    "# Test:  (152, 13) (152,)"
   ]
  },
  {
   "cell_type": "markdown",
   "id": "d6ec8df7",
   "metadata": {},
   "source": [
    "- After the split, the training set contains 354 observations and the test set contains 152."
   ]
  },
  {
   "cell_type": "code",
   "execution_count": 5,
   "id": "f08f95c3",
   "metadata": {},
   "outputs": [
    {
     "name": "stdout",
     "output_type": "stream",
     "text": [
      "Train R^2: 0.743\n",
      "Test R^2: 0.722\n"
     ]
    }
   ],
   "source": [
    "# Create the LinearRegression model\n",
    "lr_model = linear_model.LinearRegression()\n",
    "\n",
    "# Fit OLS on the training data\n",
    "lr_model.fit(X_train, y_train)\n",
    "\n",
    "# Predict on train and test\n",
    "y_train_predict = lr_model.predict(X_train)\n",
    "y_test_predict  = lr_model.predict(X_test)\n",
    "\n",
    "# Report R²\n",
    "print(f\"Train R^2: {round(metrics.r2_score(y_train, y_train_predict), 3)}\")\n",
    "print(f\"Test R^2: {round(metrics.r2_score(y_test, y_test_predict), 3)}\")\n",
    "\n",
    "# Example output:\n",
    "# Train R^2: 0.743\n",
    "# Test  R^2: 0.722"
   ]
  },
  {
   "cell_type": "markdown",
   "id": "da86c0ba",
   "metadata": {},
   "source": [
    "So, we obtained $R^2 = 0.743$ on the training set and $R^2 = 0.722$ on the test set.  \n",
    "These results are quite close to each other, which indicates a **low variance** (the model’s predictions are stable across different splits).\n",
    "\n",
    "---\n",
    "\n",
    "This is evidence of the absence of **overfitting**.  \n",
    "Not surprisingly — linear regression with 13 features is a rather simple model: only **14 parameters** in total, which is very small by machine learning standards.  \n",
    "The risk of overfitting increases as the number of features grows.\n",
    "\n",
    "---\n",
    "\n",
    "### But what about bias?\n",
    "\n",
    "The simplest way to assess model bias (underfitting) is to look at the metric value and **intuitively evaluate its adequacy**.  \n",
    "\n",
    "Our test score is $R^2 = 0.722$.  \n",
    "This is not a particularly strong result (recall that the maximum is 1).  \n",
    "It may indicate that the model is **too weak**.  \n",
    "\n",
    "One way to address this is to try a more complex model — for example, a **polynomial regression**.\n",
    "\n",
    "---\n",
    "\n",
    "<div style=\"background-color:#1e4620; border:1px solid #2e7d32; color:#e0f2e9; padding:12px; border-radius:6px; margin:12px 0;\">\n",
    "<b>Note:</b> There are more advanced visualization methods for assessing bias and variance, such as the <b>learning curve</b> and <b>cross-validation</b>.  \n",
    "We will cover these later in the course.\n",
    "</div>\n"
   ]
  },
  {
   "cell_type": "markdown",
   "id": "acf016d4",
   "metadata": {},
   "source": [
    "# Polynomial Features\n",
    "\n",
    "<div style=\"background-color:#1e4620; border:1px solid #2e7d32; color:#e0f2e9; padding:12px; border-radius:6px; margin:12px 0;\">\n",
    "<b>Polynomial Regression</b> — is a more complex model than linear regression.  \n",
    "Instead of a straight-line equation, it uses a polynomial (multinomial) equation.  \n",
    "The degree of the polynomial can be arbitrarily large: the higher the degree, the more complex the model.\n",
    "</div>\n",
    "\n",
    "---\n",
    "\n",
    "In the simple two-dimensional case, when we study the dependence of the target variable on a single feature,  \n",
    "a second-degree polynomial gives the equation of a parabola:\n",
    "\n",
    "$$\n",
    "\\hat{y} = w_0 + w_1 x + w_2 x^2\n",
    "$$\n",
    "\n",
    "Geometrically, in two-dimensional space, a polynomial is a **curve** that tries to describe the dependence in the data.  \n",
    "It looks like this:\n"
   ]
  },
  {
   "cell_type": "markdown",
   "id": "55a896b4",
   "metadata": {},
   "source": [
    "<p align=\"center\">\n",
    "  <img src=\"Images/polynomial_regression.png\" width=\"620\" alt=\"Gradient descent illustration\">\n",
    "</p>"
   ]
  },
  {
   "cell_type": "markdown",
   "id": "a24fd0fd",
   "metadata": {},
   "source": [
    "When there is more than one feature — for example, two — then in addition to squaring each feature,  \n",
    "we also get **interaction terms** from $x_1$ and $x_2$:\n",
    "\n",
    "$$\n",
    "\\hat{y} = w_0 + w_1 x_1 + w_2 x_1^2 + w_3 x_2 + w_4 x_2^2 + w_5 x_1 x_2\n",
    "$$\n",
    "\n",
    "Such a model describes a **complex surface in three-dimensional space**,  \n",
    "as illustrated in the figure:\n"
   ]
  },
  {
   "cell_type": "markdown",
   "id": "01a9530b",
   "metadata": {},
   "source": [
    "<p align=\"center\">\n",
    "  <img src=\"Images/polynomial_surface_3d.png\" width=\"620\" alt=\"Gradient descent illustration\">\n",
    "</p>"
   ]
  },
  {
   "cell_type": "markdown",
   "id": "b0fa465c",
   "metadata": {},
   "source": [
    "Notice how quickly the **number of coefficients** grows — and with it, the **complexity of the model**.  \n",
    "And that’s just with two features ($x_1$ and $x_2$).  \n",
    "We won’t write out the general polynomial equation (as we did for linear regression),  \n",
    "because it would contain too many terms.\n",
    "\n",
    "---\n",
    "\n",
    "For example, when we previously plotted the relationship between the **median housing price** and the **percentage of lower-status population**,  \n",
    "you might have noticed that the relationship is not linear, but rather **polynomial** in nature.\n"
   ]
  },
  {
   "cell_type": "markdown",
   "id": "2842be3a",
   "metadata": {},
   "source": [
    "<p align=\"center\">\n",
    "  <img src=\"Images/linear_vs_polynomial_regression.png\" width=\"620\" alt=\"Gradient descent illustration\">\n",
    "</p>"
   ]
  },
  {
   "cell_type": "markdown",
   "id": "cb4d3d28",
   "metadata": {},
   "source": [
    "In the figure, you can see models of **linear regression** and **polynomial regression (degree 2)**.\n",
    "\n",
    "---\n",
    "\n",
    "Notice that the powers of $x$ can also be considered as a kind of **artificial features** in the data.  \n",
    "They are called **polynomial features**.\n",
    "\n",
    "Therefore, polynomial regression is essentially the same linear regression, just with **new features**.  \n",
    "Polynomial features are one of the most widely used methods of **feature engineering**.\n",
    "\n",
    "### Example:"
   ]
  },
  {
   "cell_type": "markdown",
   "id": "483666de",
   "metadata": {},
   "source": [
    "<p align=\"center\">\n",
    "  <img src=\"Images/polynomial_features_tables.png\" width=\"720\" alt=\"Gradient descent illustration\">\n",
    "</p>"
   ]
  },
  {
   "cell_type": "markdown",
   "metadata": {},
   "source": [
    "→ Thanks to polynomial terms, the model becomes **more complex** and begins to capture more complicated dependencies,  \n",
    "resulting in **lower bias**.  \n",
    "However, as you might guess, the risk of **overfitting** increases sharply — the variance of predictions grows with the number of factors.\n",
    "\n",
    "---\n",
    "\n",
    "## Polynomial Regression in `sklearn`\n",
    "\n",
    "Building a polynomial regression in `sklearn` is straightforward.  \n",
    "We first need to create polynomial features using the class [`PolynomialFeatures`](https://scikit-learn.org/stable/modules/generated/sklearn.preprocessing.PolynomialFeatures.html) from the `preprocessing` module.  \n",
    "\n",
    "This transformer generates polynomial features of any degree and adds them to the dataset.  \n",
    "It has two key parameters:\n",
    "\n",
    "- **`degree`** — the degree of the polynomial. Default is `2`.\n",
    "- **`include_bias`** — whether to include a column of ones ($x^0$) in the resulting feature set.  \n",
    "  Default is `True`, but it’s often better to set it to `False` because the column of ones is already added in OLS regression.\n",
    "\n",
    "---\n",
    "\n",
    "<div style=\"background-color:#1e4620; border:1px solid #2e7d32; color:#e0f2e9; padding:12px; border-radius:6px; margin:12px 0;\">\n",
    "<b>Note:</b> In practice, data scientists usually stop at a polynomial of degree 2 (or at most degree 3).  \n",
    "The higher the degree, the more terms are generated, which means more features and a more complex model.\n",
    "</div>\n",
    "\n",
    "---\n",
    "\n",
    "To fit the generator and calculate the number of polynomial feature combinations, we use the method **`.fit()`**.  \n",
    "To actually generate the new feature table (with polynomial features included), we use **`.transform()`**, passing in the dataset.\n"
   ]
  },
  {
   "cell_type": "code",
   "execution_count": 6,
   "id": "f6a39250",
   "metadata": {},
   "outputs": [
    {
     "name": "stdout",
     "output_type": "stream",
     "text": [
      "(354, 104)\n",
      "(152, 104)\n"
     ]
    }
   ],
   "source": [
    "from sklearn import preprocessing\n",
    "\n",
    "# Create the polynomial feature generator\n",
    "poly = preprocessing.PolynomialFeatures(degree=2, include_bias=False)\n",
    "\n",
    "# Fit on the training data (learns the combinations schema)\n",
    "poly.fit(X_train)\n",
    "\n",
    "# Generate polynomial features for train and test\n",
    "X_train_poly = poly.transform(X_train)\n",
    "X_test_poly  = poly.transform(X_test)\n",
    "\n",
    "# Show resulting shapes\n",
    "print(X_train_poly.shape)\n",
    "print(X_test_poly.shape)\n",
    "\n",
    "# Expected:\n",
    "# (354, 104)\n",
    "# (152, 104)"
   ]
  },
  {
   "cell_type": "markdown",
   "id": "8c7255a9",
   "metadata": {},
   "source": [
    "So, we generated new **training** and **test** datasets.  \n",
    "In each table, in addition to the 13 original features, we now have **91 polynomial combinations of degree 2**."
   ]
  },
  {
   "cell_type": "code",
   "execution_count": 7,
   "id": "a5697428",
   "metadata": {},
   "outputs": [
    {
     "name": "stdout",
     "output_type": "stream",
     "text": [
      "<class 'numpy.ndarray'>\n",
      "<class 'numpy.ndarray'>\n"
     ]
    }
   ],
   "source": [
    "print(type(X_train_poly))\n",
    "print(type(X_test_poly))\n",
    "# <class 'numpy.ndarray'>\n",
    "# <class 'numpy.ndarray'>"
   ]
  },
  {
   "cell_type": "markdown",
   "id": "2e6c49d9",
   "metadata": {},
   "source": [
    "As a result, we obtained two **NumPy arrays**:\n",
    "\n",
    "- `X_train_poly` — training features (354 × 104)  \n",
    "- `X_test_poly` — test features (152 × 104)"
   ]
  },
  {
   "cell_type": "code",
   "execution_count": 8,
   "id": "3c19814d",
   "metadata": {},
   "outputs": [
    {
     "name": "stdout",
     "output_type": "stream",
     "text": [
      "Train R^2: 0.929\n",
      "Test  R^2: 0.268\n"
     ]
    }
   ],
   "source": [
    "# Create the LinearRegression model\n",
    "lr_model_poly = linear_model.LinearRegression()\n",
    "\n",
    "# Fit OLS on polynomial features\n",
    "lr_model_poly.fit(X_train_poly, y_train)\n",
    "\n",
    "# Predictions\n",
    "y_train_predict_poly = lr_model_poly.predict(X_train_poly)\n",
    "y_test_predict_poly  = lr_model_poly.predict(X_test_poly)\n",
    "\n",
    "# R² on train and test\n",
    "print(f\"Train R^2: {metrics.r2_score(y_train, y_train_predict_poly):.3f}\")\n",
    "print(f\"Test  R^2: {metrics.r2_score(y_test,  y_test_predict_poly):.3f}\")\n",
    "\n",
    "# Example output:\n",
    "# Train R^2: 0.929\n",
    "# Test  R^2: 0.268"
   ]
  },
  {
   "cell_type": "markdown",
   "id": "a5825575",
   "metadata": {},
   "source": [
    "Amazing! On the training set, the coefficient of determination is $R^2 = 0.929$,  \n",
    "which means our model explains almost **93%** of the variance in the data.  \n",
    "\n",
    "But when we look at the test set results, we come crashing down: $R^2 = 0.268$.  \n",
    "This metric is much lower than on the training set.  \n",
    "This is a clear case of **overfitting**: due to its complexity (large number of features),  \n",
    "the model has fully adapted to the training data but shows very high variance on data it has never seen before.\n",
    "\n",
    "---\n",
    "\n",
    "<div style=\"background-color:#1e4620; border:1px solid #2e7d32; color:#e0f2e9; padding:12px; border-radius:6px; margin:12px 0;\">\n",
    "<b>Note:</b> A linear regression model can also be unstable even if train and test scores are close,  \n",
    "because the regression coefficients themselves may take extremely large values.\n",
    "</div>\n",
    "\n",
    "---\n",
    "\n",
    "Such a model is practically useless, since it does not reflect reality.  \n",
    "\n",
    "But don’t worry — there is a powerful method that can save our model from overfitting:  \n",
    "**regularization**."
   ]
  },
  {
   "cell_type": "markdown",
   "id": "d49bd83c",
   "metadata": {},
   "source": [
    "# Regularization\n",
    "\n",
    "<div style=\"background-color:#1e4620; border:1px solid #2e7d32; color:#e0f2e9; padding:12px; border-radius:6px; margin:12px 0;\">\n",
    "<b>Regularization</b> — a method for reducing overfitting in machine learning models.\n",
    "</div>\n",
    "\n",
    "---\n",
    "\n",
    "The idea of regularization is that we intentionally **increase the bias** of the model in order to **reduce variance**.  \n",
    "This is the **law of balance** in action!\n",
    "\n",
    "But how can we increase the bias of a model?  \n",
    "We can *“penalize”* the model for learning overly complex relationships.\n",
    "\n",
    "Mathematically, this is done by adding a **penalty term** to the loss function.\n",
    "\n",
    "---\n",
    "\n",
    "<div style=\"background-color:#1e4620; border:1px solid #2e7d32; color:#e0f2e9; padding:12px; border-radius:6px; margin:12px 0;\">\n",
    "<b>Penalty</b> — an additional non-negative term in the loss function expression,  \n",
    "which deliberately increases the error.  \n",
    "\n",
    "Thanks to this term, the optimization method (OLS or SGD) no longer finds the *true* minimum of the loss function,  \n",
    "but instead converges to a **pseudo-minimum** that balances fit and model complexity.\n",
    "</div>\n"
   ]
  },
  {
   "cell_type": "markdown",
   "id": "ac2782f3",
   "metadata": {},
   "source": [
    "There are several ways to add a **penalty term** to the loss function:\n",
    "\n",
    "---\n",
    "\n",
    "- **L1 Regularization (Lasso)** — adds the sum of the absolute values of the coefficients,  \n",
    "  multiplied by the regularization parameter $\\alpha$:\n",
    "\n",
    "$$\n",
    "L_{1}(w) = MSE + \\alpha \\sum_{j=1}^{m} |w_j|\n",
    "$$\n",
    "\n",
    "---\n",
    "\n",
    "- **L2 Regularization (Ridge), or Tikhonov Regularization** — adds the sum of the squares of the coefficients,  \n",
    "  multiplied by the regularization parameter $\\alpha$:\n",
    "\n",
    "$$\n",
    "L_{2}(w) = MSE + \\alpha \\sum_{j=1}^{m} (w_j)^2\n",
    "$$\n",
    "\n",
    "---\n",
    "\n",
    "<div style=\"background-color:#1e4620; border:1px solid #2e7d32; color:#e0f2e9; padding:12px; border-radius:6px; margin:12px 0;\">\n",
    "<b>Regularization coefficient &alpha;</b> — controls how much bias we introduce into the model.  \n",
    "The larger &alpha;, the stronger the penalty for overfitting.\n",
    "</div>\n",
    "\n",
    "### Geometric Interpretation of Regularization\n",
    "\n",
    "What about the **geometry**?  \n",
    "Let’s consider how the minimum of the loss function looks in 3D space (top view).\n",
    "\n",
    "- With **L1 regularization** $L_1(w)$, the minimum is found at the intersection with a **diamond-shaped constraint**.\n",
    "- With **L2 regularization** $L_2(w)$, the minimum is found at the intersection with a **circular constraint**.\n",
    "\n",
    "Visualization is shown below:\n"
   ]
  },
  {
   "cell_type": "markdown",
   "id": "f377da84",
   "metadata": {},
   "source": [
    "<p align=\"center\">\n",
    "  <img src=\"Images/l1_l2_regularization.ppm\" width=\"720\" alt=\"Gradient descent illustration\">\n",
    "</p>"
   ]
  },
  {
   "cell_type": "markdown",
   "id": "4adeb554",
   "metadata": {},
   "source": [
    "\n",
    "<p align=\"center\">\n",
    "  <img src=\"Images/l1_l2_regul_graph.png\" width=\"420\" alt=\"Gradient descent illustration\">\n",
    "</p>"
   ]
  },
  {
   "cell_type": "markdown",
   "id": "5d336927",
   "metadata": {},
   "source": [
    "## Geometric view of regularization: where does the minimum come from?\n",
    "\n",
    "The figures above illustrate solving the loss-minimization problem.\n",
    "\n",
    "### For the **right** figure (L1):\n",
    "$$\n",
    "L_{1}(w)=\\frac{\\sum_{i=1}^{n}\\left(y_i-w_0-w_1x_1\\right)^2}{n}\n",
    "\\;+\\; \\alpha\\left(\\,|w_0|+|w_1|\\,\\right)\\;\\;\\to\\;\\min_{w}\n",
    "$$\n",
    "\n",
    "### For the **left** figure (L2):\n",
    "$$\n",
    "L_{2}(w)=\\frac{\\sum_{i=1}^{n}\\left(y_i-w_0-w_1x_1\\right)^2}{n}\n",
    "\\;+\\; \\alpha\\left(\\,(w_0)^2+(w_1)^2\\,\\right)\\;\\;\\to\\;\\min_{w}\n",
    "$$\n",
    "\n",
    "The concentric circles (level sets) depict the MSE loss  \n",
    "$$\n",
    "MSE=\\frac{\\sum_{i=1}^{n}(y_i-\\hat y_i)^2}{n}.\n",
    "$$\n",
    "The extra regularization terms define constraint curves:\n",
    "- $\\lambda_1=\\alpha(|w_0|+|w_1|)$ — a **diamond** (L1),\n",
    "- $\\lambda_2=\\alpha\\big((w_0)^2+(w_1)^2\\big)$ — a **circle** (L2).\n",
    "\n",
    "Thus, after adding the penalty $\\lambda$, we no longer take the true unconstrained minimum, but a **pseudo-minimum** at the **intersection** of the MSE level set with the diamond (for L1) or the circle (for L2).  \n",
    "This is **constrained optimization**, typically derived via the **method of Lagrange multipliers**.\n",
    "\n",
    "<div style=\"background-color:#1e4620; border:1px solid #2e7d32; color:#e0f2e9; padding:12px; border-radius:6px; margin:12px 0;\">\n",
    "<b>Note.</b> In <code>sklearn</code>, these optimization problems are solved with an iterative\n",
    "<a href=\"https://scikit-learn.org/stable/modules/linear_model.html#lasso\">coordinate descent</a> algorithm (conceptually similar in spirit to gradient methods, but updating one coordinate at a time rather than using full gradients).\n",
    "</div>\n",
    "\n",
    "### Why L1 is special (sparsity)\n",
    "A distinctive property of **L1** regularization is that coefficients for “unnecessary” features are driven **exactly to zero**.\n",
    "Those features drop out of the prediction entirely.  \n",
    "This is crucial for complex models with many inputs (e.g., our 91 extra polynomial features): by shrinking the model and inducing sparsity, we reduce variance — and therefore **mitigate overfitting**.\n"
   ]
  },
  {
   "cell_type": "markdown",
   "id": "80faaa07",
   "metadata": {},
   "source": [
    "In conclusion to the theoretical part, it’s worth noting that in practice, we never know in advance which regularization method will work best.  \n",
    "**The solution:** try both methods and compare results.\n",
    "\n",
    "---\n",
    "\n",
    "## Time to move on to practice!\n",
    "\n",
    "Experience shows that training linear regression models with many features is recommended on **standardized (normalized) data**.\n",
    "\n",
    "---\n",
    "\n",
    "<div style=\"background-color:#1e4620; border:1px solid #2e7d32; color:#e0f2e9; padding:12px; border-radius:6px; margin:12px 0;\">\n",
    "<b>Note:</b> A common question is: <b>how should we standardize/normalize when we have both training and test sets?</b>  \n",
    "\n",
    "You must <b>fit</b> the transformation <b>only on the training set</b>, and then use it (with the same parameters) to <b>transform</b> both the training and test sets.  \n",
    "If you fit separately on each set, you will introduce bias into the model.\n",
    "</div>\n",
    "\n",
    "---\n",
    "\n",
    "Standardization (normalization) is best done **before generating polynomial features**, otherwise we risk losing scale consistency across polynomials.\n",
    "\n",
    "Let’s preprocess our data now.\n"
   ]
  },
  {
   "cell_type": "code",
   "execution_count": 9,
   "id": "8408fdc2",
   "metadata": {},
   "outputs": [
    {
     "name": "stdout",
     "output_type": "stream",
     "text": [
      "(354, 104)\n",
      "(152, 104)\n"
     ]
    }
   ],
   "source": [
    "## Standardize → Generate Polynomial Features (degree=2)\n",
    "from sklearn import preprocessing\n",
    "\n",
    "# INitialize the scaler\n",
    "scaler = preprocessing.StandardScaler()\n",
    "\n",
    "# Fit scaler on the Train set only (learns the scaling parameters from the training data such as mean and std deviation)\n",
    "scaler.fit(X_train)\n",
    "\n",
    "# Transform (i.e., standardize) train and test with the same scaler\n",
    "X_train_scaled = scaler.transform(X_train)\n",
    "X_test_scaled  = scaler.transform(X_test)\n",
    "\n",
    "# Create polynomial feature generator (degree=2, no bias column)\n",
    "poly = preprocessing.PolynomialFeatures(degree=2, include_bias=False)\n",
    "poly.fit(X_train_scaled)\n",
    "\n",
    "# Generate polynomial features for train and test\n",
    "X_train_scaled_poly = poly.transform(X_train_scaled)\n",
    "X_test_scaled_poly  = poly.transform(X_test_scaled)\n",
    "\n",
    "# Check shapes\n",
    "print(X_train_scaled_poly.shape)\n",
    "print(X_test_scaled_poly.shape)\n",
    "\n",
    "# Expected:\n",
    "# (354, 104)\n",
    "# (152, 104)\n"
   ]
  },
  {
   "cell_type": "markdown",
   "id": "5098d2d5",
   "metadata": {},
   "source": [
    "→ In **sklearn**, regularization methods are implemented in the classes  \n",
    "[`Lasso`](https://scikit-learn.org/stable/modules/generated/sklearn.linear_model.Lasso.html) (L1 regularization) and  \n",
    "[`Ridge`](https://scikit-learn.org/stable/modules/generated/sklearn.linear_model.Ridge.html) (L2 regularization).  \n",
    "\n",
    "Both methods search for parameters with an added regularization penalty.  \n",
    "The training and prediction process looks the same as for ordinary linear regression.\n",
    "\n",
    "---\n",
    "\n",
    "## Train a Lasso Regression Model\n",
    "\n",
    "Now let’s build a **linear regression with L1 regularization (Lasso)**  \n",
    "using the polynomial features we generated earlier.\n",
    "\n",
    "The main initialization parameter of `Lasso` is **`alpha`** (regularization strength).  \n",
    "- Default: `alpha=1`.  \n",
    "- In practice, this is often **too strong** for L1.  \n",
    "\n",
    "Let’s set `alpha=0.1` instead:"
   ]
  },
  {
   "cell_type": "code",
   "execution_count": 10,
   "id": "60e4101b",
   "metadata": {},
   "outputs": [
    {
     "name": "stdout",
     "output_type": "stream",
     "text": [
      "Train R^2: 0.879\n",
      "Test  R^2: 0.882\n"
     ]
    }
   ],
   "source": [
    "# L1-regularized linear regression (Lasso)\n",
    "lasso_lr_poly = linear_model.Lasso(alpha=0.1)\n",
    "lasso_lr_poly.fit(X_train_scaled_poly, y_train)\n",
    "\n",
    "# Predictions\n",
    "y_train_predict_poly = lasso_lr_poly.predict(X_train_scaled_poly)\n",
    "y_test_predict_poly  = lasso_lr_poly.predict(X_test_scaled_poly)\n",
    "\n",
    "# R² on train/test\n",
    "print(f\"Train R^2: {metrics.r2_score(y_train, y_train_predict_poly):.3f}\")\n",
    "print(f\"Test  R^2: {metrics.r2_score(y_test,  y_test_predict_poly):.3f}\")\n",
    "\n",
    "# Example output:\n",
    "# Train R^2: 0.879\n",
    "# Test  R^2: 0.882"
   ]
  },
  {
   "cell_type": "markdown",
   "id": "c9ec7d79",
   "metadata": {},
   "source": [
    "<div style=\"background-color:#2c2c2c; border:1px solid #555; color:#f0f0f0; padding:12px; border-radius:6px; margin:12px 0;\">\n",
    "<b>Notice how the metrics have changed:</b><br>\n",
    "- On the training set: R² = 0.879. The score decreased (before standardization + regularization it was R² = 0.929).<br>\n",
    "- On the test set: R² = 0.882. The score increased significantly (before it was only R² = 0.268).<br><br>\n",
    "👉 We successfully overcame <b>overfitting</b>.\n",
    "</div>\n",
    "\n",
    "Now let’s output the model’s coefficient values, rounded to three decimal places:"
   ]
  },
  {
   "cell_type": "code",
   "execution_count": 11,
   "id": "bc911a02",
   "metadata": {},
   "outputs": [
    {
     "name": "stdout",
     "output_type": "stream",
     "text": [
      "[-0.     0.    -0.038  0.    -0.523  2.766 -0.355 -0.605  0.    -0.595\n",
      " -0.763  0.    -3.259 -0.    -0.     0.     3.132 -0.141  0.     0.\n",
      "  0.    -0.     0.     0.    -0.015 -0.     0.063 -0.    -0.     0.\n",
      "  0.159 -0.    -0.    -0.     0.     0.07  -0.    -0.     0.017  0.\n",
      "  0.    -0.     0.     0.     0.     0.    -0.    -0.     0.     0.46\n",
      " -0.808 -0.643  0.    -0.    -0.     0.    -0.     0.    -0.43  -0.348\n",
      " -0.511 -0.     0.    -0.14  -0.    -0.277  0.    -0.     0.223 -0.\n",
      " -0.    -0.836 -0.054 -0.421  0.019 -0.784  0.    -0.     0.706  0.\n",
      " -0.    -0.335 -0.198  0.    -0.     0.     0.205 -0.     0.531 -0.\n",
      "  0.     0.048 -0.    -0.292  0.677  0.81  -0.    -1.151 -0.    -0.\n",
      " -0.    -0.288 -0.356  0.429]\n"
     ]
    }
   ],
   "source": [
    "print(np.round(lasso_lr_poly.coef_, 3))"
   ]
  },
  {
   "cell_type": "markdown",
   "id": "5912f612",
   "metadata": {},
   "source": [
    "> **Note:** Pay attention: most of the coefficients have become zero. This means that the features corresponding to these coefficients are not used in the prediction of the Lasso regression model.\n",
    "\n",
    "Now let’s train a linear regression model with L2 regularization on the same data.  \n",
    "For L2 regularization, the parameter `alpha` is 1 by default. Let’s try using the parameter value `alpha=10`:\n"
   ]
  },
  {
   "cell_type": "code",
   "execution_count": 12,
   "id": "ca1c4356",
   "metadata": {},
   "outputs": [
    {
     "name": "stdout",
     "output_type": "stream",
     "text": [
      "Train R^2: 0.907\n",
      "Test R^2: 0.848\n"
     ]
    }
   ],
   "source": [
    "# Create an object of the linear regression class with L2 regularization\n",
    "ridge_lr_poly = linear_model.Ridge(alpha=10)\n",
    "\n",
    "# Train the model\n",
    "ridge_lr_poly.fit(X_train_scaled_poly, y_train)\n",
    "\n",
    "# Make predictions for the training set\n",
    "y_train_predict_poly = ridge_lr_poly.predict(X_train_scaled_poly)\n",
    "\n",
    "# Make predictions for the test set\n",
    "y_test_predict_poly = ridge_lr_poly.predict(X_test_scaled_poly)\n",
    "\n",
    "# Calculate the coefficient of determination for both sets\n",
    "print(f'Train R^2: {round(metrics.r2_score(y_train, y_train_predict_poly), 3)}')\n",
    "print(f'Test R^2: {round(metrics.r2_score(y_test, y_test_predict_poly), 3)}')\n",
    "\n",
    "# Train R^2: 0.907\n",
    "# Test R^2: 0.831"
   ]
  },
  {
   "cell_type": "markdown",
   "id": "1e398b22",
   "metadata": {},
   "source": [
    "The values of the metric $R^2$ on the test set for `L1-regularization` turned out to be slightly `higher`.  \n",
    "First of all, we always focus on the test set — these are the data the model has not seen before.\n",
    "\n",
    "Let’s now output the values of the model coefficients, rounding them to the third decimal place:"
   ]
  },
  {
   "cell_type": "code",
   "execution_count": 13,
   "id": "b53de5f3",
   "metadata": {},
   "outputs": [
    {
     "name": "stdout",
     "output_type": "stream",
     "text": [
      "[ 0.128 -0.049  0.084  0.117 -0.932  2.848 -1.008 -1.464  0.909 -0.908\n",
      " -0.653  0.971 -2.605  0.085 -0.032  0.466  2.721 -0.507  0.986  0.309\n",
      " -0.391 -0.714  0.376 -0.379  0.072  0.287  0.143 -0.138 -0.014  0.315\n",
      "  0.05  -0.409 -0.316  0.075  0.702  0.08  -0.281 -0.37   0.511  0.175\n",
      "  0.72   0.282  0.477  0.888 -0.012  0.074 -0.052  0.166 -0.263  0.414\n",
      " -1.129 -0.852  0.273  0.227 -0.106  0.368 -0.137 -0.241 -0.697 -0.177\n",
      " -0.326 -0.524  0.882 -0.637  0.344 -0.439 -0.006  0.386  0.233 -0.535\n",
      "  0.111 -0.802 -0.662 -0.56   0.22  -1.001  0.123  0.144  0.889 -0.114\n",
      " -0.086 -1.022 -0.71   1.08  -0.446 -0.178 -0.07  -0.496  0.874 -0.926\n",
      "  0.717  0.601 -0.49  -0.723  0.308  1.086 -0.448 -1.256  0.057  0.354\n",
      " -0.059 -0.433 -0.791  0.177]\n"
     ]
    }
   ],
   "source": [
    "print(np.round(ridge_lr_poly.coef_, 3))"
   ]
  },
  {
   "cell_type": "markdown",
   "id": "b5cee9b5",
   "metadata": {},
   "source": [
    "It can be seen that L2-regularization does not zero out coefficients — it uses `ALL` features for prediction.\n",
    "\n",
    "> The parameter `alpha` is very important: the choice of its value determines how strongly we penalize the model for overfitting.  \n",
    "> It is important to find the value that gives the best effect.  \n",
    "> Try manually changing the parameter `alpha` for the models built earlier. Agree, this is not very convenient.\n",
    "\n",
    "Let’s organize a process for iterating over model parameters: we’ll create a loop in which we will iterate over 20 different values of `alpha` in the range from 0.001 to 1.  \n",
    "The easiest way to create such a list is with the `linspace()` function from the **numpy** library.\n",
    "\n",
    "In the loop, we will train a linear regression model with L1-regularization (Lasso), compute the metric $R^2$ values on the training and test sets, and store the results in the lists `train_scores` and `test_scores`:\n"
   ]
  },
  {
   "cell_type": "code",
   "execution_count": 14,
   "id": "c7dc9668",
   "metadata": {},
   "outputs": [],
   "source": [
    "# Create a list of 20 possible values from 0.001 to 1 (that will be evenly spread)\n",
    "alpha_list = np.linspace(0.001, 1, 20)\n",
    "\n",
    "# Create empty lists to store results\n",
    "train_scores = []\n",
    "test_scores = []\n",
    "\n",
    "\n",
    "for alpha in alpha_list:\n",
    "    # Create a linear regression object with L1 regularization (Lasso)\n",
    "    lasso_lr_poly = linear_model.Lasso(alpha=alpha, max_iter=10000)  \n",
    "    # Train the model  \n",
    "    lasso_lr_poly.fit(X_train_scaled_poly, y_train)\n",
    "    # Make predictions for the training set\n",
    "    y_train_predict_poly = lasso_lr_poly.predict(X_train_scaled_poly)\n",
    "    # Make predictions for the test set\n",
    "    y_test_predict_poly = lasso_lr_poly.predict(X_test_scaled_poly)\n",
    "    # Compute R² for both sets and append to the lists\n",
    "    train_scores.append(round(metrics.r2_score(y_train, y_train_predict_poly), 3))\n",
    "    test_scores.append(round(metrics.r2_score(y_test, y_test_predict_poly), 3))"
   ]
  },
  {
   "cell_type": "markdown",
   "id": "a462f322",
   "metadata": {},
   "source": [
    "As a result of running this code, the lists `train_scores` and `test_scores` will contain 20 different $R^2$ values on the training and test sets.\n",
    "\n",
    "Let’s plot line charts to show how the $R^2$ metric on the training and test sets changes as a function of `alpha`:"
   ]
  },
  {
   "cell_type": "code",
   "execution_count": 15,
   "id": "4fd6e204",
   "metadata": {},
   "outputs": [
    {
     "data": {
      "image/png": "[encoded data removed]",
      "text/plain": [
       "<Figure size 1000x400 with 1 Axes>"
      ]
     },
     "metadata": {},
     "output_type": "display_data"
    }
   ],
   "source": [
    "fig, ax = plt.subplots(figsize=(10, 4))\n",
    "\n",
    "ax.plot(alpha_list, train_scores, marker='o', linewidth=2, label='Train')\n",
    "ax.plot(alpha_list, test_scores,  marker='s', linewidth=2, label='Test')\n",
    "\n",
    "# Highlight best alpha on Test\n",
    "i = int(np.nanargmax(test_scores)) # finds the index of the max value in test_scores, ignoring NaNs, and stores it as an int.\n",
    "ax.scatter(alpha_list[i], test_scores[i], s=60, zorder=3)\n",
    "ax.annotate(f'best α={alpha_list[i]:.3g}\\nR²={test_scores[i]:.3f}',\n",
    "            xy=(alpha_list[i], test_scores[i]),\n",
    "            xytext=(8, 8), textcoords='offset points')\n",
    "\n",
    "ax.set_title('R² vs Regularization α')\n",
    "ax.set_xlabel('α')\n",
    "ax.set_ylabel('R²')\n",
    "\n",
    "# PAY ATTENTION HERE: we use the values for the x-axis from the alpha_list that we generated above. In other words, it contains alphas that we used to generate or maximum values of R^2\n",
    "ax.set_xticks(alpha_list.round(4))          # 0.00, 0.05, ..., 1.00\n",
    "ax.set_xlim(0, 1)  \n",
    "\n",
    "ax.grid(True, alpha=0.3)\n",
    "ax.legend()\n",
    "for s in ('top', 'right'):\n",
    "    ax.spines[s].set_visible(False)\n",
    "\n",
    "plt.tight_layout()\n",
    "plt.setp(ax.get_xticklabels(), rotation=45, ha='right')\n",
    "plt.show()\n"
   ]
  },
  {
   "cell_type": "markdown",
   "id": "dc79c94c",
   "metadata": {},
   "source": [
    "Using the graph, we can select the optimal value of the parameter `alpha`.  \n",
    "We need the point on the x-axis where the test set shows the maximum metric, and at the same time, the difference between the metrics on the training and test sets is minimal.  \n",
    "\n",
    "It is clear that $R^2$ on the test set reaches its maximum value at the point `0.0536`.  \n",
    "At this point, the metrics on both datasets are approximately equal. Beyond this, the metric on the test set begins to decrease.  \n",
    "\n",
    "Note that on the training set, $R^2$ continuously decreases as `alpha` increases.  \n",
    "This makes sense: the larger the `alpha`, the stronger the regularization, and the less the model adapts to the training set.  \n",
    "\n",
    "Now let’s substitute the value `alpha = 0.0536` into the Lasso model and get the result:\n"
   ]
  },
  {
   "cell_type": "code",
   "execution_count": 16,
   "id": "96004a39",
   "metadata": {},
   "outputs": [
    {
     "name": "stdout",
     "output_type": "stream",
     "text": [
      "Train R^2: 0.894\n",
      "Test R^2: 0.890\n"
     ]
    }
   ],
   "source": [
    "# Create a linear regression object with L1 regularization\n",
    "lasso_lr_poly = linear_model.Lasso(alpha=0.0536)\n",
    "# Train the model\n",
    "lasso_lr_poly.fit(X_train_scaled_poly, y_train)\n",
    "# Make predictions for the training set\n",
    "y_train_predict_poly = lasso_lr_poly.predict(X_train_scaled_poly)\n",
    "# Make predictions for the test set\n",
    "y_test_predict_poly = lasso_lr_poly.predict(X_test_scaled_poly)\n",
    "# Calculate the coefficient of determination for both sets\n",
    "print(f\"Train R^2: {metrics.r2_score(y_train, y_train_predict_poly):.3f}\")\n",
    "print(f\"Test R^2: {metrics.r2_score(y_test, y_test_predict_poly):.3f}\")\n",
    "\n",
    "# Train R^2: 0.894\n",
    "# Test R^2: 0.890"
   ]
  },
  {
   "cell_type": "markdown",
   "id": "6bdb15b8",
   "metadata": {},
   "source": [
    "So, the $R^2$ metric increased because we were able to find the optimal value of the parameter `alpha`.\n",
    "\n",
    "<div style=\"background-color:#1e4620; border:1px solid #2e7d32; color:#e0f2e9; padding:12px; border-radius:6px; margin:12px 0;\">\n",
    "<b>Note.</b> In addition to the basic regularization methods <i>L1</i> and <i>L2</i>, there is also a combined method.\n",
    "</div>\n",
    "\n",
    "<div style=\"background-color:#1e4620; border:1px solid #2e7d32; color:#e0f2e9; padding:12px; border-radius:6px; margin:12px 0;\">\n",
    "<b>Elastic Net</b> — a combination of both regularization methods.  \n",
    "The loss function in this method is expressed as follows:\n",
    "\n",
    "$$\n",
    "L_2(w) = MSE + \\alpha \\cdot \\lambda \\sum_{i=1}^{m} |w_i| + \\alpha \\cdot (1 - \\lambda) \\sum_{i=1}^{m} (w_i)^2 \\rightarrow \\min_{w}\n",
    "$$\n",
    "</div>\n",
    "\n",
    "In <code>sklearn</code>, the Elastic Net implementation is available in the <code>ElasticNet</code> class.  \n",
    "The parameters `alpha` and `lambda` allow you to control the contribution of <i>L1</i> and <i>L2</i> regularization.  \n",
    "In practice, this method is used less frequently since it requires selecting an optimal combination of two parameters.\n",
    "\n",
    "<div style=\"background-color:#1e4620; border:1px solid #2e7d32; color:#e0f2e9; padding:12px; border-radius:6px; margin:12px 0;\">\n",
    "<b>Note.</b> Regularization is also present in the <code>SGDRegressor</code> model and is used by default.  \n",
    "In the class initializer, there is a parameter <code>penalty</code>, which determines the type of regularization.  \n",
    "The parameter can take the values <code>'l1'</code>, <code>'l2'</code>, or <code>'elasticnet'</code>.  \n",
    "By default, the <i>L2</i>-regularization (<code>penalty='l2'</code>) is used.  \n",
    "The regularization coefficient (<code>alpha</code>) defaults to <code>0.0001</code> (a relatively weak regularization).  \n",
    "By adjusting these two parameters, you can control both the type and “strength” of regularization in the <code>SGD</code> method.\n",
    "</div>\n"
   ]
  }
 ],
 "metadata": {
  "kernelspec": {
   "display_name": "Python 3",
   "language": "python",
   "name": "python3"
  },
  "language_info": {
   "codemirror_mode": {
    "name": "ipython",
    "version": 3
   },
   "file_extension": ".py",
   "mimetype": "text/x-python",
   "name": "python",
   "nbconvert_exporter": "python",
   "pygments_lexer": "ipython3",
   "version": "3.12.5"
  }
 },
 "nbformat": 4,
 "nbformat_minor": 5
}
