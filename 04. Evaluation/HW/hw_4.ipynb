{
 "cells": [
  {
   "cell_type": "markdown",
   "id": "73781eb9",
   "metadata": {},
   "source": [
    "## Homework - 4 (Evaluation)"
   ]
  },
  {
   "cell_type": "markdown",
   "id": "3da73690",
   "metadata": {},
   "source": [
    "# 🧩 DATA PREPARATION\n",
    "# -------------------------------------------------------------\n",
    "1️⃣ Check if there are missing values in the features.\n",
    "\n",
    "2️⃣ If missing values exist:\n",
    "     • For categorical features → replace with 'NA'\n",
    "     • For numerical features   → replace with 0.0\n",
    "\n",
    "3️⃣ Split the dataset into three parts:\n",
    "     • Train → 60%\n",
    "     • Validation → 20%\n",
    "     • Test → 20%\n",
    "\n",
    " Use the train_test_split() function with random_state=1\n",
    "\n",
    "In this dataset our desired target for classification task will be `converted` variable - has the client signed up to the platform or not.\n",
    "# -------------------------------------------------------------\n"
   ]
  },
  {
   "cell_type": "code",
   "execution_count": 2,
   "id": "e17ac0a8",
   "metadata": {},
   "outputs": [],
   "source": [
    "import pandas as pd \n",
    "import numpy as np \n",
    "import matplotlib.pyplot as plt\n",
    "\n",
    "from sklearn.model_selection import train_test_split\n",
    "from sklearn.feature_extraction import DictVectorizer \n",
    "from sklearn import linear_model\n",
    "from sklearn import metrics"
   ]
  },
  {
   "cell_type": "code",
   "execution_count": 3,
   "id": "76c1aaf2",
   "metadata": {},
   "outputs": [
    {
     "data": {
      "application/vnd.microsoft.datawrangler.viewer.v0+json": {
       "columns": [
        {
         "name": "index",
         "rawType": "int64",
         "type": "integer"
        },
        {
         "name": "lead_source",
         "rawType": "object",
         "type": "string"
        },
        {
         "name": "industry",
         "rawType": "object",
         "type": "unknown"
        },
        {
         "name": "number_of_courses_viewed",
         "rawType": "int64",
         "type": "integer"
        },
        {
         "name": "annual_income",
         "rawType": "float64",
         "type": "float"
        },
        {
         "name": "employment_status",
         "rawType": "object",
         "type": "string"
        },
        {
         "name": "location",
         "rawType": "object",
         "type": "string"
        },
        {
         "name": "interaction_count",
         "rawType": "int64",
         "type": "integer"
        },
        {
         "name": "lead_score",
         "rawType": "float64",
         "type": "float"
        },
        {
         "name": "converted",
         "rawType": "int64",
         "type": "integer"
        }
       ],
       "ref": "d27cd954-e750-4678-9991-40591edef3fa",
       "rows": [
        [
         "0",
         "paid_ads",
         null,
         "1",
         "79450.0",
         "unemployed",
         "south_america",
         "4",
         "0.94",
         "1"
        ],
        [
         "1",
         "social_media",
         "retail",
         "1",
         "46992.0",
         "employed",
         "south_america",
         "1",
         "0.8",
         "0"
        ],
        [
         "2",
         "events",
         "healthcare",
         "5",
         "78796.0",
         "unemployed",
         "australia",
         "3",
         "0.69",
         "1"
        ]
       ],
       "shape": {
        "columns": 9,
        "rows": 3
       }
      },
      "text/html": [
       "<div>\n",
       "<style scoped>\n",
       "    .dataframe tbody tr th:only-of-type {\n",
       "        vertical-align: middle;\n",
       "    }\n",
       "\n",
       "    .dataframe tbody tr th {\n",
       "        vertical-align: top;\n",
       "    }\n",
       "\n",
       "    .dataframe thead th {\n",
       "        text-align: right;\n",
       "    }\n",
       "</style>\n",
       "<table border=\"1\" class=\"dataframe\">\n",
       "  <thead>\n",
       "    <tr style=\"text-align: right;\">\n",
       "      <th></th>\n",
       "      <th>lead_source</th>\n",
       "      <th>industry</th>\n",
       "      <th>number_of_courses_viewed</th>\n",
       "      <th>annual_income</th>\n",
       "      <th>employment_status</th>\n",
       "      <th>location</th>\n",
       "      <th>interaction_count</th>\n",
       "      <th>lead_score</th>\n",
       "      <th>converted</th>\n",
       "    </tr>\n",
       "  </thead>\n",
       "  <tbody>\n",
       "    <tr>\n",
       "      <th>0</th>\n",
       "      <td>paid_ads</td>\n",
       "      <td>NaN</td>\n",
       "      <td>1</td>\n",
       "      <td>79450.0</td>\n",
       "      <td>unemployed</td>\n",
       "      <td>south_america</td>\n",
       "      <td>4</td>\n",
       "      <td>0.94</td>\n",
       "      <td>1</td>\n",
       "    </tr>\n",
       "    <tr>\n",
       "      <th>1</th>\n",
       "      <td>social_media</td>\n",
       "      <td>retail</td>\n",
       "      <td>1</td>\n",
       "      <td>46992.0</td>\n",
       "      <td>employed</td>\n",
       "      <td>south_america</td>\n",
       "      <td>1</td>\n",
       "      <td>0.80</td>\n",
       "      <td>0</td>\n",
       "    </tr>\n",
       "    <tr>\n",
       "      <th>2</th>\n",
       "      <td>events</td>\n",
       "      <td>healthcare</td>\n",
       "      <td>5</td>\n",
       "      <td>78796.0</td>\n",
       "      <td>unemployed</td>\n",
       "      <td>australia</td>\n",
       "      <td>3</td>\n",
       "      <td>0.69</td>\n",
       "      <td>1</td>\n",
       "    </tr>\n",
       "  </tbody>\n",
       "</table>\n",
       "</div>"
      ],
      "text/plain": [
       "    lead_source    industry  number_of_courses_viewed  annual_income  \\\n",
       "0      paid_ads         NaN                         1        79450.0   \n",
       "1  social_media      retail                         1        46992.0   \n",
       "2        events  healthcare                         5        78796.0   \n",
       "\n",
       "  employment_status       location  interaction_count  lead_score  converted  \n",
       "0        unemployed  south_america                  4        0.94          1  \n",
       "1          employed  south_america                  1        0.80          0  \n",
       "2        unemployed      australia                  3        0.69          1  "
      ]
     },
     "metadata": {},
     "output_type": "display_data"
    },
    {
     "name": "stdout",
     "output_type": "stream",
     "text": [
      "\n",
      "\n"
     ]
    },
    {
     "data": {
      "application/vnd.microsoft.datawrangler.viewer.v0+json": {
       "columns": [
        {
         "name": "index",
         "rawType": "int64",
         "type": "integer"
        },
        {
         "name": "lead_source",
         "rawType": "object",
         "type": "string"
        },
        {
         "name": "industry",
         "rawType": "object",
         "type": "unknown"
        },
        {
         "name": "number_of_courses_viewed",
         "rawType": "int64",
         "type": "integer"
        },
        {
         "name": "annual_income",
         "rawType": "float64",
         "type": "float"
        },
        {
         "name": "employment_status",
         "rawType": "object",
         "type": "string"
        },
        {
         "name": "location",
         "rawType": "object",
         "type": "string"
        },
        {
         "name": "interaction_count",
         "rawType": "int64",
         "type": "integer"
        },
        {
         "name": "lead_score",
         "rawType": "float64",
         "type": "float"
        },
        {
         "name": "converted",
         "rawType": "int64",
         "type": "integer"
        }
       ],
       "ref": "aff30c34-07d1-467a-9e14-09614ac18c17",
       "rows": [
        [
         "1459",
         "paid_ads",
         "technology",
         "1",
         "45688.0",
         "student",
         "north_america",
         "3",
         "0.02",
         "1"
        ],
        [
         "1460",
         "referral",
         null,
         "5",
         "71016.0",
         "self_employed",
         "north_america",
         "0",
         "0.25",
         "1"
        ],
        [
         "1461",
         "organic_search",
         "finance",
         "3",
         "92855.0",
         "student",
         "north_america",
         "3",
         "0.41",
         "1"
        ]
       ],
       "shape": {
        "columns": 9,
        "rows": 3
       }
      },
      "text/html": [
       "<div>\n",
       "<style scoped>\n",
       "    .dataframe tbody tr th:only-of-type {\n",
       "        vertical-align: middle;\n",
       "    }\n",
       "\n",
       "    .dataframe tbody tr th {\n",
       "        vertical-align: top;\n",
       "    }\n",
       "\n",
       "    .dataframe thead th {\n",
       "        text-align: right;\n",
       "    }\n",
       "</style>\n",
       "<table border=\"1\" class=\"dataframe\">\n",
       "  <thead>\n",
       "    <tr style=\"text-align: right;\">\n",
       "      <th></th>\n",
       "      <th>lead_source</th>\n",
       "      <th>industry</th>\n",
       "      <th>number_of_courses_viewed</th>\n",
       "      <th>annual_income</th>\n",
       "      <th>employment_status</th>\n",
       "      <th>location</th>\n",
       "      <th>interaction_count</th>\n",
       "      <th>lead_score</th>\n",
       "      <th>converted</th>\n",
       "    </tr>\n",
       "  </thead>\n",
       "  <tbody>\n",
       "    <tr>\n",
       "      <th>1459</th>\n",
       "      <td>paid_ads</td>\n",
       "      <td>technology</td>\n",
       "      <td>1</td>\n",
       "      <td>45688.0</td>\n",
       "      <td>student</td>\n",
       "      <td>north_america</td>\n",
       "      <td>3</td>\n",
       "      <td>0.02</td>\n",
       "      <td>1</td>\n",
       "    </tr>\n",
       "    <tr>\n",
       "      <th>1460</th>\n",
       "      <td>referral</td>\n",
       "      <td>NaN</td>\n",
       "      <td>5</td>\n",
       "      <td>71016.0</td>\n",
       "      <td>self_employed</td>\n",
       "      <td>north_america</td>\n",
       "      <td>0</td>\n",
       "      <td>0.25</td>\n",
       "      <td>1</td>\n",
       "    </tr>\n",
       "    <tr>\n",
       "      <th>1461</th>\n",
       "      <td>organic_search</td>\n",
       "      <td>finance</td>\n",
       "      <td>3</td>\n",
       "      <td>92855.0</td>\n",
       "      <td>student</td>\n",
       "      <td>north_america</td>\n",
       "      <td>3</td>\n",
       "      <td>0.41</td>\n",
       "      <td>1</td>\n",
       "    </tr>\n",
       "  </tbody>\n",
       "</table>\n",
       "</div>"
      ],
      "text/plain": [
       "         lead_source    industry  number_of_courses_viewed  annual_income  \\\n",
       "1459        paid_ads  technology                         1        45688.0   \n",
       "1460        referral         NaN                         5        71016.0   \n",
       "1461  organic_search     finance                         3        92855.0   \n",
       "\n",
       "     employment_status       location  interaction_count  lead_score  \\\n",
       "1459           student  north_america                  3        0.02   \n",
       "1460     self_employed  north_america                  0        0.25   \n",
       "1461           student  north_america                  3        0.41   \n",
       "\n",
       "      converted  \n",
       "1459          1  \n",
       "1460          1  \n",
       "1461          1  "
      ]
     },
     "metadata": {},
     "output_type": "display_data"
    }
   ],
   "source": [
    "# url = \"https://raw.githubusercontent.com/alexeygrigorev/datasets/master/course_lead_scoring.csv\"\n",
    "# data = pd.read_csv(url)\n",
    "data = pd.read_csv('data/course_lead_scoring.csv')\n",
    "display(data.head(3))\n",
    "print('\\n')\n",
    "display(data.tail(3))\n"
   ]
  },
  {
   "cell_type": "code",
   "execution_count": 4,
   "id": "0f916fc8",
   "metadata": {},
   "outputs": [
    {
     "data": {
      "application/vnd.microsoft.datawrangler.viewer.v0+json": {
       "columns": [
        {
         "name": "index",
         "rawType": "object",
         "type": "string"
        },
        {
         "name": "0",
         "rawType": "object",
         "type": "unknown"
        },
        {
         "name": "1",
         "rawType": "object",
         "type": "unknown"
        },
        {
         "name": "2",
         "rawType": "object",
         "type": "unknown"
        },
        {
         "name": "3",
         "rawType": "object",
         "type": "unknown"
        },
        {
         "name": "4",
         "rawType": "object",
         "type": "unknown"
        }
       ],
       "ref": "5412f47a-cc5d-47a0-bf03-1d36c3592c38",
       "rows": [
        [
         "lead_source",
         "paid_ads",
         "social_media",
         "events",
         "paid_ads",
         "referral"
        ],
        [
         "industry",
         null,
         "retail",
         "healthcare",
         "retail",
         "education"
        ],
        [
         "number_of_courses_viewed",
         "1",
         "1",
         "5",
         "2",
         "3"
        ],
        [
         "annual_income",
         "79450.0",
         "46992.0",
         "78796.0",
         "83843.0",
         "85012.0"
        ],
        [
         "employment_status",
         "unemployed",
         "employed",
         "unemployed",
         null,
         "self_employed"
        ],
        [
         "location",
         "south_america",
         "south_america",
         "australia",
         "australia",
         "europe"
        ],
        [
         "interaction_count",
         "4",
         "1",
         "3",
         "1",
         "3"
        ],
        [
         "lead_score",
         "0.94",
         "0.8",
         "0.69",
         "0.87",
         "0.62"
        ],
        [
         "converted",
         "1",
         "0",
         "1",
         "0",
         "1"
        ]
       ],
       "shape": {
        "columns": 5,
        "rows": 9
       }
      },
      "text/html": [
       "<div>\n",
       "<style scoped>\n",
       "    .dataframe tbody tr th:only-of-type {\n",
       "        vertical-align: middle;\n",
       "    }\n",
       "\n",
       "    .dataframe tbody tr th {\n",
       "        vertical-align: top;\n",
       "    }\n",
       "\n",
       "    .dataframe thead th {\n",
       "        text-align: right;\n",
       "    }\n",
       "</style>\n",
       "<table border=\"1\" class=\"dataframe\">\n",
       "  <thead>\n",
       "    <tr style=\"text-align: right;\">\n",
       "      <th></th>\n",
       "      <th>0</th>\n",
       "      <th>1</th>\n",
       "      <th>2</th>\n",
       "      <th>3</th>\n",
       "      <th>4</th>\n",
       "    </tr>\n",
       "  </thead>\n",
       "  <tbody>\n",
       "    <tr>\n",
       "      <th>lead_source</th>\n",
       "      <td>paid_ads</td>\n",
       "      <td>social_media</td>\n",
       "      <td>events</td>\n",
       "      <td>paid_ads</td>\n",
       "      <td>referral</td>\n",
       "    </tr>\n",
       "    <tr>\n",
       "      <th>industry</th>\n",
       "      <td>NaN</td>\n",
       "      <td>retail</td>\n",
       "      <td>healthcare</td>\n",
       "      <td>retail</td>\n",
       "      <td>education</td>\n",
       "    </tr>\n",
       "    <tr>\n",
       "      <th>number_of_courses_viewed</th>\n",
       "      <td>1</td>\n",
       "      <td>1</td>\n",
       "      <td>5</td>\n",
       "      <td>2</td>\n",
       "      <td>3</td>\n",
       "    </tr>\n",
       "    <tr>\n",
       "      <th>annual_income</th>\n",
       "      <td>79450.0</td>\n",
       "      <td>46992.0</td>\n",
       "      <td>78796.0</td>\n",
       "      <td>83843.0</td>\n",
       "      <td>85012.0</td>\n",
       "    </tr>\n",
       "    <tr>\n",
       "      <th>employment_status</th>\n",
       "      <td>unemployed</td>\n",
       "      <td>employed</td>\n",
       "      <td>unemployed</td>\n",
       "      <td>NaN</td>\n",
       "      <td>self_employed</td>\n",
       "    </tr>\n",
       "    <tr>\n",
       "      <th>location</th>\n",
       "      <td>south_america</td>\n",
       "      <td>south_america</td>\n",
       "      <td>australia</td>\n",
       "      <td>australia</td>\n",
       "      <td>europe</td>\n",
       "    </tr>\n",
       "    <tr>\n",
       "      <th>interaction_count</th>\n",
       "      <td>4</td>\n",
       "      <td>1</td>\n",
       "      <td>3</td>\n",
       "      <td>1</td>\n",
       "      <td>3</td>\n",
       "    </tr>\n",
       "    <tr>\n",
       "      <th>lead_score</th>\n",
       "      <td>0.94</td>\n",
       "      <td>0.8</td>\n",
       "      <td>0.69</td>\n",
       "      <td>0.87</td>\n",
       "      <td>0.62</td>\n",
       "    </tr>\n",
       "    <tr>\n",
       "      <th>converted</th>\n",
       "      <td>1</td>\n",
       "      <td>0</td>\n",
       "      <td>1</td>\n",
       "      <td>0</td>\n",
       "      <td>1</td>\n",
       "    </tr>\n",
       "  </tbody>\n",
       "</table>\n",
       "</div>"
      ],
      "text/plain": [
       "                                      0              1           2          3  \\\n",
       "lead_source                    paid_ads   social_media      events   paid_ads   \n",
       "industry                            NaN         retail  healthcare     retail   \n",
       "number_of_courses_viewed              1              1           5          2   \n",
       "annual_income                   79450.0        46992.0     78796.0    83843.0   \n",
       "employment_status            unemployed       employed  unemployed        NaN   \n",
       "location                  south_america  south_america   australia  australia   \n",
       "interaction_count                     4              1           3          1   \n",
       "lead_score                         0.94            0.8        0.69       0.87   \n",
       "converted                             1              0           1          0   \n",
       "\n",
       "                                      4  \n",
       "lead_source                    referral  \n",
       "industry                      education  \n",
       "number_of_courses_viewed              3  \n",
       "annual_income                   85012.0  \n",
       "employment_status         self_employed  \n",
       "location                         europe  \n",
       "interaction_count                     3  \n",
       "lead_score                         0.62  \n",
       "converted                             1  "
      ]
     },
     "metadata": {},
     "output_type": "display_data"
    }
   ],
   "source": [
    "display(data.head().T)"
   ]
  },
  {
   "cell_type": "markdown",
   "id": "a4cc9c89",
   "metadata": {},
   "source": [
    "- Number of missing values"
   ]
  },
  {
   "cell_type": "code",
   "execution_count": 5,
   "id": "7eb63574",
   "metadata": {},
   "outputs": [
    {
     "data": {
      "application/vnd.microsoft.datawrangler.viewer.v0+json": {
       "columns": [
        {
         "name": "index",
         "rawType": "object",
         "type": "string"
        },
        {
         "name": "0",
         "rawType": "int64",
         "type": "integer"
        }
       ],
       "ref": "04cd9f90-b828-48a4-a505-dd2f969886b0",
       "rows": [
        [
         "annual_income",
         "181"
        ],
        [
         "industry",
         "134"
        ],
        [
         "lead_source",
         "128"
        ],
        [
         "employment_status",
         "100"
        ],
        [
         "location",
         "63"
        ],
        [
         "number_of_courses_viewed",
         "0"
        ],
        [
         "interaction_count",
         "0"
        ],
        [
         "lead_score",
         "0"
        ],
        [
         "converted",
         "0"
        ]
       ],
       "shape": {
        "columns": 1,
        "rows": 9
       }
      },
      "text/plain": [
       "annual_income               181\n",
       "industry                    134\n",
       "lead_source                 128\n",
       "employment_status           100\n",
       "location                     63\n",
       "number_of_courses_viewed      0\n",
       "interaction_count             0\n",
       "lead_score                    0\n",
       "converted                     0\n",
       "dtype: int64"
      ]
     },
     "execution_count": 5,
     "metadata": {},
     "output_type": "execute_result"
    }
   ],
   "source": [
    "data.isnull().sum().sort_values(ascending=False)"
   ]
  },
  {
   "cell_type": "markdown",
   "id": "fa8b51ef",
   "metadata": {},
   "source": [
    "- Descriptive stats"
   ]
  },
  {
   "cell_type": "code",
   "execution_count": 6,
   "id": "83d2c795",
   "metadata": {},
   "outputs": [
    {
     "data": {
      "application/vnd.microsoft.datawrangler.viewer.v0+json": {
       "columns": [
        {
         "name": "index",
         "rawType": "object",
         "type": "string"
        },
        {
         "name": "lead_source",
         "rawType": "object",
         "type": "unknown"
        },
        {
         "name": "industry",
         "rawType": "object",
         "type": "unknown"
        },
        {
         "name": "employment_status",
         "rawType": "object",
         "type": "unknown"
        },
        {
         "name": "location",
         "rawType": "object",
         "type": "unknown"
        }
       ],
       "ref": "68300ab7-fcbc-49a5-8b77-962973aac235",
       "rows": [
        [
         "count",
         "1334",
         "1328",
         "1362",
         "1399"
        ],
        [
         "unique",
         "5",
         "7",
         "4",
         "7"
        ],
        [
         "top",
         "organic_search",
         "retail",
         "self_employed",
         "north_america"
        ],
        [
         "freq",
         "282",
         "203",
         "352",
         "225"
        ]
       ],
       "shape": {
        "columns": 4,
        "rows": 4
       }
      },
      "text/html": [
       "<div>\n",
       "<style scoped>\n",
       "    .dataframe tbody tr th:only-of-type {\n",
       "        vertical-align: middle;\n",
       "    }\n",
       "\n",
       "    .dataframe tbody tr th {\n",
       "        vertical-align: top;\n",
       "    }\n",
       "\n",
       "    .dataframe thead th {\n",
       "        text-align: right;\n",
       "    }\n",
       "</style>\n",
       "<table border=\"1\" class=\"dataframe\">\n",
       "  <thead>\n",
       "    <tr style=\"text-align: right;\">\n",
       "      <th></th>\n",
       "      <th>lead_source</th>\n",
       "      <th>industry</th>\n",
       "      <th>employment_status</th>\n",
       "      <th>location</th>\n",
       "    </tr>\n",
       "  </thead>\n",
       "  <tbody>\n",
       "    <tr>\n",
       "      <th>count</th>\n",
       "      <td>1334</td>\n",
       "      <td>1328</td>\n",
       "      <td>1362</td>\n",
       "      <td>1399</td>\n",
       "    </tr>\n",
       "    <tr>\n",
       "      <th>unique</th>\n",
       "      <td>5</td>\n",
       "      <td>7</td>\n",
       "      <td>4</td>\n",
       "      <td>7</td>\n",
       "    </tr>\n",
       "    <tr>\n",
       "      <th>top</th>\n",
       "      <td>organic_search</td>\n",
       "      <td>retail</td>\n",
       "      <td>self_employed</td>\n",
       "      <td>north_america</td>\n",
       "    </tr>\n",
       "    <tr>\n",
       "      <th>freq</th>\n",
       "      <td>282</td>\n",
       "      <td>203</td>\n",
       "      <td>352</td>\n",
       "      <td>225</td>\n",
       "    </tr>\n",
       "  </tbody>\n",
       "</table>\n",
       "</div>"
      ],
      "text/plain": [
       "           lead_source industry employment_status       location\n",
       "count             1334     1328              1362           1399\n",
       "unique               5        7                 4              7\n",
       "top     organic_search   retail     self_employed  north_america\n",
       "freq               282      203               352            225"
      ]
     },
     "execution_count": 6,
     "metadata": {},
     "output_type": "execute_result"
    }
   ],
   "source": [
    "data.describe(include='object')"
   ]
  },
  {
   "cell_type": "code",
   "execution_count": 7,
   "id": "dd16a460",
   "metadata": {},
   "outputs": [
    {
     "data": {
      "application/vnd.microsoft.datawrangler.viewer.v0+json": {
       "columns": [
        {
         "name": "index",
         "rawType": "object",
         "type": "string"
        },
        {
         "name": "number_of_courses_viewed",
         "rawType": "float64",
         "type": "float"
        },
        {
         "name": "annual_income",
         "rawType": "float64",
         "type": "float"
        },
        {
         "name": "interaction_count",
         "rawType": "float64",
         "type": "float"
        },
        {
         "name": "lead_score",
         "rawType": "float64",
         "type": "float"
        },
        {
         "name": "converted",
         "rawType": "float64",
         "type": "float"
        }
       ],
       "ref": "cef4f4dd-c8e1-46fb-aa82-19009ce522b2",
       "rows": [
        [
         "count",
         "1462.0",
         "1281.0",
         "1462.0",
         "1462.0",
         "1462.0"
        ],
        [
         "mean",
         "2.031",
         "59886.273",
         "2.977",
         "0.506",
         "0.619"
        ],
        [
         "std",
         "1.45",
         "15070.14",
         "1.682",
         "0.288",
         "0.486"
        ],
        [
         "min",
         "0.0",
         "13929.0",
         "0.0",
         "0.0",
         "0.0"
        ],
        [
         "25%",
         "1.0",
         "49698.0",
         "2.0",
         "0.262",
         "0.0"
        ],
        [
         "50%",
         "2.0",
         "60148.0",
         "3.0",
         "0.51",
         "1.0"
        ],
        [
         "75%",
         "3.0",
         "69639.0",
         "4.0",
         "0.75",
         "1.0"
        ],
        [
         "max",
         "9.0",
         "109899.0",
         "11.0",
         "1.0",
         "1.0"
        ]
       ],
       "shape": {
        "columns": 5,
        "rows": 8
       }
      },
      "text/html": [
       "<div>\n",
       "<style scoped>\n",
       "    .dataframe tbody tr th:only-of-type {\n",
       "        vertical-align: middle;\n",
       "    }\n",
       "\n",
       "    .dataframe tbody tr th {\n",
       "        vertical-align: top;\n",
       "    }\n",
       "\n",
       "    .dataframe thead th {\n",
       "        text-align: right;\n",
       "    }\n",
       "</style>\n",
       "<table border=\"1\" class=\"dataframe\">\n",
       "  <thead>\n",
       "    <tr style=\"text-align: right;\">\n",
       "      <th></th>\n",
       "      <th>number_of_courses_viewed</th>\n",
       "      <th>annual_income</th>\n",
       "      <th>interaction_count</th>\n",
       "      <th>lead_score</th>\n",
       "      <th>converted</th>\n",
       "    </tr>\n",
       "  </thead>\n",
       "  <tbody>\n",
       "    <tr>\n",
       "      <th>count</th>\n",
       "      <td>1462.000</td>\n",
       "      <td>1281.000</td>\n",
       "      <td>1462.000</td>\n",
       "      <td>1462.000</td>\n",
       "      <td>1462.000</td>\n",
       "    </tr>\n",
       "    <tr>\n",
       "      <th>mean</th>\n",
       "      <td>2.031</td>\n",
       "      <td>59886.273</td>\n",
       "      <td>2.977</td>\n",
       "      <td>0.506</td>\n",
       "      <td>0.619</td>\n",
       "    </tr>\n",
       "    <tr>\n",
       "      <th>std</th>\n",
       "      <td>1.450</td>\n",
       "      <td>15070.140</td>\n",
       "      <td>1.682</td>\n",
       "      <td>0.288</td>\n",
       "      <td>0.486</td>\n",
       "    </tr>\n",
       "    <tr>\n",
       "      <th>min</th>\n",
       "      <td>0.000</td>\n",
       "      <td>13929.000</td>\n",
       "      <td>0.000</td>\n",
       "      <td>0.000</td>\n",
       "      <td>0.000</td>\n",
       "    </tr>\n",
       "    <tr>\n",
       "      <th>25%</th>\n",
       "      <td>1.000</td>\n",
       "      <td>49698.000</td>\n",
       "      <td>2.000</td>\n",
       "      <td>0.262</td>\n",
       "      <td>0.000</td>\n",
       "    </tr>\n",
       "    <tr>\n",
       "      <th>50%</th>\n",
       "      <td>2.000</td>\n",
       "      <td>60148.000</td>\n",
       "      <td>3.000</td>\n",
       "      <td>0.510</td>\n",
       "      <td>1.000</td>\n",
       "    </tr>\n",
       "    <tr>\n",
       "      <th>75%</th>\n",
       "      <td>3.000</td>\n",
       "      <td>69639.000</td>\n",
       "      <td>4.000</td>\n",
       "      <td>0.750</td>\n",
       "      <td>1.000</td>\n",
       "    </tr>\n",
       "    <tr>\n",
       "      <th>max</th>\n",
       "      <td>9.000</td>\n",
       "      <td>109899.000</td>\n",
       "      <td>11.000</td>\n",
       "      <td>1.000</td>\n",
       "      <td>1.000</td>\n",
       "    </tr>\n",
       "  </tbody>\n",
       "</table>\n",
       "</div>"
      ],
      "text/plain": [
       "       number_of_courses_viewed  annual_income  interaction_count  lead_score  \\\n",
       "count                  1462.000       1281.000           1462.000    1462.000   \n",
       "mean                      2.031      59886.273              2.977       0.506   \n",
       "std                       1.450      15070.140              1.682       0.288   \n",
       "min                       0.000      13929.000              0.000       0.000   \n",
       "25%                       1.000      49698.000              2.000       0.262   \n",
       "50%                       2.000      60148.000              3.000       0.510   \n",
       "75%                       3.000      69639.000              4.000       0.750   \n",
       "max                       9.000     109899.000             11.000       1.000   \n",
       "\n",
       "       converted  \n",
       "count   1462.000  \n",
       "mean       0.619  \n",
       "std        0.486  \n",
       "min        0.000  \n",
       "25%        0.000  \n",
       "50%        1.000  \n",
       "75%        1.000  \n",
       "max        1.000  "
      ]
     },
     "execution_count": 7,
     "metadata": {},
     "output_type": "execute_result"
    }
   ],
   "source": [
    "data.describe(include='number').round(3)"
   ]
  },
  {
   "cell_type": "markdown",
   "id": "a7eea8f7",
   "metadata": {},
   "source": [
    "- Check data types"
   ]
  },
  {
   "cell_type": "code",
   "execution_count": 8,
   "id": "28be0e20",
   "metadata": {},
   "outputs": [
    {
     "data": {
      "application/vnd.microsoft.datawrangler.viewer.v0+json": {
       "columns": [
        {
         "name": "index",
         "rawType": "object",
         "type": "string"
        },
        {
         "name": "0",
         "rawType": "object",
         "type": "unknown"
        }
       ],
       "ref": "16a2c1a9-b85d-4f40-80ea-32e3ac7c726c",
       "rows": [
        [
         "lead_source",
         "object"
        ],
        [
         "industry",
         "object"
        ],
        [
         "number_of_courses_viewed",
         "int64"
        ],
        [
         "annual_income",
         "float64"
        ],
        [
         "employment_status",
         "object"
        ],
        [
         "location",
         "object"
        ],
        [
         "interaction_count",
         "int64"
        ],
        [
         "lead_score",
         "float64"
        ],
        [
         "converted",
         "int64"
        ]
       ],
       "shape": {
        "columns": 1,
        "rows": 9
       }
      },
      "text/plain": [
       "lead_source                  object\n",
       "industry                     object\n",
       "number_of_courses_viewed      int64\n",
       "annual_income               float64\n",
       "employment_status            object\n",
       "location                     object\n",
       "interaction_count             int64\n",
       "lead_score                  float64\n",
       "converted                     int64\n",
       "dtype: object"
      ]
     },
     "execution_count": 8,
     "metadata": {},
     "output_type": "execute_result"
    }
   ],
   "source": [
    "data.dtypes"
   ]
  },
  {
   "cell_type": "code",
   "execution_count": 9,
   "id": "95f775a2",
   "metadata": {},
   "outputs": [
    {
     "data": {
      "text/plain": [
       "['lead_source', 'industry', 'employment_status', 'location']"
      ]
     },
     "metadata": {},
     "output_type": "display_data"
    },
    {
     "data": {
      "text/plain": [
       "['number_of_courses_viewed',\n",
       " 'annual_income',\n",
       " 'interaction_count',\n",
       " 'lead_score',\n",
       " 'converted']"
      ]
     },
     "metadata": {},
     "output_type": "display_data"
    }
   ],
   "source": [
    "categor_feature = list(data.dtypes[data.dtypes=='object'].index)\n",
    "numer_feature = list(data.dtypes[data.dtypes!='object'].index)\n",
    "display(categor_feature, numer_feature)"
   ]
  },
  {
   "cell_type": "markdown",
   "id": "7c171439",
   "metadata": {},
   "source": [
    "- Fill missing observations"
   ]
  },
  {
   "cell_type": "code",
   "execution_count": 10,
   "id": "5fe8488a",
   "metadata": {},
   "outputs": [
    {
     "data": {
      "application/vnd.microsoft.datawrangler.viewer.v0+json": {
       "columns": [
        {
         "name": "index",
         "rawType": "object",
         "type": "string"
        },
        {
         "name": "0",
         "rawType": "int64",
         "type": "integer"
        }
       ],
       "ref": "a48679e6-26bd-44f6-9429-dbe3a022c856",
       "rows": [
        [
         "lead_source",
         "0"
        ],
        [
         "industry",
         "0"
        ],
        [
         "number_of_courses_viewed",
         "0"
        ],
        [
         "annual_income",
         "0"
        ],
        [
         "employment_status",
         "0"
        ],
        [
         "location",
         "0"
        ],
        [
         "interaction_count",
         "0"
        ],
        [
         "lead_score",
         "0"
        ],
        [
         "converted",
         "0"
        ]
       ],
       "shape": {
        "columns": 1,
        "rows": 9
       }
      },
      "text/plain": [
       "lead_source                 0\n",
       "industry                    0\n",
       "number_of_courses_viewed    0\n",
       "annual_income               0\n",
       "employment_status           0\n",
       "location                    0\n",
       "interaction_count           0\n",
       "lead_score                  0\n",
       "converted                   0\n",
       "dtype: int64"
      ]
     },
     "execution_count": 10,
     "metadata": {},
     "output_type": "execute_result"
    }
   ],
   "source": [
    "data[categor_feature] = data[categor_feature].fillna('NA')\n",
    "data[numer_feature] = data[numer_feature].fillna(0)\n",
    "\n",
    "data.isnull().sum().sort_values(ascending=False)"
   ]
  },
  {
   "cell_type": "code",
   "execution_count": 11,
   "id": "40c8fc67",
   "metadata": {},
   "outputs": [
    {
     "data": {
      "text/plain": [
       "(876, 293, 293)"
      ]
     },
     "execution_count": 11,
     "metadata": {},
     "output_type": "execute_result"
    }
   ],
   "source": [
    "# Split the data into 3 parts: train/validation/test with 60%/20%/20% distribution. Use train_test_split function for that with random_state=1\n",
    "# Train, Test, Validation split\n",
    "\n",
    "df_full_train, df_test = train_test_split(data,\n",
    "                                           test_size=0.2,\n",
    "                                           random_state=1\n",
    "                                           )\n",
    "df_train, df_val = train_test_split(df_full_train,\n",
    "                                    test_size=0.25,\n",
    "                                    random_state=1\n",
    "                                    )\n",
    "\n",
    "len(df_train), len(df_test), len(df_val)"
   ]
  },
  {
   "cell_type": "code",
   "execution_count": 12,
   "id": "38837263",
   "metadata": {},
   "outputs": [],
   "source": [
    "# Prepare final control variables\n",
    "features = numer_feature + categor_feature\n",
    "features.remove('converted')\n",
    "target = 'converted'"
   ]
  },
  {
   "cell_type": "code",
   "execution_count": 13,
   "id": "f3aa27f9",
   "metadata": {},
   "outputs": [],
   "source": [
    "X_train = df_train[features].reset_index(drop=True)\n",
    "y_train = df_train.converted.values\n",
    "\n",
    "X_val = df_val[features].reset_index(drop=True)\n",
    "y_val = df_val.converted.values\n",
    "\n",
    "X_test = df_test[features].reset_index(drop=True)\n",
    "y_test = df_test.converted.values"
   ]
  },
  {
   "cell_type": "markdown",
   "id": "2a42525c",
   "metadata": {},
   "source": [
    "### 🧮 Question 1: ROC AUC feature importance\n",
    "ROC AUC could also be used to evaluate feature importance of numerical variables.\n",
    "\n",
    "For each numerical variable, use it as score (aka prediction) and compute the AUC with the y variable as ground truth.\n",
    "Use the training dataset for that\n",
    "If your AUC is < 0.5, invert this variable by putting \"-\" in front\n",
    "\n",
    "(e.g. -df_train['balance'])\n",
    "\n",
    "AUC can go below 0.5 if the variable is negatively correlated with the target variable. \n",
    "You can change the direction of the correlation by negating this variable - then negative correlation becomes positive.\n",
    "\n",
    "Which numerical variable (among the following 4) has the highest AUC?\n",
    "\n",
    "    - lead_score\n",
    "    - number_of_courses_viewed\n",
    "    - interaction_count\n",
    "    - annual_income"
   ]
  },
  {
   "cell_type": "code",
   "execution_count": 14,
   "id": "3d106fea",
   "metadata": {},
   "outputs": [
    {
     "name": "stdout",
     "output_type": "stream",
     "text": [
      "Feature name \"number_of_courses_viewed\" has the highest AUC of 0.764\n"
     ]
    }
   ],
   "source": [
    "# Exclude target variable\n",
    "numer_control = numer_feature.copy()\n",
    "numer_control.remove(target)\n",
    "\n",
    "final_score = {}\n",
    "for var in numer_control:\n",
    "    auc = metrics.roc_auc_score(y_train, X_train[var])\n",
    "    if auc < 0.5:\n",
    "        auc = metrics.roc_auc_score(y_train, -X_train[var])\n",
    "    final_score[var] = auc\n",
    "    \n",
    "max_var = max(final_score, key = final_score.get)\n",
    "max_auc = final_score[max_var]  \n",
    "print(f'Feature name \"{max_var}\" has the highest AUC of {max_auc:.3f}')  "
   ]
  },
  {
   "cell_type": "markdown",
   "id": "24c884d0",
   "metadata": {},
   "source": [
    "### 🧠 Question 2: Training the model\n",
    "Apply one-hot-encoding using DictVectorizer and train the logistic regression with these parameters:\n",
    "\n",
    "LogisticRegression(solver='liblinear', C=1.0, max_iter=1000)\n",
    "\n",
    "What's the AUC of this model on the validation dataset? (round to 3 digits)\n",
    "\n",
    "    - 0.32\n",
    "    - 0.52\n",
    "    - 0.72\n",
    "    - 0.92\n"
   ]
  },
  {
   "cell_type": "code",
   "execution_count": 15,
   "id": "2a169dd3",
   "metadata": {},
   "outputs": [
    {
     "data": {
      "text/plain": [
       "(876, 31)"
      ]
     },
     "metadata": {},
     "output_type": "display_data"
    },
    {
     "data": {
      "text/plain": [
       "(293, 31)"
      ]
     },
     "metadata": {},
     "output_type": "display_data"
    }
   ],
   "source": [
    "# Apply one-hot ecoding\n",
    "dv = DictVectorizer(sparse=False)\n",
    "\n",
    "X_train = dv.fit_transform(X_train.to_dict(orient=\"records\"))\n",
    "X_val = dv.transform(X_val.to_dict(orient='records'))\n",
    "display(X_train.shape, X_val.shape)"
   ]
  },
  {
   "cell_type": "code",
   "execution_count": 16,
   "id": "331812ab",
   "metadata": {},
   "outputs": [
    {
     "name": "stdout",
     "output_type": "stream",
     "text": [
      "The AUC of the validation data is 0.817\n"
     ]
    }
   ],
   "source": [
    "# Fit the model\n",
    "\n",
    "model = linear_model.LogisticRegression(\n",
    "    solver=\"liblinear\",\n",
    "    C = 1.0,\n",
    "    max_iter=1000\n",
    "    )\n",
    "model.fit(X_train, y_train)\n",
    "y_pred = model.predict_proba(X_val)[:, 1]\n",
    "\n",
    "# AUC\n",
    "auc = metrics.roc_auc_score(y_val, y_pred)\n",
    "print(f\"The AUC of the validation data is {auc:.3f}\")\n"
   ]
  },
  {
   "cell_type": "markdown",
   "id": "5b3c302c",
   "metadata": {},
   "source": [
    "### 🎯 Question 3: Precision and Recall\n",
    "Now let's compute precision and recall for our model.\n",
    "\n",
    "Evaluate the model on all thresholds from 0.0 to 1.0 with step 0.01\n",
    "For each threshold, compute precision and recall\n",
    "Plot them\n",
    "\n",
    "At which threshold do precision and recall curves intersect?\n",
    "\n",
    "    - 0.145\n",
    "    - 0.345\n",
    "    - 0.545\n",
    "    - 0.745"
   ]
  },
  {
   "cell_type": "code",
   "execution_count": 42,
   "id": "22ed6b47",
   "metadata": {},
   "outputs": [
    {
     "name": "stdout",
     "output_type": "stream",
     "text": [
      "The threshold where recall and precision intersect is 0.64\n"
     ]
    }
   ],
   "source": [
    "thresholds = np.linspace(0, 1.0, num=101)\n",
    "\n",
    "scores = []\n",
    "\n",
    "for t in thresholds:\n",
    "    y_pred_dummy = (y_pred >= t).astype(int)\n",
    "    \n",
    "    # Estimate precision and recall\n",
    "    prec = metrics.precision_score(y_val, y_pred_dummy, zero_division=0)\n",
    "    recall = metrics.recall_score(y_val, y_pred_dummy)\n",
    "    scores.append ((prec, recall, t))\n",
    "\n",
    "df_scores = pd.DataFrame(scores, columns=['precision', 'recall', 'threshold'])    \n",
    "\n",
    "# Find where precision and recall are closest\n",
    "df_scores['diff'] = abs(df_scores['precision'] - df_scores['recall'])\n",
    "# Keep only meaningful values (both nonzero)\n",
    "df_scores_valid = df_scores.query(\"precision != 0 & recall != 0\")\n",
    "\n",
    "# We should use loc as idxmin() gives the row label rather than index. 3 does not mean 4th element, rather number with label 3\n",
    "intersection = df_scores_valid.loc[df_scores_valid['diff'].idxmin()]\n",
    "\n",
    "print(f'The threshold where recall and precision intersect is {intersection['threshold']}')    \n"
   ]
  },
  {
   "cell_type": "code",
   "execution_count": 48,
   "id": "c9151791",
   "metadata": {},
   "outputs": [
    {
     "data": {
      "image/png": "[encoded data removed]",
      "text/plain": [
       "<Figure size 640x480 with 1 Axes>"
      ]
     },
     "metadata": {},
     "output_type": "display_data"
    }
   ],
   "source": [
    "# Plot precision and recall metrics\n",
    "plt.plot(df_scores['threshold'], df_scores['recall'],  label = 'Recall')\n",
    "plt.plot(df_scores['threshold'], df_scores['precision'],  label = 'Precision')\n",
    "\n",
    "plt.axvline(\n",
    "    x=intersection['threshold'],\n",
    "    color=\"gray\",\n",
    "    linestyle=\"--\",\n",
    "    label=f\"Intersection Threshold at ~ {intersection['threshold']:.2f}\",\n",
    ")\n",
    "\n",
    "plt.legend();"
   ]
  },
  {
   "cell_type": "markdown",
   "id": "1dfcf488",
   "metadata": {},
   "source": [
    "### Question 4: F1 score\n",
    "\n",
    "Precision and recall are conflicting — when one grows, the other goes down.  \n",
    "That's why they are often combined into the **F1 score** — a metric that takes into account both.\n",
    "\n",
    "This is the formula for computing F1:\n",
    "\n",
    "$$\n",
    "F_1 = 2 \\cdot \\frac{P \\cdot R}{P + R}\n",
    "$$\n",
    "\n",
    "Where $P$ is precision and $R$ is recall.\n",
    "\n",
    "Let's compute F1 for all thresholds from 0.0 to 1.0 with increment 0.01.\n",
    "\n",
    "**Question:**  \n",
    "At which threshold F1 is maximal?\n",
    "\n",
    "    - 0.14  \n",
    "    - 0.34  \n",
    "    - 0.54  \n",
    "    - 0.74\n"
   ]
  }
 ],
 "metadata": {
  "kernelspec": {
   "display_name": "base",
   "language": "python",
   "name": "python3"
  },
  "language_info": {
   "codemirror_mode": {
    "name": "ipython",
    "version": 3
   },
   "file_extension": ".py",
   "mimetype": "text/x-python",
   "name": "python",
   "nbconvert_exporter": "python",
   "pygments_lexer": "ipython3",
   "version": "3.12.7"
  }
 },
 "nbformat": 4,
 "nbformat_minor": 5
}
